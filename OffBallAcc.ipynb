{
 "cells": [
  {
   "cell_type": "code",
   "execution_count": 29,
   "metadata": {},
   "outputs": [],
   "source": [
    "import pandas as pd\n",
    "import numpy as np\n",
    "from lxml import etree\n",
    "import xml.etree.ElementTree as ET\n",
    "import time\n",
    "import math\n",
    "import pylab as pl\n",
    "import matplotlib.pyplot as plt\n",
    "import seaborn as sns # improves plot aesthetics"
   ]
  },
  {
   "cell_type": "markdown",
   "metadata": {},
   "source": [
    "# Functions"
   ]
  },
  {
   "cell_type": "code",
   "execution_count": 30,
   "metadata": {},
   "outputs": [],
   "source": [
    "class DataReader:\n",
    "  \"\"\"\n",
    "  Main class to read in xml files provided by the DFB.\n",
    "\n",
    "  Returns:\n",
    "      ElementTree root: The root of the xml document.\n",
    "\n",
    "  \"\"\"\n",
    "\n",
    "  def __init__(self,xml_file):\n",
    "    self.xml_root = self._load_data(xml_file)\n",
    "\n",
    "\n",
    "  def _load_data(self,xml_file):\n",
    "    tree = ET.parse(xml_file)\n",
    "    root = tree.getroot()\n",
    "    return root\n",
    "\n",
    "  def create_dataframe(self,df_cols=None,findall_string=\".//Object\",time_search=None):\n",
    "    \"\"\"\n",
    "    Create a dataframe from the xml inputs\n",
    "\n",
    "    Args:\n",
    "        df_cols (list): Optional, the column names. If no names given, columns\n",
    "          detected automatically\n",
    "        findall_string (str): The xpath string to iterate trees (https://www.w3schools.com/xml/xml_xpath.asp)\n",
    "        time_search (float): Will currently look at parent if it's an Event, it\n",
    "          will compare the time_search to the EventTime. I.e. this is a means of getting\n",
    "          all passes before the frame time.\n",
    "\n",
    "    Returns:\n",
    "        pd.dataframe\n",
    "    \"\"\"\n",
    "\n",
    "    populate_column_names=False\n",
    "    if df_cols is None:\n",
    "        df_cols = []\n",
    "        populate_column_names=True\n",
    "\n",
    "    out_df = pd.DataFrame(columns = df_cols)\n",
    "\n",
    "    parent_map = dict((c, p) for p in self.xml_root.getiterator() for c in p)\n",
    "    for node in self.xml_root.findall(findall_string):\n",
    "        if time_search is not None:\n",
    "          if (parent_map[node].tag != \"Event\"): continue\n",
    "          event_time = parent_map[node].attrib[\"EventTime\"]\n",
    "          ts = ciso8601.parse_datetime(event_time)\n",
    "          # to get time in seconds:\n",
    "          seconds=time.mktime(ts.timetuple())\n",
    "          # If timestamp is larger than the search, exit\n",
    "          if seconds > time_search: continue\n",
    "\n",
    "        # If column names are not provided, get them\n",
    "        if populate_column_names==True:\n",
    "            for key,value in node.attrib.items():\n",
    "                df_cols.append(key)\n",
    "                populate_column_names=False\n",
    "\n",
    "        res = []\n",
    "        for c in df_cols:\n",
    "            res.append(node.attrib.get(c))\n",
    "        out_df = out_df.append(pd.Series(res, index = df_cols), ignore_index=True)\n",
    "    return out_df\n"
   ]
  },
  {
   "cell_type": "code",
   "execution_count": 31,
   "metadata": {},
   "outputs": [],
   "source": [
    "def get_tracking_data(xml_positions, half='firstHalf'):\n",
    "        \"\"\"Returns a dataframe with the tracking (position: x, y, z) of all players + the ball\n",
    "        \n",
    "        Dropping rows where ball positions is NAN\n",
    "\n",
    "        +-------+-----------+-----------+\n",
    "        |       |   BALL    |  TeamId   |\n",
    "        +       +-----------+-----------+\n",
    "        |       |  BallId   | PlayerId  |\n",
    "        + N | T +---+---+---+---+---+---+\n",
    "        |       | X | Y | Z | X | Y | A |\n",
    "        +=======+===+===+===+===+===+===+\n",
    "        | 0 | 0 |123|456|789|012|456|789|\n",
    "        +-------+-----------+-----------+\n",
    "\n",
    "        :param xml_positions: the parsed xml tracking data (lxml object)\n",
    "        :param half: the description of the half: either \"firstHalf\" or \"secondHalf\", etc.\n",
    "        :return: a dataframe containing the tracking data: position of all players and the ball\n",
    "        \"\"\"\n",
    "        def change_type(df, frameset):\n",
    "            \"\"\"\n",
    "            change type of columns\n",
    "            different columns names and tpyes for the ball and for the rest of the players\n",
    "            \"\"\"\n",
    "            if frameset.attrib.get('TeamId') == 'BALL':\n",
    "                return df.astype(\n",
    "                    # change types of columns for the ball\n",
    "                    dtype={\n",
    "                        'A':float, \n",
    "                        'D':float, \n",
    "                        'M':int, \n",
    "                        'N':int, \n",
    "                        'S':float, \n",
    "                        'X':float, \n",
    "                        'Y':float,\n",
    "                        'Z':float,\n",
    "                        #'T':'datetime64[ns]', # this breaks the timezone\n",
    "                        'BallPossession':int, \n",
    "                        'BallStatus':int,\n",
    "                    }, \n",
    "                    errors='raise'\n",
    "                )\n",
    "            else:\n",
    "                return df.astype(\n",
    "                    # change types of columns for the players\n",
    "                    dtype={\n",
    "                        'A':float, \n",
    "                        'D':float, \n",
    "                        'M':int, \n",
    "                        'N':int, \n",
    "                        'S':float, \n",
    "                        'X':float, \n",
    "                        'Y':float,\n",
    "                        #'T':'datetime64[ns]', # this breaks the timezone\n",
    "                    }, \n",
    "                    errors='raise'\n",
    "                )\n",
    "        \n",
    "\n",
    "        def create_columns(df, frameset):\n",
    "            \"\"\"A utility function to create a multiindex columns\"\"\"\n",
    "            person_id = frameset.attrib.get('PersonId')\n",
    "            team_id = frameset.attrib.get('TeamId')\n",
    "            df.columns = pd.MultiIndex.from_product(\n",
    "                [[team_id], [person_id], df.columns],\n",
    "                names=['TeamId', 'PersonId', 'Position']\n",
    "            )\n",
    "            return df\n",
    "\n",
    "        tracking_players = pd.concat([\n",
    "            pd.DataFrame.from_records(\n",
    "                [dict(frame.attrib) for frame in frameset.getchildren()]\n",
    "            ).pipe(change_type, frameset=frameset)\n",
    "             .set_index(['N', 'T'])\n",
    "             .pipe(create_columns, frameset=frameset)\n",
    "            for frameset in xml_positions.xpath(F'//Positions/FrameSet[@GameSection = \"{half}\"]')\n",
    "        ], axis=1, sort=False)\n",
    "        \n",
    "        # this is casting the 'T' values in the index to datetime with the correct time zone\n",
    "        tracking_players.index.set_levels(pd.to_datetime(tracking_players.index.get_level_values(1)), level=1, inplace = True)\n",
    "\n",
    "        return tracking_players"
   ]
  },
  {
   "cell_type": "code",
   "execution_count": 32,
   "metadata": {},
   "outputs": [],
   "source": [
    "def calculateDistance(x1,y1,x2,y2):  \n",
    "    if np.isnan(x1)==True or np.isnan(y1)==True or np.isnan(x2)==True or np.isnan(y2)==True:\n",
    "        dist=float('NaN')\n",
    "    else:\n",
    "        dist = math.sqrt((x2 - x1)**2 + (y2 - y1)**2)  \n",
    "    return dist  "
   ]
  },
  {
   "cell_type": "code",
   "execution_count": 33,
   "metadata": {},
   "outputs": [],
   "source": [
    "def directionplayframe(frame,teamid):\n",
    "    ###Check for teamid\n",
    "    if teamid == CUID1:\n",
    "        gk_df=cuid1_team_meta_df.loc[cuid1_team_meta_df['PlayingPositionEnglish']=='goalkeeper'] #select goalkeeper information from team with clubid1\n",
    "        gks=gk_df['ObjectId'] #select only the ids\n",
    "        frame1=half['1st half'] #define start of first half\n",
    "        frame2=half['2nd half'] #define start of second half\n",
    "        if frame<frame2:  #if the selected frame is smaller than frame2 the frame lies within the first half \n",
    "            for items in gks.iteritems():  # iterating through the list of goalkeeper\n",
    "                if (teamid,items[1],'X') in positions.columns:  #if the id is part of the tracking data column names then continue\n",
    "                    gkpos=positions.loc[(slice(frame1,frame2),),(slice(None),items[1],['X','Y'])] \n",
    "                    if gkpos[teamid,items[1],'X'].mean() < 0:\n",
    "                        dirofplay = 'left to right'\n",
    "                        return dirofplay\n",
    "                    else:\n",
    "                        dirofplay = 'right to left'\n",
    "                        return dirofplay\n",
    "        else:\n",
    "            for items in gks.iteritems():\n",
    "                if (teamid,items[1],'X') in positions.columns:\n",
    "                    gkpos=positions.loc[(slice(frame1,frame2),),(slice(None),items[1],['X','Y'])]\n",
    "                    if gkpos[teamid,items[1],'X'].mean() < 0:\n",
    "                        dirofplay = 'right to left'\n",
    "                        return dirofplay\n",
    "                    else:\n",
    "                        dirofplay = 'left to right'\n",
    "                        return dirofplay\n",
    "    if teamid == CUID2:\n",
    "        gk_df=cuid2_team_meta_df.loc[cuid2_team_meta_df['PlayingPositionEnglish']=='goalkeeper']\n",
    "        gks=gk_df['ObjectId']\n",
    "        frame1=half['1st half']\n",
    "        frame2=half['2nd half']\n",
    "        if frame<frame2:\n",
    "            for items in gks.iteritems():\n",
    "                if (teamid,items[1],'X') in positions.columns:\n",
    "                    gkpos=positions.loc[(slice(frame1,frame2),),(slice(None),items[1],['X','Y'])]\n",
    "                    if gkpos[teamid,items[1],'X'].mean() < 0:\n",
    "                        dirofplay = 'left to right'\n",
    "                        return dirofplay\n",
    "                    else:\n",
    "                        dirofplay = 'right to left'\n",
    "                        return dirofplay\n",
    "        else:\n",
    "            for items in gks.iteritems():\n",
    "                if (teamid,items[1],'X') in positions.columns:\n",
    "                    gkpos=positions.loc[(slice(frame1,frame2),),(slice(None),items[1],['X','Y'])]\n",
    "                    if gkpos[teamid,items[1],'X'].mean() < 0:\n",
    "                        dirofplay = 'right to left'\n",
    "                        return dirofplay\n",
    "                    else:\n",
    "                        dirofplay = 'left to right'\n",
    "                        return dirofplay"
   ]
  },
  {
   "cell_type": "code",
   "execution_count": 34,
   "metadata": {},
   "outputs": [],
   "source": [
    "##selbe funktion wie createsprintdf mit dem Unterschied, dass auf andere Funktionen zugegriffen wird\n",
    "def createsprintdf2(half,teamid,playerid,acc,depth,distance):\n",
    "    dfa=matchinfo.get(half)[\"Dataframe\"][teamid,playerid,'A'][matchinfo.get(half)[\"Dataframe\"][teamid,playerid,'A']>acc]\n",
    "    startframe=[]\n",
    "    endframe=[]\n",
    "    for idx, val in enumerate(dfa):\n",
    "        if idx==0:\n",
    "            startframe.append(dfa.index.get_level_values('N')[idx])\n",
    "        if 0<idx and idx<dfa.count()-1:\n",
    "            if float(dfa.index.get_level_values('N')[idx])-float(dfa.index.get_level_values('N')[idx-1]) > 50:\n",
    "                endframe.append(dfa.index.get_level_values('N')[idx-1])\n",
    "                startframe.append(dfa.index.get_level_values('N')[idx])\n",
    "        if idx==dfa.count()-1:\n",
    "            endframe.append(dfa.index.get_level_values('N')[idx])\n",
    "    sprintframes = {'Startframe': startframe,\n",
    "                     'Endframe': endframe}\n",
    "    sprintframesdf = pd.DataFrame(sprintframes,columns= ['Startframe', 'Endframe'])\n",
    "    sprintframesdf[\"Adj Endframe\"]=0\n",
    "    sprintframesdf[\"BP\"]=0\n",
    "    sprintframesdf[\"FinalThird\"]=0\n",
    "    sprintframesdf[\"Poss\"]=0\n",
    "    sprintframesdf[\"Forward\"]=0\n",
    "    sprintframesdf=adjframe2(half,sprintframesdf,matchinfo.get(teamid)[\"TeamID\"],playerid)\n",
    "    sprintframesdf=calcBP2(half,sprintframesdf,matchinfo.get(teamid)[\"TeamID\"],playerid)\n",
    "    sprintframesdf=calcfinalthird2(half,sprintframesdf,matchinfo.get(teamid)[\"TeamID\"],playerid,depth)\n",
    "    sprintframesdf=checkposs2(half,sprintframesdf,matchinfo.get(teamid)[\"TeamID\"],playerid,distance)\n",
    "    sprintframesdf=forward2(half,sprintframesdf,matchinfo.get(teamid)[\"TeamID\"],playerid)\n",
    "    return sprintframesdf"
   ]
  },
  {
   "cell_type": "code",
   "execution_count": 35,
   "metadata": {},
   "outputs": [],
   "source": [
    "def adjframe2 (half,df,teamid, playerid):\n",
    "    if half==1:\n",
    "        for i in range(len(df.index)):\n",
    "            for j in range(1000):\n",
    "                difspeed=matchinfo.get(teamid)[\"TeamBallDf1\"].loc[df.iloc[i,0]+j+1,(teamid,playerid,(\"S\"))].iat[0]-matchinfo.get(teamid)[\"TeamBallDf1\"].loc[df.iloc[i,0]+j,(teamid,playerid,(\"S\"))].iat[0]\n",
    "                difspeed2=matchinfo.get(teamid)[\"TeamBallDf1\"].loc[df.iloc[i,0]+j+2,(teamid,playerid,(\"S\"))].iat[0]-matchinfo.get(teamid)[\"TeamBallDf1\"].loc[df.iloc[i,0]+j+1,(teamid,playerid,(\"S\"))].iat[0]\n",
    "                if difspeed<0 or difspeed2<0:\n",
    "                    adjend=df.iloc[i,0]+j+1\n",
    "                    df.iloc[i,2]=adjend\n",
    "                    break\n",
    "    if half==2:\n",
    "        for i in range(len(df.index)):\n",
    "            for j in range(1000):\n",
    "                difspeed=matchinfo.get(teamid)[\"TeamBallDf2\"].loc[df.iloc[i,0]+j+1,(teamid,playerid,(\"S\"))].iat[0]-matchinfo.get(teamid)[\"TeamBallDf2\"].loc[df.iloc[i,0]+j,(teamid,playerid,(\"S\"))].iat[0]\n",
    "                difspeed2=matchinfo.get(teamid)[\"TeamBallDf2\"].loc[df.iloc[i,0]+j+2,(teamid,playerid,(\"S\"))].iat[0]-matchinfo.get(teamid)[\"TeamBallDf2\"].loc[df.iloc[i,0]+j+1,(teamid,playerid,(\"S\"))].iat[0]\n",
    "                if difspeed<0 or difspeed2<0:\n",
    "                    adjend=df.iloc[i,0]+j+1\n",
    "                    df.iloc[i,2]=adjend\n",
    "                    break\n",
    "    return df"
   ]
  },
  {
   "cell_type": "code",
   "execution_count": 36,
   "metadata": {},
   "outputs": [],
   "source": [
    "def calcBP2(half,df,teamid,playerid):\n",
    "    for i in range(len(df.index)):\n",
    "        ballposs=(matchinfo.get(half)[\"Dataframe\"].loc[(slice(df.iloc[i,0],df.iloc[i,2]),),(\"BALL\",\"DFL-OBJ-0000XT\",\"BallPossession\")]==matchinfo.get(teamid)[\"BallPoss\"]).sum()\n",
    "        if ballposs/len(matchinfo.get(half)[\"Dataframe\"].loc[(slice(df.iloc[i,0],df.iloc[i,2])),(\"BALL\",\"DFL-OBJ-0000XT\",\"BallPossession\")].index)>0.5:\n",
    "            df.loc[i,\"BP\"]=\"Yes\"\n",
    "        else:\n",
    "            df.loc[i,\"BP\"]=\"No\"\n",
    "    return df"
   ]
  },
  {
   "cell_type": "code",
   "execution_count": 37,
   "metadata": {},
   "outputs": [],
   "source": [
    "def calcfinalthird2(half,df,teamid,playerid,depth):\n",
    "    for i in range(len(df.index)):\n",
    "        if matchinfo.get(teamid)[half]==\"left to right\":\n",
    "            if (matchinfo.get(half)[\"Dataframe\"].loc[(slice(df.iloc[i,0],df.iloc[i,2]),),(teamid,playerid,\"X\")]>=depth).sum()/len(matchinfo.get(half)[\"Dataframe\"].loc[(slice(df.iloc[i,0],df.iloc[i,2])),:].index)>0.5:\n",
    "                df.loc[i,\"FinalThird\"]=\"Yes\"\n",
    "            else:\n",
    "                df.loc[i,\"FinalThird\"]=\"No\"\n",
    "        if matchinfo.get(teamid)[half]==\"right to left\":\n",
    "            if (matchinfo.get(half)[\"Dataframe\"].loc[(slice(df.iloc[i,0],df.iloc[i,2]),),(teamid,playerid,\"X\")]<=-depth).sum()/len(matchinfo.get(half)[\"Dataframe\"].loc[(slice(df.iloc[i,0],df.iloc[i,2])),:].index)>0.5:\n",
    "                df.loc[i,\"FinalThird\"]=\"Yes\"\n",
    "            else:\n",
    "                df.loc[i,\"FinalThird\"]=\"No\"         \n",
    "    return df"
   ]
  },
  {
   "cell_type": "code",
   "execution_count": 38,
   "metadata": {},
   "outputs": [],
   "source": [
    "##Überprüft ob der Spieler im Zeitfenster Ballkontakt hatte oder nicht\n",
    "##die länge des Zeitfensters wird berechnet, es wird sich die erste hälfte des zeitfenster angeguckt, wenn die distanz zum ball kleiner als 1 meter für die erste hälfte der zeitspanne ist\n",
    "##wird ein Yes gelabelt und sonst No, wenn mehr als 25% des Zeitfensters der ball näher als 1 meter vom spieler entfernt ist, so wird dem spieler in der phase ballbesitz zugerechnet\n",
    "def checkposs2(half,df,teamid,playerid,distance):\n",
    "    for i in range(len(df.index)):\n",
    "        startphase=math.ceil((df.iloc[i,2]-df.iloc[i,0])/2)\n",
    "        if (matchinfo.get(half)[\"Dataframe\"].loc[(slice(df.iloc[i,0],df.iloc[i,0]+startphase),),(teamid,playerid,\"DtB\")]<=distance).sum()>=startphase/2:\n",
    "            df.loc[i,\"Poss\"]=\"Yes\"\n",
    "        else:\n",
    "            df.loc[i,\"Poss\"]=\"No\"\n",
    "    return df"
   ]
  },
  {
   "cell_type": "code",
   "execution_count": 39,
   "metadata": {},
   "outputs": [],
   "source": [
    "def forward2(half,df,teamid,playerid):\n",
    "    for i in range(len(df.index)):\n",
    "        for j in range(df.iloc[i,2]-df.iloc[i,0]):\n",
    "            if matchinfo.get(teamid)[half]==\"left to right\":\n",
    "                if matchinfo.get(half)[\"Dataframe\"].loc[df.iloc[i,0]+j+1,(teamid,playerid,\"X\")].iat[0]-matchinfo.get(half)[\"Dataframe\"].loc[df.iloc[i,0]+j,(teamid,playerid,\"X\")].iat[0]<0:\n",
    "                    df.loc[i,\"Forward\"]=\"No\"\n",
    "                    break\n",
    "                else:\n",
    "                    df.loc[i,\"Forward\"]=\"Yes\"\n",
    "            if matchinfo.get(teamid)[half]==\"right to left\":\n",
    "                if matchinfo.get(half)[\"Dataframe\"].loc[df.iloc[i,0]+j+1,(teamid,playerid,\"X\")].iat[0]-matchinfo.get(half)[\"Dataframe\"].loc[df.iloc[i,0]+j,(teamid,playerid,\"X\")].iat[0]>0:\n",
    "                    df.loc[i,\"Forward\"]=\"No\"\n",
    "                    break\n",
    "                else:\n",
    "                    df.loc[i,\"Forward\"]=\"Yes\" \n",
    "    return df"
   ]
  },
  {
   "cell_type": "code",
   "execution_count": 40,
   "metadata": {},
   "outputs": [],
   "source": [
    "def getteamsheet(teamid,half):\n",
    "    teamsheet=matchinfo.get(half)[\"Dataframe\"].loc[matchinfo.get(half)[\"Dataframe\"].index.get_level_values(0)[0],(teamid,slice(None),\"X\")].columns.get_level_values(level=1).unique()\n",
    "    return teamsheet"
   ]
  },
  {
   "cell_type": "code",
   "execution_count": 57,
   "metadata": {},
   "outputs": [],
   "source": [
    "def getdirectionofplay(teamid,half):\n",
    "    if matchinfo.get(half)[\"Dataframe\"].loc[matchinfo.get(half)[\"Dataframe\"].index.get_level_values(0)[0],(teamid,slice(None),\"X\")].mean(axis=1).iat[0] < 0:\n",
    "        dirofplay = 'left to right'\n",
    "    if matchinfo.get(half)[\"Dataframe\"].loc[matchinfo.get(half)[\"Dataframe\"].index.get_level_values(0)[0],(teamid,slice(None),\"X\")].mean(axis=1).iat[0] > 0:\n",
    "        dirofplay = 'right to left'\n",
    "    return  dirofplay"
   ]
  },
  {
   "cell_type": "code",
   "execution_count": 60,
   "metadata": {},
   "outputs": [],
   "source": [
    "def possession(teamid,half,style):\n",
    "    \n",
    "    if style==\"standard\":\n",
    "        #anz=((balldf2.loc[:,(\"BALL\",\"DFL-OBJ-0000XT\",\"BallStatus\")]==1) & (balldf2.loc[:,(\"BALL\",\"DFL-OBJ-0000XT\",\"BallPossession\")]==1) & (balldf2.loc[:,(\"BALL\",\"DFL-OBJ-0000XT\",\"X\")]>=0)).sum()\n",
    "        anz=((matchinfo.get(half)[\"BallDf\"].loc[:,(\"BALL\",\"DFL-OBJ-0000XT\",\"BallPossession\")]==matchinfo.get(teamid)[\"BallPoss\"])).sum()\n",
    "        ges=len(matchinfo.get(half)[\"BallDf\"].loc[:,(\"BALL\",\"DFL-OBJ-0000XT\",\"BallPossession\")])\n",
    "        poss=anz/ges\n",
    "        minutes= anz/1500\n",
    "        \n",
    "    if style==\"cleaned standard\":\n",
    "        anz=((matchinfo.get(half)[\"BallDf\"].loc[:,(\"BALL\",\"DFL-OBJ-0000XT\",\"BallPossession\")]==matchinfo.get(teamid)[\"BallPoss\"]) & (matchinfo.get(half)[\"BallDf\"].loc[:,(\"BALL\",\"DFL-OBJ-0000XT\",\"BallStatus\")]==1)).sum()\n",
    "        ges=((matchinfo.get(half)[\"BallDf\"].loc[:,(\"BALL\",\"DFL-OBJ-0000XT\",\"BallStatus\")]==1)).sum()\n",
    "        poss=anz/ges\n",
    "        minutes= anz/1500\n",
    "        \n",
    "    if style==\"opposing half\":\n",
    "        if matchinfo.get(teamid)[half]==\"left to right\":\n",
    "            #anz=((balldf2.loc[:,(\"BALL\",\"DFL-OBJ-0000XT\",\"BallStatus\")]==1) & (balldf2.loc[:,(\"BALL\",\"DFL-OBJ-0000XT\",\"BallPossession\")]==1) & (balldf2.loc[:,(\"BALL\",\"DFL-OBJ-0000XT\",\"X\")]>=0)).sum()\n",
    "            anz=((matchinfo.get(half)[\"BallDf\"].loc[:,(\"BALL\",\"DFL-OBJ-0000XT\",\"BallPossession\")]==matchinfo.get(teamid)[\"BallPoss\"]) & (matchinfo.get(half)[\"BallDf\"].loc[:,(\"BALL\",\"DFL-OBJ-0000XT\",\"X\")]>=0)).sum()\n",
    "            ges=((matchinfo.get(half)[\"BallDf\"].loc[:,(\"BALL\",\"DFL-OBJ-0000XT\",\"BallPossession\")]==matchinfo.get(teamid)[\"BallPoss\"])).sum()\n",
    "            poss=anz/ges\n",
    "            minutes= anz/1500\n",
    "        if matchinfo.get(teamid)[half]==\"right to left\":\n",
    "            anz=((matchinfo.get(half)[\"BallDf\"].loc[:,(\"BALL\",\"DFL-OBJ-0000XT\",\"BallPossession\")]==matchinfo.get(teamid)[\"BallPoss\"]) & (matchinfo.get(half)[\"BallDf\"].loc[:,(\"BALL\",\"DFL-OBJ-0000XT\",\"X\")]<=0)).sum()\n",
    "            ges=((matchinfo.get(half)[\"BallDf\"].loc[:,(\"BALL\",\"DFL-OBJ-0000XT\",\"BallPossession\")]==matchinfo.get(teamid)[\"BallPoss\"])).sum()\n",
    "            poss=anz/ges\n",
    "            minutes= anz/1500\n",
    "\n",
    "    return poss,minutes"
   ]
  },
  {
   "cell_type": "markdown",
   "metadata": {},
   "source": [
    "# Test"
   ]
  },
  {
   "cell_type": "code",
   "execution_count": 2,
   "metadata": {},
   "outputs": [],
   "source": [
    "xml_positions = etree.parse('C:/Users/Jung/Desktop/Q-Index Master/19-06-12_Mainz_GER_EST Sportec Data/DFL_04_03_positions_raw_observed_DFL-COM-000001_DFL-MAT-003BEU.xml') ##arbeitsplatop"
   ]
  },
  {
   "cell_type": "code",
   "execution_count": 5,
   "metadata": {},
   "outputs": [],
   "source": [
    "kpimerged = pd.read_excel('C:/Users/Jung/Desktop/Q-Index Master/19-06-12_Mainz_GER_EST Sportec Data/DFB_KPI_Merged.xlsx') #arbeit"
   ]
  },
  {
   "cell_type": "code",
   "execution_count": 6,
   "metadata": {},
   "outputs": [],
   "source": [
    "path='C:/Users/Jung/Desktop/Q-Index Master/19-06-12_Mainz_GER_EST Sportec Data/'    #arbeit"
   ]
  },
  {
   "cell_type": "code",
   "execution_count": 5,
   "metadata": {},
   "outputs": [],
   "source": [
    "path='C:/Users/Tim/Desktop/QIndex/data/19-06-12_Mainz_GER_EST Sportec Data/'    #Privat"
   ]
  },
  {
   "cell_type": "code",
   "execution_count": 41,
   "metadata": {},
   "outputs": [],
   "source": [
    "xml_positions = etree.parse('C:/Users/Tim/Desktop/QIndex/data/19-06-12_Mainz_GER_EST Sportec Data/DFL_04_03_positions_raw_observed_DFL-COM-000001_DFL-MAT-003BEU.xml') ##privat\n",
    "kpimerged = pd.read_excel('C:/Users/Tim/Desktop/QIndex/data/19-06-12_Mainz_GER_EST Sportec Data/DFB_KPI_Merged.xlsx') ##privat"
   ]
  },
  {
   "cell_type": "code",
   "execution_count": 7,
   "metadata": {},
   "outputs": [],
   "source": [
    "kpimergednew = kpimerged.rename({'FRAME_NUMBER': 'N'}, axis=1)"
   ]
  },
  {
   "cell_type": "code",
   "execution_count": 10,
   "metadata": {},
   "outputs": [],
   "source": [
    "positions=get_tracking_data(xml_positions)     \n",
    "##create dataframe from xml input"
   ]
  },
  {
   "cell_type": "code",
   "execution_count": 11,
   "metadata": {},
   "outputs": [],
   "source": [
    "CUID1 = 'DFL-CLU-000N8Y'\n",
    "cuid1_player_info = \"DFL_01_05_masterdata_{}_DFL-SEA-0001K3_player (1).xml\".format(CUID1)\n",
    "cuid1_team_data = DataReader(path+cuid1_player_info)\n",
    "cuid1_team_meta_df = cuid1_team_data.create_dataframe()\n",
    "cuid1_player_IDs = cuid1_team_meta_df.ObjectId.tolist()"
   ]
  },
  {
   "cell_type": "code",
   "execution_count": 12,
   "metadata": {},
   "outputs": [],
   "source": [
    "CUID2 = 'DFL-CLU-000N8Z'\n",
    "cuid2_player_info = \"DFL_01_05_masterdata_{}_DFL-SEA-0001K3_player (1).xml\".format(CUID2)\n",
    "cuid2_team_data = DataReader(path+cuid2_player_info)\n",
    "cuid2_team_meta_df = cuid2_team_data.create_dataframe()\n",
    "cuid2_player_IDs = cuid2_team_meta_df.ObjectId.tolist()"
   ]
  },
  {
   "cell_type": "code",
   "execution_count": 161,
   "metadata": {},
   "outputs": [],
   "source": [
    "matchinfo = {\n",
    "    CUID1: {\n",
    "        1:\"left to right\",\n",
    "        2:\"right to left\",\n",
    "        \"BallPoss\":1,\n",
    "        \"TeamBallDf1\":cuid1balldf,\n",
    "        \"TeamBallDf2\":cuid1balldf2,\n",
    "        \"TeamID\":CUID1,\n",
    "    },\n",
    "    CUID2: {\n",
    "        1:\"right to left\",\n",
    "        2:\"left to right\",\n",
    "        \"BallPoss\":2,\n",
    "        \"TeamBallDf1\":cuid2balldf,\n",
    "        \"TeamBallDf2\":cuid2balldf2,\n",
    "        \"TeamID\":CUID2,\n",
    "    },\n",
    "    1: {\n",
    "       \"BallDf\":balldf, \n",
    "       \"Positions\":positions,\n",
    "    },\n",
    "    2: {\n",
    "       \"BallDf\":balldf2,\n",
    "       \"Positions\":positions2,\n",
    "    }\n",
    "}"
   ]
  },
  {
   "cell_type": "code",
   "execution_count": 14,
   "metadata": {},
   "outputs": [],
   "source": [
    "#calculates distance to ball for every player playing 1.half\n",
    "players=positions.columns.get_level_values(level=1).unique()\n",
    "for player in players:\n",
    "    if player in cuid1_player_IDs:\n",
    "        positions[CUID1,player,'DtB']=positions.apply(lambda x: calculateDistance(x[CUID1,player,'X'],x[CUID1,player,'Y'],x['BALL','DFL-OBJ-0000XT','X'],x['BALL','DFL-OBJ-0000XT','Y']),axis=1)\n",
    "    if player in cuid2_player_IDs:\n",
    "        positions[CUID2,player,'DtB']=positions.apply(lambda x: calculateDistance(x[CUID2,player,'X'],x[CUID2,player,'Y'],x['BALL','DFL-OBJ-0000XT','X'],x['BALL','DFL-OBJ-0000XT','Y']),axis=1)"
   ]
  },
  {
   "cell_type": "code",
   "execution_count": 16,
   "metadata": {},
   "outputs": [],
   "source": [
    "half={} # frames der kickoff zeiten in frames\n",
    "kickoffs=kpimergednew[(kpimergednew['SUBTYPE']=='Kickoff')].index.tolist()\n",
    "for i in kickoffs:\n",
    "    if i != 0:\n",
    "        framedif=kpimergednew.iloc[i].N -kpimergednew.iloc[i-2].N\n",
    "        if framedif > 10000:\n",
    "            half['2nd half']=kpimergednew.iloc[i].N\n",
    "    else:\n",
    "        half['1st half']=kpimergednew.iloc[i].N"
   ]
  },
  {
   "cell_type": "code",
   "execution_count": 22,
   "metadata": {},
   "outputs": [],
   "source": [
    "balldf=positions.loc[:,(\"BALL\",\"DFL-OBJ-0000XT\",slice(None))]   ##Ballkoordinaten 1. Halbzeit\n",
    "CUID1df = positions.loc[:,(CUID1,slice(None),slice(None))]     ##Koordinaten von CUID1 1. Halbzeit\n",
    "cuid1players=CUID1df.columns.get_level_values(level=1).unique()        ##Spieler, die in der 1. Halbzeit auf dem Platz standen\n",
    "cuid1balldf=pd.merge(CUID1df, balldf, left_index=True, right_index=True)   ##Gemergter Dataframe Ball und CUID1 1. Halbzeit"
   ]
  },
  {
   "cell_type": "code",
   "execution_count": 23,
   "metadata": {},
   "outputs": [],
   "source": [
    "CUID2df = positions.loc[:,(CUID2,slice(None),slice(None))]     ##Koordinaten von CUID2 1. Halbzeit\n",
    "cuid2players=CUID2df.columns.get_level_values(level=1).unique()        ##Spieler, die in der 1. Halbzeit auf dem Platz standen\n",
    "cuid2balldf=pd.merge(CUID2df, balldf, left_index=True, right_index=True)   ##Gemergter Dataframe Ball und CUID1 1. Halbzeit"
   ]
  },
  {
   "cell_type": "code",
   "execution_count": 145,
   "metadata": {
    "jupyter": {
     "source_hidden": true
    }
   },
   "outputs": [],
   "source": [
    "##selbe funktion wie createsprintdf mit dem Unterschied, dass auf andere Funktionen zugegriffen wird\n",
    "def createsprintdf(half,teamid,playerid,acc,depth,distance):\n",
    "    if half==1:\n",
    "        half=1\n",
    "        dfa=positions[teamid,playerid,'A'][positions[teamid,playerid,'A']>acc]\n",
    "        startframe=[]\n",
    "        endframe=[]\n",
    "        for idx, val in enumerate(dfa):\n",
    "            if idx==0:\n",
    "                 startframe.append(dfa.index.get_level_values('N')[idx])\n",
    "            if 0<idx and idx<dfa.count()-1:\n",
    "                if float(dfa.index.get_level_values('N')[idx])-float(dfa.index.get_level_values('N')[idx-1]) > 50:\n",
    "                    endframe.append(dfa.index.get_level_values('N')[idx-1])\n",
    "                    startframe.append(dfa.index.get_level_values('N')[idx])\n",
    "            if idx==dfa.count()-1:\n",
    "                endframe.append(dfa.index.get_level_values('N')[idx])\n",
    "        sprintframes = {'Startframe': startframe,\n",
    "                     'Endframe': endframe}\n",
    "        sprintframesdf = pd.DataFrame(sprintframes,columns= ['Startframe', 'Endframe'])\n",
    "        sprintframesdf[\"Adj Endframe\"]=0\n",
    "        sprintframesdf[\"BP\"]=0\n",
    "        sprintframesdf[\"FinalThird\"]=0\n",
    "        sprintframesdf[\"Poss\"]=0\n",
    "        sprintframesdf=adjframe(half,sprintframesdf,playerid)\n",
    "        sprintframesdf=calcBP(half,sprintframesdf,playerid)\n",
    "        sprintframesdf=calcfinalthird(half,sprintframesdf,playerid,depth)\n",
    "        sprintframesdf=checkposs(half,sprintframesdf,playerid,distance)\n",
    "    if half==2:\n",
    "        half=2\n",
    "        dfa=positions2[teamid,playerid,'A'][positions2[teamid,playerid,'A']>acc]\n",
    "        startframe=[]\n",
    "        endframe=[]\n",
    "        for idx, val in enumerate(dfa):\n",
    "            if idx==0:\n",
    "                 startframe.append(dfa.index.get_level_values('N')[idx])\n",
    "            if 0<idx and idx<dfa.count()-1:\n",
    "                if float(dfa.index.get_level_values('N')[idx])-float(dfa.index.get_level_values('N')[idx-1]) > 50:\n",
    "                    endframe.append(dfa.index.get_level_values('N')[idx-1])\n",
    "                    startframe.append(dfa.index.get_level_values('N')[idx])\n",
    "            if idx==dfa.count()-1:\n",
    "                endframe.append(dfa.index.get_level_values('N')[idx])\n",
    "        sprintframes = {'Startframe': startframe,\n",
    "                     'Endframe': endframe}\n",
    "        sprintframesdf = pd.DataFrame(sprintframes,columns= ['Startframe', 'Endframe'])\n",
    "        sprintframesdf[\"Adj Endframe\"]=0\n",
    "        sprintframesdf[\"BP\"]=0\n",
    "        sprintframesdf[\"FinalThird\"]=0\n",
    "        sprintframesdf[\"Poss\"]=0\n",
    "        sprintframesdf=adjframe(half,sprintframesdf,playerid)\n",
    "        sprintframesdf=calcBP(half,sprintframesdf,playerid)\n",
    "        sprintframesdf=calcfinalthird(half,sprintframesdf,playerid,depth)\n",
    "        sprintframesdf=checkposs(half,sprintframesdf,playerid,distance)\n",
    "    return sprintframesdf"
   ]
  },
  {
   "cell_type": "code",
   "execution_count": 18,
   "metadata": {
    "jupyter": {
     "source_hidden": true
    }
   },
   "outputs": [],
   "source": [
    "def adjframe (half,df, playerid):\n",
    "    if playerid in cuid1_player_IDs:\n",
    "        if half==1:\n",
    "            for i in range(len(df.index)):\n",
    "                for j in range(1000):\n",
    "                    difspeed=cuid1balldf.loc[df.iloc[i,0]+j+1,(CUID1,playerid,(\"S\"))].iat[0]-cuid1balldf.loc[df.iloc[i,0]+j,(CUID1,playerid,(\"S\"))].iat[0]\n",
    "                    difspeed2=cuid1balldf.loc[df.iloc[i,0]+j+2,(CUID1,playerid,(\"S\"))].iat[0]-cuid1balldf.loc[df.iloc[i,0]+j+1,(CUID1,playerid,(\"S\"))].iat[0]\n",
    "                    if difspeed<0 or difspeed2<0:\n",
    "                        adjend=df.iloc[i,0]+j+1\n",
    "                        df.iloc[i,2]=adjend\n",
    "                        break\n",
    "        if half==2:\n",
    "            for i in range(len(df.index)):\n",
    "                for j in range(1000):\n",
    "                    difspeed=cuid1balldf2.loc[df.iloc[i,0]+j+1,(CUID1,playerid,(\"S\"))].iat[0]-cuid1balldf2.loc[df.iloc[i,0]+j,(CUID1,playerid,(\"S\"))].iat[0]\n",
    "                    difspeed2=cuid1balldf2.loc[df.iloc[i,0]+j+2,(CUID1,playerid,(\"S\"))].iat[0]-cuid1balldf2.loc[df.iloc[i,0]+j+1,(CUID1,playerid,(\"S\"))].iat[0]\n",
    "                    if difspeed<0 or difspeed2<0:\n",
    "                        adjend=df.iloc[i,0]+j+1\n",
    "                        df.iloc[i,2]=adjend\n",
    "                        break\n",
    "    if playerid in cuid2_player_IDs:\n",
    "        if half==1:\n",
    "            for i in range(len(df.index)):\n",
    "                for j in range(1000):\n",
    "                    difspeed=cuid2balldf.loc[df.iloc[i,0]+j+1,(CUID2,playerid,(\"S\"))].iat[0]-cuid2balldf.loc[df.iloc[i,0]+j,(CUID2,playerid,(\"S\"))].iat[0]\n",
    "                    difspeed2=cuid2balldf.loc[df.iloc[i,0]+j+2,(CUID2,playerid,(\"S\"))].iat[0]-cuid2balldf.loc[df.iloc[i,0]+j+1,(CUID2,playerid,(\"S\"))].iat[0]\n",
    "                    if difspeed<0 or difspeed2<0:\n",
    "                        adjend=df.iloc[i,0]+j+1\n",
    "                        df.iloc[i,2]=adjend\n",
    "                        break\n",
    "        if half==2:\n",
    "            for i in range(len(df.index)):\n",
    "                for j in range(1000):\n",
    "                    difspeed=cuid2balldf2.loc[df.iloc[i,0]+j+1,(CUID2,playerid,(\"S\"))].iat[0]-cuid2balldf2.loc[df.iloc[i,0]+j,(CUID2,playerid,(\"S\"))].iat[0]\n",
    "                    difspeed2=cuid2balldf2.loc[df.iloc[i,0]+j+2,(CUID2,playerid,(\"S\"))].iat[0]-cuid2balldf2.loc[df.iloc[i,0]+j+1,(CUID2,playerid,(\"S\"))].iat[0]\n",
    "                    if difspeed<0 or difspeed2<0:\n",
    "                        adjend=df.iloc[i,0]+j+1\n",
    "                        df.iloc[i,2]=adjend\n",
    "                        break\n",
    "    return df"
   ]
  },
  {
   "cell_type": "code",
   "execution_count": 19,
   "metadata": {
    "jupyter": {
     "source_hidden": true
    }
   },
   "outputs": [],
   "source": [
    "def calcBP(half,df,playerid):\n",
    "    if playerid in cuid1_player_IDs:\n",
    "        if half==1:\n",
    "            for i in range(len(df.index)):\n",
    "                ballposs=(positions.loc[(slice(df.iloc[i,0],df.iloc[i,2]),),(\"BALL\",\"DFL-OBJ-0000XT\",\"BallPossession\")]==1).sum()\n",
    "                if ballposs/len(positions.loc[(slice(df.iloc[i,0],df.iloc[i,2])),(\"BALL\",\"DFL-OBJ-0000XT\",\"BallPossession\")].index)>0.5:\n",
    "                    df.loc[i,\"BP\"]=\"Yes\"\n",
    "                else:\n",
    "                    df.loc[i,\"BP\"]=\"No\"\n",
    "        if half==2:\n",
    "            for i in range(len(df.index)):\n",
    "                ballposs=(positions2.loc[(slice(df.iloc[i,0],df.iloc[i,2]),),(\"BALL\",\"DFL-OBJ-0000XT\",\"BallPossession\")]==1).sum()\n",
    "                if ballposs/len(positions2.loc[(slice(df.iloc[i,0],df.iloc[i,2])),(\"BALL\",\"DFL-OBJ-0000XT\",\"BallPossession\")].index)>0.5:\n",
    "                    df.loc[i,\"BP\"]=\"Yes\"\n",
    "                else:\n",
    "                    df.loc[i,\"BP\"]=\"No\"\n",
    "    if playerid in cuid2_player_IDs:\n",
    "        if half==1:\n",
    "            for i in range(len(df.index)):\n",
    "                ballposs=(positions.loc[(slice(df.iloc[i,0],df.iloc[i,2]),),(\"BALL\",\"DFL-OBJ-0000XT\",\"BallPossession\")]==2).sum()\n",
    "                if ballposs/len(positions.loc[(slice(df.iloc[i,0],df.iloc[i,2])),(\"BALL\",\"DFL-OBJ-0000XT\",\"BallPossession\")].index)>0.5:\n",
    "                    df.loc[i,\"BP\"]=\"Yes\"\n",
    "                else:\n",
    "                    df.loc[i,\"BP\"]=\"No\"\n",
    "        if half==2:\n",
    "            for i in range(len(df.index)):\n",
    "                ballposs=(positions2.loc[(slice(df.iloc[i,0],df.iloc[i,2]),),(\"BALL\",\"DFL-OBJ-0000XT\",\"BallPossession\")]==2).sum()\n",
    "                if ballposs/len(positions2.loc[(slice(df.iloc[i,0],df.iloc[i,2])),(\"BALL\",\"DFL-OBJ-0000XT\",\"BallPossession\")].index)>0.5:\n",
    "                    df.loc[i,\"BP\"]=\"Yes\"\n",
    "                else:\n",
    "                    df.loc[i,\"BP\"]=\"No\"\n",
    "    return df"
   ]
  },
  {
   "cell_type": "code",
   "execution_count": 20,
   "metadata": {
    "jupyter": {
     "source_hidden": true
    }
   },
   "outputs": [],
   "source": [
    "def calcfinalthird(half,df,playerid,depth):\n",
    "    if playerid in cuid1_player_IDs:\n",
    "        if half==1:\n",
    "            for i in range(len(df.index)):\n",
    "                if directionplayframe(df.iloc[i,0],CUID1)==\"left to right\":\n",
    "                    if (positions.loc[(slice(df.iloc[i,0],df.iloc[i,2]),),(CUID1,playerid,\"X\")]>=depth).sum()/len(positions.loc[(slice(df.iloc[i,0],df.iloc[i,2])),:].index)>0.5:\n",
    "                        df.loc[i,\"FinalThird\"]=\"Yes\"\n",
    "                    else:\n",
    "                        df.loc[i,\"FinalThird\"]=\"No\"\n",
    "                if directionplayframe(df.iloc[i,0],CUID1)==\"right to left\":\n",
    "                    if (positions.loc[(slice(df.iloc[i,0],df.iloc[i,2]),),(CUID1,playerid,\"X\")]<=-depth).sum()/len(positions.loc[(slice(df.iloc[i,0],df.iloc[i,2])),:].index)>0.5:\n",
    "                        df.loc[i,\"FinalThird\"]=\"Yes\"\n",
    "                    else:\n",
    "                        df.loc[i,\"FinalThird\"]=\"No\"\n",
    "        if half==2:\n",
    "            for i in range(len(df.index)):\n",
    "                if directionplayframe(df.iloc[i,0],CUID1)==\"left to right\":\n",
    "                    if (positions2.loc[(slice(df.iloc[i,0],df.iloc[i,2]),),(CUID1,playerid,\"X\")]>=depth).sum()/len(positions2.loc[(slice(df.iloc[i,0],df.iloc[i,2])),:].index)>0.5:\n",
    "                        df.loc[i,\"FinalThird\"]=\"Yes\"\n",
    "                    else:\n",
    "                        df.loc[i,\"FinalThird\"]=\"No\"\n",
    "                if directionplayframe(df.iloc[i,0],CUID1)==\"right to left\":\n",
    "                    if (positions2.loc[(slice(df.iloc[i,0],df.iloc[i,2]),),(CUID1,playerid,\"X\")]<=-depth).sum()/len(positions2.loc[(slice(df.iloc[i,0],df.iloc[i,2])),:].index)>0.5:\n",
    "                        df.loc[i,\"FinalThird\"]=\"Yes\"\n",
    "                    else:\n",
    "                        df.loc[i,\"FinalThird\"]=\"No\"            \n",
    "    if playerid in cuid2_player_IDs:\n",
    "        if half ==1:\n",
    "            for i in range(len(df.index)):\n",
    "                if directionplayframe(df.iloc[i,0],CUID2)==\"left to right\":\n",
    "                    if (positions.loc[(slice(df.iloc[i,0],df.iloc[i,2]),),(CUID2,playerid,\"X\")]>=depth).sum()/len(positions.loc[(slice(df.iloc[i,0],df.iloc[i,2])),:].index)>0.5:\n",
    "                        df.loc[i,\"FinalThird\"]=\"Yes\"\n",
    "                    else:\n",
    "                        df.loc[i,\"FinalThird\"]=\"No\"\n",
    "                if directionplayframe(df.iloc[i,0],CUID2)==\"right to left\":\n",
    "                    if (positions.loc[(slice(df.iloc[i,0],df.iloc[i,2]),),(CUID2,playerid,\"X\")]<=-depth).sum()/len(positions.loc[(slice(df.iloc[i,0],df.iloc[i,2])),:].index)>0.5:\n",
    "                        df.loc[i,\"FinalThird\"]=\"Yes\"\n",
    "                    else:\n",
    "                        df.loc[i,\"FinalThird\"]=\"No\"\n",
    "        if half==2:\n",
    "            for i in range(len(df.index)):\n",
    "                if directionplayframe(df.iloc[i,0],CUID2)==\"left to right\":\n",
    "                    if (positions2.loc[(slice(df.iloc[i,0],df.iloc[i,2]),),(CUID2,playerid,\"X\")]>=depth).sum()/len(positions2.loc[(slice(df.iloc[i,0],df.iloc[i,2])),:].index)>0.5:\n",
    "                        df.loc[i,\"FinalThird\"]=\"Yes\"\n",
    "                    else:\n",
    "                        df.loc[i,\"FinalThird\"]=\"No\"\n",
    "                if directionplayframe(df.iloc[i,0],CUID2)==\"right to left\":\n",
    "                    if (positions2.loc[(slice(df.iloc[i,0],df.iloc[i,2]),),(CUID2,playerid,\"X\")]<=-depth).sum()/len(positions2.loc[(slice(df.iloc[i,0],df.iloc[i,2])),:].index)>0.5:\n",
    "                        df.loc[i,\"FinalThird\"]=\"Yes\"\n",
    "                    else:\n",
    "                        df.loc[i,\"FinalThird\"]=\"No\"\n",
    "    return df"
   ]
  },
  {
   "cell_type": "code",
   "execution_count": 21,
   "metadata": {
    "jupyter": {
     "source_hidden": true
    }
   },
   "outputs": [],
   "source": [
    "##Überprüft ob der Spieler im Zeitfenster Ballkontakt hatte oder nicht\n",
    "##die länge des Zeitfensters wird berechnet, es wird sich die erste hälfte des zeitfenster angeguckt, wenn die distanz zum ball kleiner als 1 meter für die erste hälfte der zeitspanne ist\n",
    "##wird ein Yes gelabelt und sonst No, wenn mehr als 25% des Zeitfensters der ball näher als 1 meter vom spieler entfernt ist, so wird dem spieler in der phase ballbesitz zugerechnet\n",
    "def checkposs(half,df,playerid,distance):\n",
    "    if playerid in cuid1_player_IDs:\n",
    "        if half==1:\n",
    "            for i in range(len(df.index)):\n",
    "                startphase=math.ceil((df.iloc[i,2]-df.iloc[i,0])/2)\n",
    "                if (positions.loc[(slice(df.iloc[i,0],df.iloc[i,0]+startphase),),(CUID1,playerid,\"DtB\")]<=distance).sum()>=startphase/2:\n",
    "                    df.loc[i,\"Poss\"]=\"Yes\"\n",
    "                else:\n",
    "                    df.loc[i,\"Poss\"]=\"No\"\n",
    "        if half==2:\n",
    "            for i in range(len(df.index)):\n",
    "                startphase=math.ceil((df.iloc[i,2]-df.iloc[i,0])/2)\n",
    "                if (positions2.loc[(slice(df.iloc[i,0],df.iloc[i,0]+startphase),),(CUID1,playerid,\"DtB\")]<=distance).sum()>=startphase/2:\n",
    "                    df.loc[i,\"Poss\"]=\"Yes\"\n",
    "                else:\n",
    "                    df.loc[i,\"Poss\"]=\"No\"            \n",
    "    if playerid in cuid2_player_IDs:\n",
    "        if half==1:\n",
    "            for i in range(len(df.index)):\n",
    "                startphase=math.ceil((df.iloc[i,2]-df.iloc[i,0])/2)\n",
    "                if (positions.loc[(slice(df.iloc[i,0],df.iloc[i,0]+startphase),),(CUID2,playerid,\"DtB\")]<=distance).sum()>=startphase/2:\n",
    "                    df.loc[i,\"Poss\"]=\"Yes\"\n",
    "                else:\n",
    "                    df.loc[i,\"Poss\"]=\"No\"\n",
    "        if half==2:\n",
    "            for i in range(len(df.index)):\n",
    "                startphase=math.ceil((df.iloc[i,2]-df.iloc[i,0])/2)\n",
    "                if (positions2.loc[(slice(df.iloc[i,0],df.iloc[i,0]+startphase),),(CUID2,playerid,\"DtB\")]<=distance).sum()>=startphase/2:\n",
    "                    df.loc[i,\"Poss\"]=\"Yes\"\n",
    "                else:\n",
    "                    df.loc[i,\"Poss\"]=\"No\"\n",
    "    return df"
   ]
  },
  {
   "cell_type": "code",
   "execution_count": 173,
   "metadata": {},
   "outputs": [
    {
     "data": {
      "text/plain": [
       "0.030000000000001137"
      ]
     },
     "execution_count": 173,
     "metadata": {},
     "output_type": "execute_result"
    }
   ],
   "source": [
    "positions.loc[12326,(CUID1,\"DFL-OBJ-0000O3\",\"X\")].iat[0]-positions.loc[12325,(CUID1,\"DFL-OBJ-0000O3\",\"X\")].iat[0]"
   ]
  },
  {
   "cell_type": "code",
   "execution_count": 265,
   "metadata": {},
   "outputs": [
    {
     "name": "stdout",
     "output_type": "stream",
     "text": [
      "73\n"
     ]
    }
   ],
   "source": [
    "###Zusammenspiel aller Codeschnipsel für alle Spieler\n",
    "numofsprints=0\n",
    "for player in cuid1players:\n",
    "    currentdf=createsprintdf2(1,CUID1,player,4,17.5,1)\n",
    "    indexNames = currentdf[ currentdf['Adj Endframe']-currentdf['Startframe'] < 10 ].index\n",
    "    currentdf.drop(indexNames , inplace=True)\n",
    "    numofsprints=numofsprints+len(currentdf[(currentdf.BP==\"Yes\") & (currentdf.FinalThird==\"Yes\") & (currentdf.Poss==\"No\")& (currentdf.Forward==\"Yes\")].index)\n",
    "print(numofsprints)"
   ]
  },
  {
   "cell_type": "code",
   "execution_count": 266,
   "metadata": {},
   "outputs": [
    {
     "name": "stdout",
     "output_type": "stream",
     "text": [
      "77\n"
     ]
    }
   ],
   "source": [
    "numofsprints=0\n",
    "for player in cuid1players2:\n",
    "    currentdf=createsprintdf2(2,CUID1,player,4,17.5,1)\n",
    "    indexNames = currentdf[ currentdf['Adj Endframe']-currentdf['Startframe'] < 10 ].index\n",
    "    currentdf.drop(indexNames , inplace=True)\n",
    "    numofsprints=numofsprints+len(currentdf[(currentdf.BP==\"Yes\") & (currentdf.FinalThird==\"Yes\") & (currentdf.Poss==\"No\")& (currentdf.Forward==\"Yes\")].index)\n",
    "print(numofsprints)"
   ]
  },
  {
   "cell_type": "code",
   "execution_count": 267,
   "metadata": {},
   "outputs": [
    {
     "name": "stdout",
     "output_type": "stream",
     "text": [
      "4\n"
     ]
    }
   ],
   "source": [
    "numofsprints=0\n",
    "for player in cuid2players:\n",
    "    currentdf=createsprintdf2(1,CUID2,player,4,17.5,1)\n",
    "    indexNames = currentdf[ currentdf['Adj Endframe']-currentdf['Startframe'] < 10 ].index\n",
    "    currentdf.drop(indexNames , inplace=True)\n",
    "    numofsprints=numofsprints+len(currentdf[(currentdf.BP==\"Yes\") & (currentdf.FinalThird==\"Yes\") & (currentdf.Poss==\"No\")& (currentdf.Forward==\"Yes\")].index)\n",
    "print(numofsprints)"
   ]
  },
  {
   "cell_type": "code",
   "execution_count": 268,
   "metadata": {},
   "outputs": [
    {
     "name": "stdout",
     "output_type": "stream",
     "text": [
      "3\n"
     ]
    }
   ],
   "source": [
    "numofsprints=0\n",
    "for player in cuid2players2:\n",
    "    currentdf=createsprintdf2(2,CUID2,player,4,17.5,1)\n",
    "    indexNames = currentdf[ currentdf['Adj Endframe']-currentdf['Startframe'] < 10 ].index\n",
    "    currentdf.drop(indexNames , inplace=True)\n",
    "    numofsprints=numofsprints+len(currentdf[(currentdf.BP==\"Yes\") & (currentdf.FinalThird==\"Yes\") & (currentdf.Poss==\"No\")& (currentdf.Forward==\"Yes\")].index)\n",
    "print(numofsprints)"
   ]
  },
  {
   "cell_type": "code",
   "execution_count": null,
   "metadata": {},
   "outputs": [],
   "source": []
  },
  {
   "cell_type": "code",
   "execution_count": null,
   "metadata": {},
   "outputs": [],
   "source": []
  },
  {
   "cell_type": "code",
   "execution_count": 234,
   "metadata": {},
   "outputs": [
    {
     "data": {
      "text/html": [
       "<div>\n",
       "<style scoped>\n",
       "    .dataframe tbody tr th:only-of-type {\n",
       "        vertical-align: middle;\n",
       "    }\n",
       "\n",
       "    .dataframe tbody tr th {\n",
       "        vertical-align: top;\n",
       "    }\n",
       "\n",
       "    .dataframe thead th {\n",
       "        text-align: right;\n",
       "    }\n",
       "</style>\n",
       "<table border=\"1\" class=\"dataframe\">\n",
       "  <thead>\n",
       "    <tr style=\"text-align: right;\">\n",
       "      <th></th>\n",
       "      <th>Startframe</th>\n",
       "      <th>Endframe</th>\n",
       "      <th>Adj Endframe</th>\n",
       "      <th>BP</th>\n",
       "      <th>FinalThird</th>\n",
       "      <th>Poss</th>\n",
       "      <th>Forward</th>\n",
       "    </tr>\n",
       "  </thead>\n",
       "  <tbody>\n",
       "    <tr>\n",
       "      <th>0</th>\n",
       "      <td>11981</td>\n",
       "      <td>11990</td>\n",
       "      <td>12017</td>\n",
       "      <td>Yes</td>\n",
       "      <td>No</td>\n",
       "      <td>Yes</td>\n",
       "      <td>Yes</td>\n",
       "    </tr>\n",
       "    <tr>\n",
       "      <th>1</th>\n",
       "      <td>23291</td>\n",
       "      <td>23294</td>\n",
       "      <td>23307</td>\n",
       "      <td>Yes</td>\n",
       "      <td>Yes</td>\n",
       "      <td>No</td>\n",
       "      <td>Yes</td>\n",
       "    </tr>\n",
       "    <tr>\n",
       "      <th>2</th>\n",
       "      <td>26329</td>\n",
       "      <td>26331</td>\n",
       "      <td>26330</td>\n",
       "      <td>Yes</td>\n",
       "      <td>Yes</td>\n",
       "      <td>No</td>\n",
       "      <td>Yes</td>\n",
       "    </tr>\n",
       "    <tr>\n",
       "      <th>3</th>\n",
       "      <td>34438</td>\n",
       "      <td>34446</td>\n",
       "      <td>34471</td>\n",
       "      <td>Yes</td>\n",
       "      <td>Yes</td>\n",
       "      <td>No</td>\n",
       "      <td>Yes</td>\n",
       "    </tr>\n",
       "    <tr>\n",
       "      <th>4</th>\n",
       "      <td>40531</td>\n",
       "      <td>40539</td>\n",
       "      <td>40571</td>\n",
       "      <td>No</td>\n",
       "      <td>No</td>\n",
       "      <td>No</td>\n",
       "      <td>Yes</td>\n",
       "    </tr>\n",
       "    <tr>\n",
       "      <th>5</th>\n",
       "      <td>40741</td>\n",
       "      <td>40749</td>\n",
       "      <td>40742</td>\n",
       "      <td>No</td>\n",
       "      <td>Yes</td>\n",
       "      <td>No</td>\n",
       "      <td>Yes</td>\n",
       "    </tr>\n",
       "    <tr>\n",
       "      <th>6</th>\n",
       "      <td>41095</td>\n",
       "      <td>41097</td>\n",
       "      <td>41111</td>\n",
       "      <td>Yes</td>\n",
       "      <td>No</td>\n",
       "      <td>No</td>\n",
       "      <td>Yes</td>\n",
       "    </tr>\n",
       "    <tr>\n",
       "      <th>7</th>\n",
       "      <td>44928</td>\n",
       "      <td>44935</td>\n",
       "      <td>44930</td>\n",
       "      <td>Yes</td>\n",
       "      <td>Yes</td>\n",
       "      <td>No</td>\n",
       "      <td>No</td>\n",
       "    </tr>\n",
       "    <tr>\n",
       "      <th>8</th>\n",
       "      <td>45208</td>\n",
       "      <td>45211</td>\n",
       "      <td>45219</td>\n",
       "      <td>No</td>\n",
       "      <td>Yes</td>\n",
       "      <td>No</td>\n",
       "      <td>No</td>\n",
       "    </tr>\n",
       "    <tr>\n",
       "      <th>9</th>\n",
       "      <td>51041</td>\n",
       "      <td>51044</td>\n",
       "      <td>51057</td>\n",
       "      <td>Yes</td>\n",
       "      <td>No</td>\n",
       "      <td>No</td>\n",
       "      <td>Yes</td>\n",
       "    </tr>\n",
       "    <tr>\n",
       "      <th>10</th>\n",
       "      <td>57844</td>\n",
       "      <td>57852</td>\n",
       "      <td>57866</td>\n",
       "      <td>Yes</td>\n",
       "      <td>Yes</td>\n",
       "      <td>No</td>\n",
       "      <td>No</td>\n",
       "    </tr>\n",
       "  </tbody>\n",
       "</table>\n",
       "</div>"
      ],
      "text/plain": [
       "    Startframe  Endframe  Adj Endframe   BP FinalThird Poss Forward\n",
       "0        11981     11990         12017  Yes         No  Yes     Yes\n",
       "1        23291     23294         23307  Yes        Yes   No     Yes\n",
       "2        26329     26331         26330  Yes        Yes   No     Yes\n",
       "3        34438     34446         34471  Yes        Yes   No     Yes\n",
       "4        40531     40539         40571   No         No   No     Yes\n",
       "5        40741     40749         40742   No        Yes   No     Yes\n",
       "6        41095     41097         41111  Yes         No   No     Yes\n",
       "7        44928     44935         44930  Yes        Yes   No      No\n",
       "8        45208     45211         45219   No        Yes   No      No\n",
       "9        51041     51044         51057  Yes         No   No     Yes\n",
       "10       57844     57852         57866  Yes        Yes   No      No"
      ]
     },
     "execution_count": 234,
     "metadata": {},
     "output_type": "execute_result"
    }
   ],
   "source": [
    "player=\"DFL-OBJ-0027G6\"\n",
    "team=CUID1\n",
    "half=1\n",
    "testdf=createsprintdf2(half,team,player,5,17.5,1)\n",
    "testdf"
   ]
  },
  {
   "cell_type": "code",
   "execution_count": 235,
   "metadata": {},
   "outputs": [
    {
     "data": {
      "text/plain": [
       "11981"
      ]
     },
     "execution_count": 235,
     "metadata": {},
     "output_type": "execute_result"
    }
   ],
   "source": [
    "testdf.Startframe[0]"
   ]
  },
  {
   "cell_type": "code",
   "execution_count": 217,
   "metadata": {},
   "outputs": [
    {
     "data": {
      "text/plain": [
       "3"
      ]
     },
     "execution_count": 217,
     "metadata": {},
     "output_type": "execute_result"
    }
   ],
   "source": [
    "indexNames = testdf[ testdf['Adj Endframe']-testdf['Startframe'] < 10 ].index\n",
    "testdf.drop(indexNames , inplace=True)\n",
    "len(testdf[(testdf.BP==\"Yes\") & (testdf.FinalThird==\"Yes\") & (testdf.Poss==\"No\")].index)"
   ]
  },
  {
   "cell_type": "code",
   "execution_count": 263,
   "metadata": {
    "collapsed": true,
    "jupyter": {
     "outputs_hidden": true
    }
   },
   "outputs": [
    {
     "data": {
      "text/html": [
       "<div>\n",
       "<style scoped>\n",
       "    .dataframe tbody tr th:only-of-type {\n",
       "        vertical-align: middle;\n",
       "    }\n",
       "\n",
       "    .dataframe tbody tr th {\n",
       "        vertical-align: top;\n",
       "    }\n",
       "\n",
       "    .dataframe thead tr th {\n",
       "        text-align: left;\n",
       "    }\n",
       "\n",
       "    .dataframe thead tr:last-of-type th {\n",
       "        text-align: right;\n",
       "    }\n",
       "</style>\n",
       "<table border=\"1\" class=\"dataframe\">\n",
       "  <thead>\n",
       "    <tr>\n",
       "      <th></th>\n",
       "      <th>TeamId</th>\n",
       "      <th colspan=\"5\" halign=\"left\">DFL-CLU-000N8Y</th>\n",
       "    </tr>\n",
       "    <tr>\n",
       "      <th></th>\n",
       "      <th>PersonId</th>\n",
       "      <th colspan=\"5\" halign=\"left\">DFL-OBJ-0027G6</th>\n",
       "    </tr>\n",
       "    <tr>\n",
       "      <th></th>\n",
       "      <th>Position</th>\n",
       "      <th>A</th>\n",
       "      <th>S</th>\n",
       "      <th>X</th>\n",
       "      <th>Y</th>\n",
       "      <th>DtB</th>\n",
       "    </tr>\n",
       "    <tr>\n",
       "      <th>N</th>\n",
       "      <th>T</th>\n",
       "      <th></th>\n",
       "      <th></th>\n",
       "      <th></th>\n",
       "      <th></th>\n",
       "      <th></th>\n",
       "    </tr>\n",
       "  </thead>\n",
       "  <tbody>\n",
       "    <tr>\n",
       "      <th>26329</th>\n",
       "      <th>2019-06-11 20:57:54.760000+02:00</th>\n",
       "      <td>5.14</td>\n",
       "      <td>2.41</td>\n",
       "      <td>28.78</td>\n",
       "      <td>32.96</td>\n",
       "      <td>1.512514</td>\n",
       "    </tr>\n",
       "    <tr>\n",
       "      <th>26330</th>\n",
       "      <th>2019-06-11 20:57:54.800000+02:00</th>\n",
       "      <td>5.31</td>\n",
       "      <td>2.13</td>\n",
       "      <td>28.78</td>\n",
       "      <td>32.91</td>\n",
       "      <td>1.494657</td>\n",
       "    </tr>\n",
       "    <tr>\n",
       "      <th>26331</th>\n",
       "      <th>2019-06-11 20:57:54.840000+02:00</th>\n",
       "      <td>5.03</td>\n",
       "      <td>2.64</td>\n",
       "      <td>28.78</td>\n",
       "      <td>32.88</td>\n",
       "      <td>1.489295</td>\n",
       "    </tr>\n",
       "    <tr>\n",
       "      <th>26332</th>\n",
       "      <th>2019-06-11 20:57:54.880000+02:00</th>\n",
       "      <td>4.42</td>\n",
       "      <td>2.53</td>\n",
       "      <td>28.77</td>\n",
       "      <td>32.82</td>\n",
       "      <td>1.454991</td>\n",
       "    </tr>\n",
       "    <tr>\n",
       "      <th>26333</th>\n",
       "      <th>2019-06-11 20:57:54.920000+02:00</th>\n",
       "      <td>3.56</td>\n",
       "      <td>4.69</td>\n",
       "      <td>28.76</td>\n",
       "      <td>32.78</td>\n",
       "      <td>1.442221</td>\n",
       "    </tr>\n",
       "    <tr>\n",
       "      <th>26334</th>\n",
       "      <th>2019-06-11 20:57:54.960000+02:00</th>\n",
       "      <td>2.52</td>\n",
       "      <td>6.82</td>\n",
       "      <td>28.75</td>\n",
       "      <td>32.73</td>\n",
       "      <td>1.418732</td>\n",
       "    </tr>\n",
       "    <tr>\n",
       "      <th>26335</th>\n",
       "      <th>2019-06-11 20:57:55+02:00</th>\n",
       "      <td>1.38</td>\n",
       "      <td>7.77</td>\n",
       "      <td>28.72</td>\n",
       "      <td>32.67</td>\n",
       "      <td>1.383980</td>\n",
       "    </tr>\n",
       "    <tr>\n",
       "      <th>26336</th>\n",
       "      <th>2019-06-11 20:57:55.040000+02:00</th>\n",
       "      <td>0.18</td>\n",
       "      <td>8.39</td>\n",
       "      <td>28.68</td>\n",
       "      <td>32.54</td>\n",
       "      <td>1.283511</td>\n",
       "    </tr>\n",
       "    <tr>\n",
       "      <th>26337</th>\n",
       "      <th>2019-06-11 20:57:55.080000+02:00</th>\n",
       "      <td>-1.01</td>\n",
       "      <td>8.97</td>\n",
       "      <td>28.64</td>\n",
       "      <td>32.41</td>\n",
       "      <td>1.187013</td>\n",
       "    </tr>\n",
       "    <tr>\n",
       "      <th>26338</th>\n",
       "      <th>2019-06-11 20:57:55.120000+02:00</th>\n",
       "      <td>-2.09</td>\n",
       "      <td>8.97</td>\n",
       "      <td>28.59</td>\n",
       "      <td>32.29</td>\n",
       "      <td>1.106752</td>\n",
       "    </tr>\n",
       "    <tr>\n",
       "      <th>26339</th>\n",
       "      <th>2019-06-11 20:57:55.160000+02:00</th>\n",
       "      <td>-3.09</td>\n",
       "      <td>8.97</td>\n",
       "      <td>28.56</td>\n",
       "      <td>32.13</td>\n",
       "      <td>1.002646</td>\n",
       "    </tr>\n",
       "    <tr>\n",
       "      <th>26340</th>\n",
       "      <th>2019-06-11 20:57:55.200000+02:00</th>\n",
       "      <td>-3.89</td>\n",
       "      <td>8.97</td>\n",
       "      <td>28.54</td>\n",
       "      <td>31.99</td>\n",
       "      <td>0.926553</td>\n",
       "    </tr>\n",
       "    <tr>\n",
       "      <th>26341</th>\n",
       "      <th>2019-06-11 20:57:55.240000+02:00</th>\n",
       "      <td>-4.47</td>\n",
       "      <td>8.97</td>\n",
       "      <td>28.50</td>\n",
       "      <td>31.86</td>\n",
       "      <td>1.407587</td>\n",
       "    </tr>\n",
       "    <tr>\n",
       "      <th>26342</th>\n",
       "      <th>2019-06-11 20:57:55.280000+02:00</th>\n",
       "      <td>-4.84</td>\n",
       "      <td>8.97</td>\n",
       "      <td>28.47</td>\n",
       "      <td>31.74</td>\n",
       "      <td>1.896945</td>\n",
       "    </tr>\n",
       "    <tr>\n",
       "      <th>26343</th>\n",
       "      <th>2019-06-11 20:57:55.320000+02:00</th>\n",
       "      <td>-4.98</td>\n",
       "      <td>8.53</td>\n",
       "      <td>28.45</td>\n",
       "      <td>31.64</td>\n",
       "      <td>2.408319</td>\n",
       "    </tr>\n",
       "    <tr>\n",
       "      <th>26344</th>\n",
       "      <th>2019-06-11 20:57:55.360000+02:00</th>\n",
       "      <td>-4.82</td>\n",
       "      <td>6.80</td>\n",
       "      <td>28.43</td>\n",
       "      <td>31.55</td>\n",
       "      <td>2.965215</td>\n",
       "    </tr>\n",
       "    <tr>\n",
       "      <th>26345</th>\n",
       "      <th>2019-06-11 20:57:55.400000+02:00</th>\n",
       "      <td>-4.37</td>\n",
       "      <td>5.00</td>\n",
       "      <td>28.42</td>\n",
       "      <td>31.50</td>\n",
       "      <td>3.579749</td>\n",
       "    </tr>\n",
       "    <tr>\n",
       "      <th>26346</th>\n",
       "      <th>2019-06-11 20:57:55.440000+02:00</th>\n",
       "      <td>-3.65</td>\n",
       "      <td>3.65</td>\n",
       "      <td>28.42</td>\n",
       "      <td>31.46</td>\n",
       "      <td>4.187601</td>\n",
       "    </tr>\n",
       "    <tr>\n",
       "      <th>26347</th>\n",
       "      <th>2019-06-11 20:57:55.480000+02:00</th>\n",
       "      <td>-2.61</td>\n",
       "      <td>2.74</td>\n",
       "      <td>28.42</td>\n",
       "      <td>31.44</td>\n",
       "      <td>4.816897</td>\n",
       "    </tr>\n",
       "    <tr>\n",
       "      <th>26348</th>\n",
       "      <th>2019-06-11 20:57:55.520000+02:00</th>\n",
       "      <td>-1.29</td>\n",
       "      <td>2.48</td>\n",
       "      <td>28.44</td>\n",
       "      <td>31.44</td>\n",
       "      <td>5.481724</td>\n",
       "    </tr>\n",
       "    <tr>\n",
       "      <th>26349</th>\n",
       "      <th>2019-06-11 20:57:55.560000+02:00</th>\n",
       "      <td>-0.08</td>\n",
       "      <td>2.80</td>\n",
       "      <td>28.46</td>\n",
       "      <td>31.44</td>\n",
       "      <td>6.132414</td>\n",
       "    </tr>\n",
       "    <tr>\n",
       "      <th>26350</th>\n",
       "      <th>2019-06-11 20:57:55.600000+02:00</th>\n",
       "      <td>0.92</td>\n",
       "      <td>2.80</td>\n",
       "      <td>28.48</td>\n",
       "      <td>31.45</td>\n",
       "      <td>6.804484</td>\n",
       "    </tr>\n",
       "    <tr>\n",
       "      <th>26351</th>\n",
       "      <th>2019-06-11 20:57:55.640000+02:00</th>\n",
       "      <td>1.58</td>\n",
       "      <td>2.80</td>\n",
       "      <td>28.52</td>\n",
       "      <td>31.45</td>\n",
       "      <td>7.475888</td>\n",
       "    </tr>\n",
       "    <tr>\n",
       "      <th>26352</th>\n",
       "      <th>2019-06-11 20:57:55.680000+02:00</th>\n",
       "      <td>1.90</td>\n",
       "      <td>2.80</td>\n",
       "      <td>28.54</td>\n",
       "      <td>31.45</td>\n",
       "      <td>8.140719</td>\n",
       "    </tr>\n",
       "    <tr>\n",
       "      <th>26353</th>\n",
       "      <th>2019-06-11 20:57:55.720000+02:00</th>\n",
       "      <td>2.05</td>\n",
       "      <td>2.77</td>\n",
       "      <td>28.57</td>\n",
       "      <td>31.44</td>\n",
       "      <td>8.791115</td>\n",
       "    </tr>\n",
       "    <tr>\n",
       "      <th>26354</th>\n",
       "      <th>2019-06-11 20:57:55.760000+02:00</th>\n",
       "      <td>2.07</td>\n",
       "      <td>3.30</td>\n",
       "      <td>28.60</td>\n",
       "      <td>31.43</td>\n",
       "      <td>9.455670</td>\n",
       "    </tr>\n",
       "    <tr>\n",
       "      <th>26355</th>\n",
       "      <th>2019-06-11 20:57:55.800000+02:00</th>\n",
       "      <td>2.02</td>\n",
       "      <td>3.65</td>\n",
       "      <td>28.65</td>\n",
       "      <td>31.42</td>\n",
       "      <td>10.119788</td>\n",
       "    </tr>\n",
       "    <tr>\n",
       "      <th>26356</th>\n",
       "      <th>2019-06-11 20:57:55.840000+02:00</th>\n",
       "      <td>1.93</td>\n",
       "      <td>3.93</td>\n",
       "      <td>28.69</td>\n",
       "      <td>31.42</td>\n",
       "      <td>10.791571</td>\n",
       "    </tr>\n",
       "    <tr>\n",
       "      <th>26357</th>\n",
       "      <th>2019-06-11 20:57:55.880000+02:00</th>\n",
       "      <td>1.81</td>\n",
       "      <td>4.19</td>\n",
       "      <td>28.75</td>\n",
       "      <td>31.45</td>\n",
       "      <td>11.505586</td>\n",
       "    </tr>\n",
       "    <tr>\n",
       "      <th>26358</th>\n",
       "      <th>2019-06-11 20:57:55.920000+02:00</th>\n",
       "      <td>1.66</td>\n",
       "      <td>4.48</td>\n",
       "      <td>28.80</td>\n",
       "      <td>31.46</td>\n",
       "      <td>12.191513</td>\n",
       "    </tr>\n",
       "    <tr>\n",
       "      <th>...</th>\n",
       "      <th>...</th>\n",
       "      <td>...</td>\n",
       "      <td>...</td>\n",
       "      <td>...</td>\n",
       "      <td>...</td>\n",
       "      <td>...</td>\n",
       "    </tr>\n",
       "    <tr>\n",
       "      <th>26800</th>\n",
       "      <th>2019-06-11 20:58:13.600000+02:00</th>\n",
       "      <td>-0.21</td>\n",
       "      <td>6.30</td>\n",
       "      <td>48.36</td>\n",
       "      <td>2.32</td>\n",
       "      <td>15.179262</td>\n",
       "    </tr>\n",
       "    <tr>\n",
       "      <th>26801</th>\n",
       "      <th>2019-06-11 20:58:13.640000+02:00</th>\n",
       "      <td>-0.23</td>\n",
       "      <td>6.20</td>\n",
       "      <td>48.31</td>\n",
       "      <td>2.31</td>\n",
       "      <td>15.206821</td>\n",
       "    </tr>\n",
       "    <tr>\n",
       "      <th>26802</th>\n",
       "      <th>2019-06-11 20:58:13.680000+02:00</th>\n",
       "      <td>-0.24</td>\n",
       "      <td>6.10</td>\n",
       "      <td>48.24</td>\n",
       "      <td>2.27</td>\n",
       "      <td>15.269764</td>\n",
       "    </tr>\n",
       "    <tr>\n",
       "      <th>26803</th>\n",
       "      <th>2019-06-11 20:58:13.720000+02:00</th>\n",
       "      <td>-0.24</td>\n",
       "      <td>6.05</td>\n",
       "      <td>48.17</td>\n",
       "      <td>2.24</td>\n",
       "      <td>15.323593</td>\n",
       "    </tr>\n",
       "    <tr>\n",
       "      <th>26804</th>\n",
       "      <th>2019-06-11 20:58:13.760000+02:00</th>\n",
       "      <td>-0.24</td>\n",
       "      <td>5.75</td>\n",
       "      <td>48.11</td>\n",
       "      <td>2.21</td>\n",
       "      <td>15.373854</td>\n",
       "    </tr>\n",
       "    <tr>\n",
       "      <th>26805</th>\n",
       "      <th>2019-06-11 20:58:13.800000+02:00</th>\n",
       "      <td>-0.22</td>\n",
       "      <td>5.38</td>\n",
       "      <td>48.05</td>\n",
       "      <td>2.18</td>\n",
       "      <td>15.424244</td>\n",
       "    </tr>\n",
       "    <tr>\n",
       "      <th>26806</th>\n",
       "      <th>2019-06-11 20:58:13.840000+02:00</th>\n",
       "      <td>-0.19</td>\n",
       "      <td>5.18</td>\n",
       "      <td>48.00</td>\n",
       "      <td>2.16</td>\n",
       "      <td>15.461708</td>\n",
       "    </tr>\n",
       "    <tr>\n",
       "      <th>26807</th>\n",
       "      <th>2019-06-11 20:58:13.880000+02:00</th>\n",
       "      <td>-0.16</td>\n",
       "      <td>5.01</td>\n",
       "      <td>47.96</td>\n",
       "      <td>2.16</td>\n",
       "      <td>15.476964</td>\n",
       "    </tr>\n",
       "    <tr>\n",
       "      <th>26808</th>\n",
       "      <th>2019-06-11 20:58:13.920000+02:00</th>\n",
       "      <td>-0.12</td>\n",
       "      <td>4.84</td>\n",
       "      <td>47.92</td>\n",
       "      <td>2.15</td>\n",
       "      <td>15.501539</td>\n",
       "    </tr>\n",
       "    <tr>\n",
       "      <th>26809</th>\n",
       "      <th>2019-06-11 20:58:13.960000+02:00</th>\n",
       "      <td>-0.07</td>\n",
       "      <td>4.68</td>\n",
       "      <td>47.86</td>\n",
       "      <td>2.15</td>\n",
       "      <td>15.524706</td>\n",
       "    </tr>\n",
       "    <tr>\n",
       "      <th>26810</th>\n",
       "      <th>2019-06-11 20:58:14+02:00</th>\n",
       "      <td>-0.04</td>\n",
       "      <td>4.66</td>\n",
       "      <td>47.82</td>\n",
       "      <td>2.14</td>\n",
       "      <td>15.549469</td>\n",
       "    </tr>\n",
       "    <tr>\n",
       "      <th>26811</th>\n",
       "      <th>2019-06-11 20:58:14.040000+02:00</th>\n",
       "      <td>0.00</td>\n",
       "      <td>4.52</td>\n",
       "      <td>47.77</td>\n",
       "      <td>2.13</td>\n",
       "      <td>15.578222</td>\n",
       "    </tr>\n",
       "    <tr>\n",
       "      <th>26812</th>\n",
       "      <th>2019-06-11 20:58:14.080000+02:00</th>\n",
       "      <td>0.02</td>\n",
       "      <td>4.52</td>\n",
       "      <td>47.73</td>\n",
       "      <td>2.12</td>\n",
       "      <td>15.603144</td>\n",
       "    </tr>\n",
       "    <tr>\n",
       "      <th>26813</th>\n",
       "      <th>2019-06-11 20:58:14.120000+02:00</th>\n",
       "      <td>0.04</td>\n",
       "      <td>4.52</td>\n",
       "      <td>47.67</td>\n",
       "      <td>2.11</td>\n",
       "      <td>15.636067</td>\n",
       "    </tr>\n",
       "    <tr>\n",
       "      <th>26814</th>\n",
       "      <th>2019-06-11 20:58:14.160000+02:00</th>\n",
       "      <td>0.05</td>\n",
       "      <td>4.52</td>\n",
       "      <td>47.62</td>\n",
       "      <td>2.09</td>\n",
       "      <td>15.674326</td>\n",
       "    </tr>\n",
       "    <tr>\n",
       "      <th>26815</th>\n",
       "      <th>2019-06-11 20:58:14.200000+02:00</th>\n",
       "      <td>0.06</td>\n",
       "      <td>4.66</td>\n",
       "      <td>47.57</td>\n",
       "      <td>2.08</td>\n",
       "      <td>15.703519</td>\n",
       "    </tr>\n",
       "    <tr>\n",
       "      <th>26816</th>\n",
       "      <th>2019-06-11 20:58:14.240000+02:00</th>\n",
       "      <td>0.05</td>\n",
       "      <td>4.80</td>\n",
       "      <td>47.53</td>\n",
       "      <td>2.07</td>\n",
       "      <td>15.728783</td>\n",
       "    </tr>\n",
       "    <tr>\n",
       "      <th>26817</th>\n",
       "      <th>2019-06-11 20:58:14.280000+02:00</th>\n",
       "      <td>0.05</td>\n",
       "      <td>4.84</td>\n",
       "      <td>47.47</td>\n",
       "      <td>2.06</td>\n",
       "      <td>15.762237</td>\n",
       "    </tr>\n",
       "    <tr>\n",
       "      <th>26818</th>\n",
       "      <th>2019-06-11 20:58:14.320000+02:00</th>\n",
       "      <td>0.04</td>\n",
       "      <td>4.98</td>\n",
       "      <td>47.43</td>\n",
       "      <td>2.04</td>\n",
       "      <td>15.796800</td>\n",
       "    </tr>\n",
       "    <tr>\n",
       "      <th>26819</th>\n",
       "      <th>2019-06-11 20:58:14.360000+02:00</th>\n",
       "      <td>0.04</td>\n",
       "      <td>5.12</td>\n",
       "      <td>47.37</td>\n",
       "      <td>2.03</td>\n",
       "      <td>15.830509</td>\n",
       "    </tr>\n",
       "    <tr>\n",
       "      <th>26820</th>\n",
       "      <th>2019-06-11 20:58:14.400000+02:00</th>\n",
       "      <td>0.05</td>\n",
       "      <td>5.12</td>\n",
       "      <td>47.32</td>\n",
       "      <td>2.01</td>\n",
       "      <td>15.869345</td>\n",
       "    </tr>\n",
       "    <tr>\n",
       "      <th>26821</th>\n",
       "      <th>2019-06-11 20:58:14.440000+02:00</th>\n",
       "      <td>0.06</td>\n",
       "      <td>5.10</td>\n",
       "      <td>47.26</td>\n",
       "      <td>1.99</td>\n",
       "      <td>15.912426</td>\n",
       "    </tr>\n",
       "    <tr>\n",
       "      <th>26822</th>\n",
       "      <th>2019-06-11 20:58:14.480000+02:00</th>\n",
       "      <td>0.08</td>\n",
       "      <td>4.96</td>\n",
       "      <td>47.20</td>\n",
       "      <td>1.98</td>\n",
       "      <td>15.946561</td>\n",
       "    </tr>\n",
       "    <tr>\n",
       "      <th>26823</th>\n",
       "      <th>2019-06-11 20:58:14.520000+02:00</th>\n",
       "      <td>0.11</td>\n",
       "      <td>5.08</td>\n",
       "      <td>47.14</td>\n",
       "      <td>1.97</td>\n",
       "      <td>15.980854</td>\n",
       "    </tr>\n",
       "    <tr>\n",
       "      <th>26824</th>\n",
       "      <th>2019-06-11 20:58:14.560000+02:00</th>\n",
       "      <td>0.15</td>\n",
       "      <td>5.08</td>\n",
       "      <td>47.09</td>\n",
       "      <td>1.94</td>\n",
       "      <td>16.029177</td>\n",
       "    </tr>\n",
       "    <tr>\n",
       "      <th>26825</th>\n",
       "      <th>2019-06-11 20:58:14.600000+02:00</th>\n",
       "      <td>0.18</td>\n",
       "      <td>5.08</td>\n",
       "      <td>47.03</td>\n",
       "      <td>1.93</td>\n",
       "      <td>16.063729</td>\n",
       "    </tr>\n",
       "    <tr>\n",
       "      <th>26826</th>\n",
       "      <th>2019-06-11 20:58:14.640000+02:00</th>\n",
       "      <td>0.22</td>\n",
       "      <td>5.12</td>\n",
       "      <td>46.98</td>\n",
       "      <td>1.91</td>\n",
       "      <td>16.103183</td>\n",
       "    </tr>\n",
       "    <tr>\n",
       "      <th>26827</th>\n",
       "      <th>2019-06-11 20:58:14.680000+02:00</th>\n",
       "      <td>0.25</td>\n",
       "      <td>5.18</td>\n",
       "      <td>46.93</td>\n",
       "      <td>1.90</td>\n",
       "      <td>16.133695</td>\n",
       "    </tr>\n",
       "    <tr>\n",
       "      <th>26828</th>\n",
       "      <th>2019-06-11 20:58:14.720000+02:00</th>\n",
       "      <td>0.28</td>\n",
       "      <td>5.15</td>\n",
       "      <td>46.88</td>\n",
       "      <td>1.90</td>\n",
       "      <td>16.155296</td>\n",
       "    </tr>\n",
       "    <tr>\n",
       "      <th>26829</th>\n",
       "      <th>2019-06-11 20:58:14.760000+02:00</th>\n",
       "      <td>0.29</td>\n",
       "      <td>5.15</td>\n",
       "      <td>46.83</td>\n",
       "      <td>1.90</td>\n",
       "      <td>16.177024</td>\n",
       "    </tr>\n",
       "  </tbody>\n",
       "</table>\n",
       "<p>501 rows × 5 columns</p>\n",
       "</div>"
      ],
      "text/plain": [
       "TeamId                                 DFL-CLU-000N8Y                      \\\n",
       "PersonId                               DFL-OBJ-0027G6                       \n",
       "Position                                            A     S      X      Y   \n",
       "N     T                                                                     \n",
       "26329 2019-06-11 20:57:54.760000+02:00           5.14  2.41  28.78  32.96   \n",
       "26330 2019-06-11 20:57:54.800000+02:00           5.31  2.13  28.78  32.91   \n",
       "26331 2019-06-11 20:57:54.840000+02:00           5.03  2.64  28.78  32.88   \n",
       "26332 2019-06-11 20:57:54.880000+02:00           4.42  2.53  28.77  32.82   \n",
       "26333 2019-06-11 20:57:54.920000+02:00           3.56  4.69  28.76  32.78   \n",
       "26334 2019-06-11 20:57:54.960000+02:00           2.52  6.82  28.75  32.73   \n",
       "26335 2019-06-11 20:57:55+02:00                  1.38  7.77  28.72  32.67   \n",
       "26336 2019-06-11 20:57:55.040000+02:00           0.18  8.39  28.68  32.54   \n",
       "26337 2019-06-11 20:57:55.080000+02:00          -1.01  8.97  28.64  32.41   \n",
       "26338 2019-06-11 20:57:55.120000+02:00          -2.09  8.97  28.59  32.29   \n",
       "26339 2019-06-11 20:57:55.160000+02:00          -3.09  8.97  28.56  32.13   \n",
       "26340 2019-06-11 20:57:55.200000+02:00          -3.89  8.97  28.54  31.99   \n",
       "26341 2019-06-11 20:57:55.240000+02:00          -4.47  8.97  28.50  31.86   \n",
       "26342 2019-06-11 20:57:55.280000+02:00          -4.84  8.97  28.47  31.74   \n",
       "26343 2019-06-11 20:57:55.320000+02:00          -4.98  8.53  28.45  31.64   \n",
       "26344 2019-06-11 20:57:55.360000+02:00          -4.82  6.80  28.43  31.55   \n",
       "26345 2019-06-11 20:57:55.400000+02:00          -4.37  5.00  28.42  31.50   \n",
       "26346 2019-06-11 20:57:55.440000+02:00          -3.65  3.65  28.42  31.46   \n",
       "26347 2019-06-11 20:57:55.480000+02:00          -2.61  2.74  28.42  31.44   \n",
       "26348 2019-06-11 20:57:55.520000+02:00          -1.29  2.48  28.44  31.44   \n",
       "26349 2019-06-11 20:57:55.560000+02:00          -0.08  2.80  28.46  31.44   \n",
       "26350 2019-06-11 20:57:55.600000+02:00           0.92  2.80  28.48  31.45   \n",
       "26351 2019-06-11 20:57:55.640000+02:00           1.58  2.80  28.52  31.45   \n",
       "26352 2019-06-11 20:57:55.680000+02:00           1.90  2.80  28.54  31.45   \n",
       "26353 2019-06-11 20:57:55.720000+02:00           2.05  2.77  28.57  31.44   \n",
       "26354 2019-06-11 20:57:55.760000+02:00           2.07  3.30  28.60  31.43   \n",
       "26355 2019-06-11 20:57:55.800000+02:00           2.02  3.65  28.65  31.42   \n",
       "26356 2019-06-11 20:57:55.840000+02:00           1.93  3.93  28.69  31.42   \n",
       "26357 2019-06-11 20:57:55.880000+02:00           1.81  4.19  28.75  31.45   \n",
       "26358 2019-06-11 20:57:55.920000+02:00           1.66  4.48  28.80  31.46   \n",
       "...                                               ...   ...    ...    ...   \n",
       "26800 2019-06-11 20:58:13.600000+02:00          -0.21  6.30  48.36   2.32   \n",
       "26801 2019-06-11 20:58:13.640000+02:00          -0.23  6.20  48.31   2.31   \n",
       "26802 2019-06-11 20:58:13.680000+02:00          -0.24  6.10  48.24   2.27   \n",
       "26803 2019-06-11 20:58:13.720000+02:00          -0.24  6.05  48.17   2.24   \n",
       "26804 2019-06-11 20:58:13.760000+02:00          -0.24  5.75  48.11   2.21   \n",
       "26805 2019-06-11 20:58:13.800000+02:00          -0.22  5.38  48.05   2.18   \n",
       "26806 2019-06-11 20:58:13.840000+02:00          -0.19  5.18  48.00   2.16   \n",
       "26807 2019-06-11 20:58:13.880000+02:00          -0.16  5.01  47.96   2.16   \n",
       "26808 2019-06-11 20:58:13.920000+02:00          -0.12  4.84  47.92   2.15   \n",
       "26809 2019-06-11 20:58:13.960000+02:00          -0.07  4.68  47.86   2.15   \n",
       "26810 2019-06-11 20:58:14+02:00                 -0.04  4.66  47.82   2.14   \n",
       "26811 2019-06-11 20:58:14.040000+02:00           0.00  4.52  47.77   2.13   \n",
       "26812 2019-06-11 20:58:14.080000+02:00           0.02  4.52  47.73   2.12   \n",
       "26813 2019-06-11 20:58:14.120000+02:00           0.04  4.52  47.67   2.11   \n",
       "26814 2019-06-11 20:58:14.160000+02:00           0.05  4.52  47.62   2.09   \n",
       "26815 2019-06-11 20:58:14.200000+02:00           0.06  4.66  47.57   2.08   \n",
       "26816 2019-06-11 20:58:14.240000+02:00           0.05  4.80  47.53   2.07   \n",
       "26817 2019-06-11 20:58:14.280000+02:00           0.05  4.84  47.47   2.06   \n",
       "26818 2019-06-11 20:58:14.320000+02:00           0.04  4.98  47.43   2.04   \n",
       "26819 2019-06-11 20:58:14.360000+02:00           0.04  5.12  47.37   2.03   \n",
       "26820 2019-06-11 20:58:14.400000+02:00           0.05  5.12  47.32   2.01   \n",
       "26821 2019-06-11 20:58:14.440000+02:00           0.06  5.10  47.26   1.99   \n",
       "26822 2019-06-11 20:58:14.480000+02:00           0.08  4.96  47.20   1.98   \n",
       "26823 2019-06-11 20:58:14.520000+02:00           0.11  5.08  47.14   1.97   \n",
       "26824 2019-06-11 20:58:14.560000+02:00           0.15  5.08  47.09   1.94   \n",
       "26825 2019-06-11 20:58:14.600000+02:00           0.18  5.08  47.03   1.93   \n",
       "26826 2019-06-11 20:58:14.640000+02:00           0.22  5.12  46.98   1.91   \n",
       "26827 2019-06-11 20:58:14.680000+02:00           0.25  5.18  46.93   1.90   \n",
       "26828 2019-06-11 20:58:14.720000+02:00           0.28  5.15  46.88   1.90   \n",
       "26829 2019-06-11 20:58:14.760000+02:00           0.29  5.15  46.83   1.90   \n",
       "\n",
       "TeamId                                             \n",
       "PersonId                                           \n",
       "Position                                      DtB  \n",
       "N     T                                            \n",
       "26329 2019-06-11 20:57:54.760000+02:00   1.512514  \n",
       "26330 2019-06-11 20:57:54.800000+02:00   1.494657  \n",
       "26331 2019-06-11 20:57:54.840000+02:00   1.489295  \n",
       "26332 2019-06-11 20:57:54.880000+02:00   1.454991  \n",
       "26333 2019-06-11 20:57:54.920000+02:00   1.442221  \n",
       "26334 2019-06-11 20:57:54.960000+02:00   1.418732  \n",
       "26335 2019-06-11 20:57:55+02:00          1.383980  \n",
       "26336 2019-06-11 20:57:55.040000+02:00   1.283511  \n",
       "26337 2019-06-11 20:57:55.080000+02:00   1.187013  \n",
       "26338 2019-06-11 20:57:55.120000+02:00   1.106752  \n",
       "26339 2019-06-11 20:57:55.160000+02:00   1.002646  \n",
       "26340 2019-06-11 20:57:55.200000+02:00   0.926553  \n",
       "26341 2019-06-11 20:57:55.240000+02:00   1.407587  \n",
       "26342 2019-06-11 20:57:55.280000+02:00   1.896945  \n",
       "26343 2019-06-11 20:57:55.320000+02:00   2.408319  \n",
       "26344 2019-06-11 20:57:55.360000+02:00   2.965215  \n",
       "26345 2019-06-11 20:57:55.400000+02:00   3.579749  \n",
       "26346 2019-06-11 20:57:55.440000+02:00   4.187601  \n",
       "26347 2019-06-11 20:57:55.480000+02:00   4.816897  \n",
       "26348 2019-06-11 20:57:55.520000+02:00   5.481724  \n",
       "26349 2019-06-11 20:57:55.560000+02:00   6.132414  \n",
       "26350 2019-06-11 20:57:55.600000+02:00   6.804484  \n",
       "26351 2019-06-11 20:57:55.640000+02:00   7.475888  \n",
       "26352 2019-06-11 20:57:55.680000+02:00   8.140719  \n",
       "26353 2019-06-11 20:57:55.720000+02:00   8.791115  \n",
       "26354 2019-06-11 20:57:55.760000+02:00   9.455670  \n",
       "26355 2019-06-11 20:57:55.800000+02:00  10.119788  \n",
       "26356 2019-06-11 20:57:55.840000+02:00  10.791571  \n",
       "26357 2019-06-11 20:57:55.880000+02:00  11.505586  \n",
       "26358 2019-06-11 20:57:55.920000+02:00  12.191513  \n",
       "...                                           ...  \n",
       "26800 2019-06-11 20:58:13.600000+02:00  15.179262  \n",
       "26801 2019-06-11 20:58:13.640000+02:00  15.206821  \n",
       "26802 2019-06-11 20:58:13.680000+02:00  15.269764  \n",
       "26803 2019-06-11 20:58:13.720000+02:00  15.323593  \n",
       "26804 2019-06-11 20:58:13.760000+02:00  15.373854  \n",
       "26805 2019-06-11 20:58:13.800000+02:00  15.424244  \n",
       "26806 2019-06-11 20:58:13.840000+02:00  15.461708  \n",
       "26807 2019-06-11 20:58:13.880000+02:00  15.476964  \n",
       "26808 2019-06-11 20:58:13.920000+02:00  15.501539  \n",
       "26809 2019-06-11 20:58:13.960000+02:00  15.524706  \n",
       "26810 2019-06-11 20:58:14+02:00         15.549469  \n",
       "26811 2019-06-11 20:58:14.040000+02:00  15.578222  \n",
       "26812 2019-06-11 20:58:14.080000+02:00  15.603144  \n",
       "26813 2019-06-11 20:58:14.120000+02:00  15.636067  \n",
       "26814 2019-06-11 20:58:14.160000+02:00  15.674326  \n",
       "26815 2019-06-11 20:58:14.200000+02:00  15.703519  \n",
       "26816 2019-06-11 20:58:14.240000+02:00  15.728783  \n",
       "26817 2019-06-11 20:58:14.280000+02:00  15.762237  \n",
       "26818 2019-06-11 20:58:14.320000+02:00  15.796800  \n",
       "26819 2019-06-11 20:58:14.360000+02:00  15.830509  \n",
       "26820 2019-06-11 20:58:14.400000+02:00  15.869345  \n",
       "26821 2019-06-11 20:58:14.440000+02:00  15.912426  \n",
       "26822 2019-06-11 20:58:14.480000+02:00  15.946561  \n",
       "26823 2019-06-11 20:58:14.520000+02:00  15.980854  \n",
       "26824 2019-06-11 20:58:14.560000+02:00  16.029177  \n",
       "26825 2019-06-11 20:58:14.600000+02:00  16.063729  \n",
       "26826 2019-06-11 20:58:14.640000+02:00  16.103183  \n",
       "26827 2019-06-11 20:58:14.680000+02:00  16.133695  \n",
       "26828 2019-06-11 20:58:14.720000+02:00  16.155296  \n",
       "26829 2019-06-11 20:58:14.760000+02:00  16.177024  \n",
       "\n",
       "[501 rows x 5 columns]"
      ]
     },
     "execution_count": 263,
     "metadata": {},
     "output_type": "execute_result"
    }
   ],
   "source": [
    "columns=(\"X\",\"Y\",\"A\",\"S\",\"DtB\")\n",
    "i=2\n",
    "start=testdf.Startframe[i]\n",
    "#end=testdf[\"Adj Endframe\"][i]\n",
    "end=testdf.Startframe[i]+500\n",
    "coordinatedf=positions.loc[(slice(start,end)),(team,player,columns)]\n",
    "coordinatedf"
   ]
  },
  {
   "cell_type": "code",
   "execution_count": 264,
   "metadata": {},
   "outputs": [
    {
     "data": {
      "image/png": "[encoded data removed]",
      "text/plain": [
       "<Figure size 432x288 with 1 Axes>"
      ]
     },
     "metadata": {
      "needs_background": "light"
     },
     "output_type": "display_data"
    }
   ],
   "source": [
    "plt.plot(coordinatedf.index.get_level_values(level=0),coordinatedf[team,player,\"S\"]);\n",
    "plt.plot(coordinatedf.index.get_level_values(level=0),coordinatedf[team,player,\"A\"]);"
   ]
  },
  {
   "cell_type": "code",
   "execution_count": 262,
   "metadata": {
    "collapsed": true,
    "jupyter": {
     "outputs_hidden": true
    }
   },
   "outputs": [
    {
     "data": {
      "text/html": [
       "<div>\n",
       "<style scoped>\n",
       "    .dataframe tbody tr th:only-of-type {\n",
       "        vertical-align: middle;\n",
       "    }\n",
       "\n",
       "    .dataframe tbody tr th {\n",
       "        vertical-align: top;\n",
       "    }\n",
       "\n",
       "    .dataframe thead tr th {\n",
       "        text-align: left;\n",
       "    }\n",
       "\n",
       "    .dataframe thead tr:last-of-type th {\n",
       "        text-align: right;\n",
       "    }\n",
       "</style>\n",
       "<table border=\"1\" class=\"dataframe\">\n",
       "  <thead>\n",
       "    <tr>\n",
       "      <th></th>\n",
       "      <th>TeamId</th>\n",
       "      <th colspan=\"5\" halign=\"left\">DFL-CLU-000N8Y</th>\n",
       "    </tr>\n",
       "    <tr>\n",
       "      <th></th>\n",
       "      <th>PersonId</th>\n",
       "      <th colspan=\"5\" halign=\"left\">DFL-OBJ-0027G6</th>\n",
       "    </tr>\n",
       "    <tr>\n",
       "      <th></th>\n",
       "      <th>Position</th>\n",
       "      <th>A</th>\n",
       "      <th>S</th>\n",
       "      <th>X</th>\n",
       "      <th>Y</th>\n",
       "      <th>DtB</th>\n",
       "    </tr>\n",
       "    <tr>\n",
       "      <th>N</th>\n",
       "      <th>T</th>\n",
       "      <th></th>\n",
       "      <th></th>\n",
       "      <th></th>\n",
       "      <th></th>\n",
       "      <th></th>\n",
       "    </tr>\n",
       "  </thead>\n",
       "  <tbody>\n",
       "    <tr>\n",
       "      <th>26480</th>\n",
       "      <th>2019-06-11 20:58:00.800000+02:00</th>\n",
       "      <td>-6.48</td>\n",
       "      <td>8.51</td>\n",
       "      <td>34.97</td>\n",
       "      <td>23.54</td>\n",
       "      <td>8.886225</td>\n",
       "    </tr>\n",
       "    <tr>\n",
       "      <th>26481</th>\n",
       "      <th>2019-06-11 20:58:00.840000+02:00</th>\n",
       "      <td>-6.15</td>\n",
       "      <td>6.34</td>\n",
       "      <td>35.01</td>\n",
       "      <td>23.46</td>\n",
       "      <td>8.811640</td>\n",
       "    </tr>\n",
       "    <tr>\n",
       "      <th>26482</th>\n",
       "      <th>2019-06-11 20:58:00.880000+02:00</th>\n",
       "      <td>-5.64</td>\n",
       "      <td>5.21</td>\n",
       "      <td>35.03</td>\n",
       "      <td>23.41</td>\n",
       "      <td>8.758641</td>\n",
       "    </tr>\n",
       "    <tr>\n",
       "      <th>26483</th>\n",
       "      <th>2019-06-11 20:58:00.920000+02:00</th>\n",
       "      <td>-4.94</td>\n",
       "      <td>3.50</td>\n",
       "      <td>35.05</td>\n",
       "      <td>23.36</td>\n",
       "      <td>8.704045</td>\n",
       "    </tr>\n",
       "    <tr>\n",
       "      <th>26484</th>\n",
       "      <th>2019-06-11 20:58:00.960000+02:00</th>\n",
       "      <td>-4.09</td>\n",
       "      <td>1.97</td>\n",
       "      <td>35.04</td>\n",
       "      <td>23.33</td>\n",
       "      <td>8.650000</td>\n",
       "    </tr>\n",
       "    <tr>\n",
       "      <th>26485</th>\n",
       "      <th>2019-06-11 20:58:01+02:00</th>\n",
       "      <td>-3.16</td>\n",
       "      <td>1.58</td>\n",
       "      <td>35.03</td>\n",
       "      <td>23.31</td>\n",
       "      <td>8.596046</td>\n",
       "    </tr>\n",
       "    <tr>\n",
       "      <th>26486</th>\n",
       "      <th>2019-06-11 20:58:01.040000+02:00</th>\n",
       "      <td>-2.25</td>\n",
       "      <td>2.29</td>\n",
       "      <td>35.01</td>\n",
       "      <td>23.29</td>\n",
       "      <td>8.552076</td>\n",
       "    </tr>\n",
       "    <tr>\n",
       "      <th>26487</th>\n",
       "      <th>2019-06-11 20:58:01.080000+02:00</th>\n",
       "      <td>-1.59</td>\n",
       "      <td>2.29</td>\n",
       "      <td>34.99</td>\n",
       "      <td>23.29</td>\n",
       "      <td>8.514159</td>\n",
       "    </tr>\n",
       "    <tr>\n",
       "      <th>26488</th>\n",
       "      <th>2019-06-11 20:58:01.120000+02:00</th>\n",
       "      <td>-1.27</td>\n",
       "      <td>3.10</td>\n",
       "      <td>34.95</td>\n",
       "      <td>23.31</td>\n",
       "      <td>8.482040</td>\n",
       "    </tr>\n",
       "    <tr>\n",
       "      <th>26489</th>\n",
       "      <th>2019-06-11 20:58:01.160000+02:00</th>\n",
       "      <td>-1.30</td>\n",
       "      <td>2.96</td>\n",
       "      <td>34.92</td>\n",
       "      <td>23.32</td>\n",
       "      <td>8.004049</td>\n",
       "    </tr>\n",
       "    <tr>\n",
       "      <th>26490</th>\n",
       "      <th>2019-06-11 20:58:01.200000+02:00</th>\n",
       "      <td>-1.60</td>\n",
       "      <td>2.80</td>\n",
       "      <td>34.89</td>\n",
       "      <td>23.34</td>\n",
       "      <td>7.526447</td>\n",
       "    </tr>\n",
       "    <tr>\n",
       "      <th>26491</th>\n",
       "      <th>2019-06-11 20:58:01.240000+02:00</th>\n",
       "      <td>-2.06</td>\n",
       "      <td>2.58</td>\n",
       "      <td>34.84</td>\n",
       "      <td>23.36</td>\n",
       "      <td>7.053907</td>\n",
       "    </tr>\n",
       "    <tr>\n",
       "      <th>26492</th>\n",
       "      <th>2019-06-11 20:58:01.280000+02:00</th>\n",
       "      <td>-2.54</td>\n",
       "      <td>2.80</td>\n",
       "      <td>34.81</td>\n",
       "      <td>23.38</td>\n",
       "      <td>6.585811</td>\n",
       "    </tr>\n",
       "    <tr>\n",
       "      <th>26493</th>\n",
       "      <th>2019-06-11 20:58:01.320000+02:00</th>\n",
       "      <td>-2.99</td>\n",
       "      <td>2.80</td>\n",
       "      <td>34.77</td>\n",
       "      <td>23.40</td>\n",
       "      <td>6.124222</td>\n",
       "    </tr>\n",
       "    <tr>\n",
       "      <th>26494</th>\n",
       "      <th>2019-06-11 20:58:01.360000+02:00</th>\n",
       "      <td>-2.64</td>\n",
       "      <td>2.24</td>\n",
       "      <td>34.72</td>\n",
       "      <td>23.42</td>\n",
       "      <td>5.646981</td>\n",
       "    </tr>\n",
       "    <tr>\n",
       "      <th>26495</th>\n",
       "      <th>2019-06-11 20:58:01.400000+02:00</th>\n",
       "      <td>3.40</td>\n",
       "      <td>2.48</td>\n",
       "      <td>34.69</td>\n",
       "      <td>23.43</td>\n",
       "      <td>5.182403</td>\n",
       "    </tr>\n",
       "    <tr>\n",
       "      <th>26496</th>\n",
       "      <th>2019-06-11 20:58:01.440000+02:00</th>\n",
       "      <td>4.07</td>\n",
       "      <td>2.60</td>\n",
       "      <td>34.65</td>\n",
       "      <td>23.44</td>\n",
       "      <td>4.705932</td>\n",
       "    </tr>\n",
       "    <tr>\n",
       "      <th>26497</th>\n",
       "      <th>2019-06-11 20:58:01.480000+02:00</th>\n",
       "      <td>4.28</td>\n",
       "      <td>2.78</td>\n",
       "      <td>34.64</td>\n",
       "      <td>23.45</td>\n",
       "      <td>4.246975</td>\n",
       "    </tr>\n",
       "    <tr>\n",
       "      <th>26498</th>\n",
       "      <th>2019-06-11 20:58:01.520000+02:00</th>\n",
       "      <td>4.32</td>\n",
       "      <td>2.96</td>\n",
       "      <td>34.63</td>\n",
       "      <td>23.46</td>\n",
       "      <td>3.865954</td>\n",
       "    </tr>\n",
       "    <tr>\n",
       "      <th>26499</th>\n",
       "      <th>2019-06-11 20:58:01.560000+02:00</th>\n",
       "      <td>0.00</td>\n",
       "      <td>1.79</td>\n",
       "      <td>34.63</td>\n",
       "      <td>23.47</td>\n",
       "      <td>3.488266</td>\n",
       "    </tr>\n",
       "    <tr>\n",
       "      <th>26500</th>\n",
       "      <th>2019-06-11 20:58:01.600000+02:00</th>\n",
       "      <td>0.00</td>\n",
       "      <td>1.25</td>\n",
       "      <td>34.65</td>\n",
       "      <td>23.47</td>\n",
       "      <td>3.181352</td>\n",
       "    </tr>\n",
       "    <tr>\n",
       "      <th>26501</th>\n",
       "      <th>2019-06-11 20:58:01.640000+02:00</th>\n",
       "      <td>0.00</td>\n",
       "      <td>1.64</td>\n",
       "      <td>34.69</td>\n",
       "      <td>23.48</td>\n",
       "      <td>2.876960</td>\n",
       "    </tr>\n",
       "    <tr>\n",
       "      <th>26502</th>\n",
       "      <th>2019-06-11 20:58:01.680000+02:00</th>\n",
       "      <td>0.00</td>\n",
       "      <td>2.96</td>\n",
       "      <td>34.74</td>\n",
       "      <td>23.50</td>\n",
       "      <td>2.670880</td>\n",
       "    </tr>\n",
       "    <tr>\n",
       "      <th>26503</th>\n",
       "      <th>2019-06-11 20:58:01.720000+02:00</th>\n",
       "      <td>0.00</td>\n",
       "      <td>4.31</td>\n",
       "      <td>34.80</td>\n",
       "      <td>23.50</td>\n",
       "      <td>2.337028</td>\n",
       "    </tr>\n",
       "    <tr>\n",
       "      <th>26504</th>\n",
       "      <th>2019-06-11 20:58:01.760000+02:00</th>\n",
       "      <td>0.00</td>\n",
       "      <td>5.71</td>\n",
       "      <td>34.87</td>\n",
       "      <td>23.50</td>\n",
       "      <td>2.085210</td>\n",
       "    </tr>\n",
       "    <tr>\n",
       "      <th>26505</th>\n",
       "      <th>2019-06-11 20:58:01.800000+02:00</th>\n",
       "      <td>0.00</td>\n",
       "      <td>6.32</td>\n",
       "      <td>34.94</td>\n",
       "      <td>23.50</td>\n",
       "      <td>1.874807</td>\n",
       "    </tr>\n",
       "    <tr>\n",
       "      <th>26506</th>\n",
       "      <th>2019-06-11 20:58:01.840000+02:00</th>\n",
       "      <td>0.00</td>\n",
       "      <td>6.80</td>\n",
       "      <td>35.02</td>\n",
       "      <td>23.49</td>\n",
       "      <td>1.618054</td>\n",
       "    </tr>\n",
       "    <tr>\n",
       "      <th>26507</th>\n",
       "      <th>2019-06-11 20:58:01.880000+02:00</th>\n",
       "      <td>0.00</td>\n",
       "      <td>7.33</td>\n",
       "      <td>35.10</td>\n",
       "      <td>23.46</td>\n",
       "      <td>1.381774</td>\n",
       "    </tr>\n",
       "    <tr>\n",
       "      <th>26508</th>\n",
       "      <th>2019-06-11 20:58:01.920000+02:00</th>\n",
       "      <td>0.00</td>\n",
       "      <td>7.73</td>\n",
       "      <td>35.18</td>\n",
       "      <td>23.43</td>\n",
       "      <td>1.171537</td>\n",
       "    </tr>\n",
       "    <tr>\n",
       "      <th>26509</th>\n",
       "      <th>2019-06-11 20:58:01.960000+02:00</th>\n",
       "      <td>0.00</td>\n",
       "      <td>8.00</td>\n",
       "      <td>35.26</td>\n",
       "      <td>23.40</td>\n",
       "      <td>0.942603</td>\n",
       "    </tr>\n",
       "    <tr>\n",
       "      <th>26510</th>\n",
       "      <th>2019-06-11 20:58:02+02:00</th>\n",
       "      <td>0.00</td>\n",
       "      <td>8.25</td>\n",
       "      <td>35.35</td>\n",
       "      <td>23.37</td>\n",
       "      <td>0.715681</td>\n",
       "    </tr>\n",
       "    <tr>\n",
       "      <th>26511</th>\n",
       "      <th>2019-06-11 20:58:02.040000+02:00</th>\n",
       "      <td>0.00</td>\n",
       "      <td>8.46</td>\n",
       "      <td>35.44</td>\n",
       "      <td>23.34</td>\n",
       "      <td>0.603738</td>\n",
       "    </tr>\n",
       "    <tr>\n",
       "      <th>26512</th>\n",
       "      <th>2019-06-11 20:58:02.080000+02:00</th>\n",
       "      <td>0.00</td>\n",
       "      <td>8.64</td>\n",
       "      <td>35.53</td>\n",
       "      <td>23.29</td>\n",
       "      <td>0.481041</td>\n",
       "    </tr>\n",
       "    <tr>\n",
       "      <th>26513</th>\n",
       "      <th>2019-06-11 20:58:02.120000+02:00</th>\n",
       "      <td>0.00</td>\n",
       "      <td>8.81</td>\n",
       "      <td>35.62</td>\n",
       "      <td>23.25</td>\n",
       "      <td>0.415933</td>\n",
       "    </tr>\n",
       "    <tr>\n",
       "      <th>26514</th>\n",
       "      <th>2019-06-11 20:58:02.160000+02:00</th>\n",
       "      <td>0.00</td>\n",
       "      <td>9.13</td>\n",
       "      <td>35.71</td>\n",
       "      <td>23.21</td>\n",
       "      <td>0.429535</td>\n",
       "    </tr>\n",
       "    <tr>\n",
       "      <th>26515</th>\n",
       "      <th>2019-06-11 20:58:02.200000+02:00</th>\n",
       "      <td>0.00</td>\n",
       "      <td>9.40</td>\n",
       "      <td>35.81</td>\n",
       "      <td>23.18</td>\n",
       "      <td>0.350000</td>\n",
       "    </tr>\n",
       "    <tr>\n",
       "      <th>26516</th>\n",
       "      <th>2019-06-11 20:58:02.240000+02:00</th>\n",
       "      <td>0.00</td>\n",
       "      <td>9.74</td>\n",
       "      <td>35.90</td>\n",
       "      <td>23.14</td>\n",
       "      <td>0.303645</td>\n",
       "    </tr>\n",
       "    <tr>\n",
       "      <th>26517</th>\n",
       "      <th>2019-06-11 20:58:02.280000+02:00</th>\n",
       "      <td>0.00</td>\n",
       "      <td>10.03</td>\n",
       "      <td>36.00</td>\n",
       "      <td>23.07</td>\n",
       "      <td>0.331059</td>\n",
       "    </tr>\n",
       "    <tr>\n",
       "      <th>26518</th>\n",
       "      <th>2019-06-11 20:58:02.320000+02:00</th>\n",
       "      <td>0.00</td>\n",
       "      <td>10.32</td>\n",
       "      <td>36.10</td>\n",
       "      <td>23.00</td>\n",
       "      <td>0.332415</td>\n",
       "    </tr>\n",
       "    <tr>\n",
       "      <th>26519</th>\n",
       "      <th>2019-06-11 20:58:02.360000+02:00</th>\n",
       "      <td>0.00</td>\n",
       "      <td>10.62</td>\n",
       "      <td>36.20</td>\n",
       "      <td>22.93</td>\n",
       "      <td>0.304138</td>\n",
       "    </tr>\n",
       "    <tr>\n",
       "      <th>26520</th>\n",
       "      <th>2019-06-11 20:58:02.400000+02:00</th>\n",
       "      <td>0.00</td>\n",
       "      <td>11.06</td>\n",
       "      <td>36.30</td>\n",
       "      <td>22.87</td>\n",
       "      <td>0.166433</td>\n",
       "    </tr>\n",
       "  </tbody>\n",
       "</table>\n",
       "</div>"
      ],
      "text/plain": [
       "TeamId                                 DFL-CLU-000N8Y                       \\\n",
       "PersonId                               DFL-OBJ-0027G6                        \n",
       "Position                                            A      S      X      Y   \n",
       "N     T                                                                      \n",
       "26480 2019-06-11 20:58:00.800000+02:00          -6.48   8.51  34.97  23.54   \n",
       "26481 2019-06-11 20:58:00.840000+02:00          -6.15   6.34  35.01  23.46   \n",
       "26482 2019-06-11 20:58:00.880000+02:00          -5.64   5.21  35.03  23.41   \n",
       "26483 2019-06-11 20:58:00.920000+02:00          -4.94   3.50  35.05  23.36   \n",
       "26484 2019-06-11 20:58:00.960000+02:00          -4.09   1.97  35.04  23.33   \n",
       "26485 2019-06-11 20:58:01+02:00                 -3.16   1.58  35.03  23.31   \n",
       "26486 2019-06-11 20:58:01.040000+02:00          -2.25   2.29  35.01  23.29   \n",
       "26487 2019-06-11 20:58:01.080000+02:00          -1.59   2.29  34.99  23.29   \n",
       "26488 2019-06-11 20:58:01.120000+02:00          -1.27   3.10  34.95  23.31   \n",
       "26489 2019-06-11 20:58:01.160000+02:00          -1.30   2.96  34.92  23.32   \n",
       "26490 2019-06-11 20:58:01.200000+02:00          -1.60   2.80  34.89  23.34   \n",
       "26491 2019-06-11 20:58:01.240000+02:00          -2.06   2.58  34.84  23.36   \n",
       "26492 2019-06-11 20:58:01.280000+02:00          -2.54   2.80  34.81  23.38   \n",
       "26493 2019-06-11 20:58:01.320000+02:00          -2.99   2.80  34.77  23.40   \n",
       "26494 2019-06-11 20:58:01.360000+02:00          -2.64   2.24  34.72  23.42   \n",
       "26495 2019-06-11 20:58:01.400000+02:00           3.40   2.48  34.69  23.43   \n",
       "26496 2019-06-11 20:58:01.440000+02:00           4.07   2.60  34.65  23.44   \n",
       "26497 2019-06-11 20:58:01.480000+02:00           4.28   2.78  34.64  23.45   \n",
       "26498 2019-06-11 20:58:01.520000+02:00           4.32   2.96  34.63  23.46   \n",
       "26499 2019-06-11 20:58:01.560000+02:00           0.00   1.79  34.63  23.47   \n",
       "26500 2019-06-11 20:58:01.600000+02:00           0.00   1.25  34.65  23.47   \n",
       "26501 2019-06-11 20:58:01.640000+02:00           0.00   1.64  34.69  23.48   \n",
       "26502 2019-06-11 20:58:01.680000+02:00           0.00   2.96  34.74  23.50   \n",
       "26503 2019-06-11 20:58:01.720000+02:00           0.00   4.31  34.80  23.50   \n",
       "26504 2019-06-11 20:58:01.760000+02:00           0.00   5.71  34.87  23.50   \n",
       "26505 2019-06-11 20:58:01.800000+02:00           0.00   6.32  34.94  23.50   \n",
       "26506 2019-06-11 20:58:01.840000+02:00           0.00   6.80  35.02  23.49   \n",
       "26507 2019-06-11 20:58:01.880000+02:00           0.00   7.33  35.10  23.46   \n",
       "26508 2019-06-11 20:58:01.920000+02:00           0.00   7.73  35.18  23.43   \n",
       "26509 2019-06-11 20:58:01.960000+02:00           0.00   8.00  35.26  23.40   \n",
       "26510 2019-06-11 20:58:02+02:00                  0.00   8.25  35.35  23.37   \n",
       "26511 2019-06-11 20:58:02.040000+02:00           0.00   8.46  35.44  23.34   \n",
       "26512 2019-06-11 20:58:02.080000+02:00           0.00   8.64  35.53  23.29   \n",
       "26513 2019-06-11 20:58:02.120000+02:00           0.00   8.81  35.62  23.25   \n",
       "26514 2019-06-11 20:58:02.160000+02:00           0.00   9.13  35.71  23.21   \n",
       "26515 2019-06-11 20:58:02.200000+02:00           0.00   9.40  35.81  23.18   \n",
       "26516 2019-06-11 20:58:02.240000+02:00           0.00   9.74  35.90  23.14   \n",
       "26517 2019-06-11 20:58:02.280000+02:00           0.00  10.03  36.00  23.07   \n",
       "26518 2019-06-11 20:58:02.320000+02:00           0.00  10.32  36.10  23.00   \n",
       "26519 2019-06-11 20:58:02.360000+02:00           0.00  10.62  36.20  22.93   \n",
       "26520 2019-06-11 20:58:02.400000+02:00           0.00  11.06  36.30  22.87   \n",
       "\n",
       "TeamId                                            \n",
       "PersonId                                          \n",
       "Position                                     DtB  \n",
       "N     T                                           \n",
       "26480 2019-06-11 20:58:00.800000+02:00  8.886225  \n",
       "26481 2019-06-11 20:58:00.840000+02:00  8.811640  \n",
       "26482 2019-06-11 20:58:00.880000+02:00  8.758641  \n",
       "26483 2019-06-11 20:58:00.920000+02:00  8.704045  \n",
       "26484 2019-06-11 20:58:00.960000+02:00  8.650000  \n",
       "26485 2019-06-11 20:58:01+02:00         8.596046  \n",
       "26486 2019-06-11 20:58:01.040000+02:00  8.552076  \n",
       "26487 2019-06-11 20:58:01.080000+02:00  8.514159  \n",
       "26488 2019-06-11 20:58:01.120000+02:00  8.482040  \n",
       "26489 2019-06-11 20:58:01.160000+02:00  8.004049  \n",
       "26490 2019-06-11 20:58:01.200000+02:00  7.526447  \n",
       "26491 2019-06-11 20:58:01.240000+02:00  7.053907  \n",
       "26492 2019-06-11 20:58:01.280000+02:00  6.585811  \n",
       "26493 2019-06-11 20:58:01.320000+02:00  6.124222  \n",
       "26494 2019-06-11 20:58:01.360000+02:00  5.646981  \n",
       "26495 2019-06-11 20:58:01.400000+02:00  5.182403  \n",
       "26496 2019-06-11 20:58:01.440000+02:00  4.705932  \n",
       "26497 2019-06-11 20:58:01.480000+02:00  4.246975  \n",
       "26498 2019-06-11 20:58:01.520000+02:00  3.865954  \n",
       "26499 2019-06-11 20:58:01.560000+02:00  3.488266  \n",
       "26500 2019-06-11 20:58:01.600000+02:00  3.181352  \n",
       "26501 2019-06-11 20:58:01.640000+02:00  2.876960  \n",
       "26502 2019-06-11 20:58:01.680000+02:00  2.670880  \n",
       "26503 2019-06-11 20:58:01.720000+02:00  2.337028  \n",
       "26504 2019-06-11 20:58:01.760000+02:00  2.085210  \n",
       "26505 2019-06-11 20:58:01.800000+02:00  1.874807  \n",
       "26506 2019-06-11 20:58:01.840000+02:00  1.618054  \n",
       "26507 2019-06-11 20:58:01.880000+02:00  1.381774  \n",
       "26508 2019-06-11 20:58:01.920000+02:00  1.171537  \n",
       "26509 2019-06-11 20:58:01.960000+02:00  0.942603  \n",
       "26510 2019-06-11 20:58:02+02:00         0.715681  \n",
       "26511 2019-06-11 20:58:02.040000+02:00  0.603738  \n",
       "26512 2019-06-11 20:58:02.080000+02:00  0.481041  \n",
       "26513 2019-06-11 20:58:02.120000+02:00  0.415933  \n",
       "26514 2019-06-11 20:58:02.160000+02:00  0.429535  \n",
       "26515 2019-06-11 20:58:02.200000+02:00  0.350000  \n",
       "26516 2019-06-11 20:58:02.240000+02:00  0.303645  \n",
       "26517 2019-06-11 20:58:02.280000+02:00  0.331059  \n",
       "26518 2019-06-11 20:58:02.320000+02:00  0.332415  \n",
       "26519 2019-06-11 20:58:02.360000+02:00  0.304138  \n",
       "26520 2019-06-11 20:58:02.400000+02:00  0.166433  "
      ]
     },
     "execution_count": 262,
     "metadata": {},
     "output_type": "execute_result"
    }
   ],
   "source": [
    "positions.loc[(slice(26480,26520)),(team,player,columns)]"
   ]
  },
  {
   "cell_type": "code",
   "execution_count": null,
   "metadata": {},
   "outputs": [],
   "source": []
  },
  {
   "cell_type": "code",
   "execution_count": null,
   "metadata": {},
   "outputs": [],
   "source": []
  },
  {
   "cell_type": "code",
   "execution_count": null,
   "metadata": {},
   "outputs": [],
   "source": []
  },
  {
   "cell_type": "code",
   "execution_count": null,
   "metadata": {},
   "outputs": [],
   "source": []
  },
  {
   "cell_type": "code",
   "execution_count": null,
   "metadata": {},
   "outputs": [],
   "source": []
  },
  {
   "cell_type": "markdown",
   "metadata": {},
   "source": [
    "2. Halbzeit"
   ]
  },
  {
   "cell_type": "code",
   "execution_count": 25,
   "metadata": {},
   "outputs": [],
   "source": [
    "positions2=get_tracking_data(xml_positions,\"secondHalf\")    "
   ]
  },
  {
   "cell_type": "code",
   "execution_count": 27,
   "metadata": {},
   "outputs": [],
   "source": [
    "subs=kpimergednew[kpimergednew.SUBTYPE=='Substitution']"
   ]
  },
  {
   "cell_type": "code",
   "execution_count": 55,
   "metadata": {},
   "outputs": [
    {
     "data": {
      "text/plain": [
       "PUID1    DFL-OBJ-0000OJ\n",
       "PUID2    DFL-OBJ-0000Q9\n",
       "N                110968\n",
       "Name: 1023, dtype: object"
      ]
     },
     "execution_count": 55,
     "metadata": {},
     "output_type": "execute_result"
    }
   ],
   "source": [
    "i=1\n",
    "subs.index.tolist() ##eintrag in kpimerged\n",
    "subs.loc[subs.index.tolist()[i],[\"PUID1\",\"PUID2\",\"N\"]]"
   ]
  },
  {
   "cell_type": "code",
   "execution_count": 57,
   "metadata": {},
   "outputs": [
    {
     "data": {
      "text/plain": [
       "True"
      ]
     },
     "execution_count": 57,
     "metadata": {},
     "output_type": "execute_result"
    }
   ],
   "source": [
    "subs.loc[subs.index.tolist()[i],[\"PUID1\"]].iat[0] in cuid1players"
   ]
  },
  {
   "cell_type": "code",
   "execution_count": 65,
   "metadata": {},
   "outputs": [],
   "source": [
    "def getplayername(playerid):\n",
    "    if playerid in cuid1_player_IDs:\n",
    "        name=cuid1_team_meta_df[\"Name\"][cuid1_team_meta_df[\"ObjectId\"]==playerid]\n",
    "    else:\n",
    "        name=cuid2_team_meta_df[\"Name\"][cuid2_team_meta_df[\"ObjectId\"]==playerid]\n",
    "    return name"
   ]
  },
  {
   "cell_type": "code",
   "execution_count": 88,
   "metadata": {},
   "outputs": [
    {
     "data": {
      "text/plain": [
       "nan"
      ]
     },
     "execution_count": 88,
     "metadata": {},
     "output_type": "execute_result"
    }
   ],
   "source": [
    "calculateDistance2(positions2.loc[(111991),(CUID1,\"DFL-OBJ-0000OJ\",\"X\")].iat[0],positions2.loc[(111991),(CUID1,\"DFL-OBJ-0000OJ\",\"Y\")].iat[0],positions2.loc[(111992),(CUID1,\"DFL-OBJ-0000OJ\",\"X\")].iat[0],positions2.loc[(111992),(CUID1,\"DFL-OBJ-0000OJ\",\"Y\")].iat[0])"
   ]
  },
  {
   "cell_type": "code",
   "execution_count": 89,
   "metadata": {},
   "outputs": [
    {
     "data": {
      "text/plain": [
       "False"
      ]
     },
     "execution_count": 89,
     "metadata": {},
     "output_type": "execute_result"
    }
   ],
   "source": [
    "np.isnan(positions2.loc[(111991),(CUID1,\"DFL-OBJ-0001F4\",\"X\")].iat[0])==True"
   ]
  },
  {
   "cell_type": "code",
   "execution_count": 26,
   "metadata": {},
   "outputs": [],
   "source": [
    "#calculates distance to ball for every player playing 2.half\n",
    "players=positions2.columns.get_level_values(level=1).unique()\n",
    "for player in players:\n",
    "    if player in cuid1_player_IDs:\n",
    "        positions2[CUID1,player,'DtB']=positions2.apply(lambda x: calculateDistance(x[CUID1,player,'X'],x[CUID1,player,'Y'],x['BALL','DFL-OBJ-0000XT','X'],x['BALL','DFL-OBJ-0000XT','Y']),axis=1)\n",
    "    if player in cuid2_player_IDs:\n",
    "        positions2[CUID2,player,'DtB']=positions2.apply(lambda x: calculateDistance(x[CUID2,player,'X'],x[CUID2,player,'Y'],x['BALL','DFL-OBJ-0000XT','X'],x['BALL','DFL-OBJ-0000XT','Y']),axis=1)"
   ]
  },
  {
   "cell_type": "code",
   "execution_count": 210,
   "metadata": {},
   "outputs": [
    {
     "data": {
      "text/plain": [
       "46497"
      ]
     },
     "execution_count": 210,
     "metadata": {},
     "output_type": "execute_result"
    }
   ],
   "source": [
    "(balldf2.loc[:,(\"BALL\",\"DFL-OBJ-0000XT\",\"BallStatus\")]==1).sum()"
   ]
  },
  {
   "cell_type": "code",
   "execution_count": 35,
   "metadata": {},
   "outputs": [],
   "source": [
    "def possession(teamid,half,style):\n",
    "    \n",
    "    if style==\"standard\":\n",
    "        #anz=((balldf2.loc[:,(\"BALL\",\"DFL-OBJ-0000XT\",\"BallStatus\")]==1) & (balldf2.loc[:,(\"BALL\",\"DFL-OBJ-0000XT\",\"BallPossession\")]==1) & (balldf2.loc[:,(\"BALL\",\"DFL-OBJ-0000XT\",\"X\")]>=0)).sum()\n",
    "        anz=((matchinfo.get(half)[\"BallDf\"].loc[:,(\"BALL\",\"DFL-OBJ-0000XT\",\"BallPossession\")]==matchinfo.get(teamid)[\"BallPoss\"])).sum()\n",
    "        ges=len(matchinfo.get(half)[\"BallDf\"].loc[:,(\"BALL\",\"DFL-OBJ-0000XT\",\"BallPossession\")])\n",
    "        poss=anz/ges\n",
    "        minutes= anz/1500\n",
    "        \n",
    "    if style==\"cleaned standard\":\n",
    "        anz=((matchinfo.get(half)[\"BallDf\"].loc[:,(\"BALL\",\"DFL-OBJ-0000XT\",\"BallPossession\")]==matchinfo.get(teamid)[\"BallPoss\"]) & (matchinfo.get(half)[\"BallDf\"].loc[:,(\"BALL\",\"DFL-OBJ-0000XT\",\"BallStatus\")]==1)).sum()\n",
    "        ges=((matchinfo.get(half)[\"BallDf\"].loc[:,(\"BALL\",\"DFL-OBJ-0000XT\",\"BallStatus\")]==1)).sum()\n",
    "        poss=anz/ges\n",
    "        minutes= anz/1500\n",
    "        \n",
    "    if style==\"opposing half\":\n",
    "        if matchinfo.get(teamid)[half]==\"left to right\":\n",
    "            #anz=((balldf2.loc[:,(\"BALL\",\"DFL-OBJ-0000XT\",\"BallStatus\")]==1) & (balldf2.loc[:,(\"BALL\",\"DFL-OBJ-0000XT\",\"BallPossession\")]==1) & (balldf2.loc[:,(\"BALL\",\"DFL-OBJ-0000XT\",\"X\")]>=0)).sum()\n",
    "            anz=((matchinfo.get(half)[\"BallDf\"].loc[:,(\"BALL\",\"DFL-OBJ-0000XT\",\"BallPossession\")]==matchinfo.get(teamid)[\"BallPoss\"]) & (matchinfo.get(half)[\"BallDf\"].loc[:,(\"BALL\",\"DFL-OBJ-0000XT\",\"X\")]>=0)).sum()\n",
    "            ges=((matchinfo.get(half)[\"BallDf\"].loc[:,(\"BALL\",\"DFL-OBJ-0000XT\",\"BallPossession\")]==matchinfo.get(teamid)[\"BallPoss\"])).sum()\n",
    "            poss=anz/ges\n",
    "            minutes= anz/1500\n",
    "        if matchinfo.get(teamid)[half]==\"right to left\":\n",
    "            anz=((matchinfo.get(half)[\"BallDf\"].loc[:,(\"BALL\",\"DFL-OBJ-0000XT\",\"BallPossession\")]==matchinfo.get(teamid)[\"BallPoss\"]) & (matchinfo.get(half)[\"BallDf\"].loc[:,(\"BALL\",\"DFL-OBJ-0000XT\",\"X\")]<=0)).sum()\n",
    "            ges=((matchinfo.get(half)[\"BallDf\"].loc[:,(\"BALL\",\"DFL-OBJ-0000XT\",\"BallPossession\")]==matchinfo.get(teamid)[\"BallPoss\"])).sum()\n",
    "            poss=anz/ges\n",
    "            minutes= anz/1500\n",
    "\n",
    "    return poss,minutes"
   ]
  },
  {
   "cell_type": "code",
   "execution_count": 137,
   "metadata": {},
   "outputs": [
    {
     "data": {
      "text/plain": [
       "0.26549264551393725"
      ]
     },
     "execution_count": 137,
     "metadata": {},
     "output_type": "execute_result"
    }
   ],
   "source": [
    "##combine \n",
    "typeofposs=\"cleaned standard\"\n",
    "teamid=CUID2\n",
    "(possession(teamid,1,typeofposs)[0] + possession(teamid,2,typeofposs)[0])/2       #ballpossession \n",
    "#(possession(CUID1,1,typeofposs)[1] + possession(CUID1,2,typeofposs)[1])+(possession(CUID2,1,typeofposs)[1] + possession(CUID2,2,typeofposs)[1])       #playing minutes"
   ]
  },
  {
   "cell_type": "code",
   "execution_count": 91,
   "metadata": {},
   "outputs": [
    {
     "data": {
      "text/plain": [
       "0.5847659574468085"
      ]
     },
     "execution_count": 91,
     "metadata": {},
     "output_type": "execute_result"
    }
   ],
   "source": [
    "possession(CUID1,2,\"classic\")"
   ]
  },
  {
   "cell_type": "code",
   "execution_count": 87,
   "metadata": {
    "collapsed": true,
    "jupyter": {
     "outputs_hidden": true
    }
   },
   "outputs": [
    {
     "data": {
      "text/plain": [
       "N      T                               \n",
       "10000  2019-06-11 20:47:01.600000+02:00    1\n",
       "10001  2019-06-11 20:47:01.640000+02:00    1\n",
       "10002  2019-06-11 20:47:01.680000+02:00    1\n",
       "10003  2019-06-11 20:47:01.720000+02:00    1\n",
       "10004  2019-06-11 20:47:01.760000+02:00    1\n",
       "10005  2019-06-11 20:47:01.800000+02:00    1\n",
       "10006  2019-06-11 20:47:01.840000+02:00    1\n",
       "10007  2019-06-11 20:47:01.880000+02:00    1\n",
       "10008  2019-06-11 20:47:01.920000+02:00    1\n",
       "10009  2019-06-11 20:47:01.960000+02:00    1\n",
       "10010  2019-06-11 20:47:02+02:00           1\n",
       "10011  2019-06-11 20:47:02.040000+02:00    1\n",
       "10012  2019-06-11 20:47:02.080000+02:00    1\n",
       "10013  2019-06-11 20:47:02.120000+02:00    1\n",
       "10014  2019-06-11 20:47:02.160000+02:00    1\n",
       "10015  2019-06-11 20:47:02.200000+02:00    1\n",
       "10016  2019-06-11 20:47:02.240000+02:00    1\n",
       "10017  2019-06-11 20:47:02.280000+02:00    1\n",
       "10018  2019-06-11 20:47:02.320000+02:00    1\n",
       "10019  2019-06-11 20:47:02.360000+02:00    1\n",
       "10020  2019-06-11 20:47:02.400000+02:00    1\n",
       "10021  2019-06-11 20:47:02.440000+02:00    1\n",
       "10022  2019-06-11 20:47:02.480000+02:00    1\n",
       "10023  2019-06-11 20:47:02.520000+02:00    1\n",
       "10024  2019-06-11 20:47:02.560000+02:00    1\n",
       "10025  2019-06-11 20:47:02.600000+02:00    1\n",
       "10026  2019-06-11 20:47:02.640000+02:00    1\n",
       "10027  2019-06-11 20:47:02.680000+02:00    1\n",
       "10028  2019-06-11 20:47:02.720000+02:00    1\n",
       "10029  2019-06-11 20:47:02.760000+02:00    1\n",
       "                                          ..\n",
       "77645  2019-06-11 21:32:07.400000+02:00    1\n",
       "77646  2019-06-11 21:32:07.440000+02:00    1\n",
       "77647  2019-06-11 21:32:07.480000+02:00    1\n",
       "77648  2019-06-11 21:32:07.520000+02:00    1\n",
       "77649  2019-06-11 21:32:07.560000+02:00    1\n",
       "77650  2019-06-11 21:32:07.600000+02:00    1\n",
       "77651  2019-06-11 21:32:07.640000+02:00    1\n",
       "77652  2019-06-11 21:32:07.680000+02:00    1\n",
       "77653  2019-06-11 21:32:07.720000+02:00    1\n",
       "77654  2019-06-11 21:32:07.760000+02:00    1\n",
       "77655  2019-06-11 21:32:07.800000+02:00    1\n",
       "77656  2019-06-11 21:32:07.840000+02:00    1\n",
       "77657  2019-06-11 21:32:07.880000+02:00    1\n",
       "77658  2019-06-11 21:32:07.920000+02:00    1\n",
       "77659  2019-06-11 21:32:07.960000+02:00    1\n",
       "77660  2019-06-11 21:32:08+02:00           1\n",
       "77661  2019-06-11 21:32:08.040000+02:00    1\n",
       "77662  2019-06-11 21:32:08.080000+02:00    1\n",
       "77663  2019-06-11 21:32:08.120000+02:00    1\n",
       "77664  2019-06-11 21:32:08.160000+02:00    1\n",
       "77665  2019-06-11 21:32:08.200000+02:00    1\n",
       "77666  2019-06-11 21:32:08.240000+02:00    1\n",
       "77667  2019-06-11 21:32:08.280000+02:00    1\n",
       "77668  2019-06-11 21:32:08.320000+02:00    1\n",
       "77669  2019-06-11 21:32:08.360000+02:00    1\n",
       "77670  2019-06-11 21:32:08.400000+02:00    1\n",
       "77671  2019-06-11 21:32:08.440000+02:00    1\n",
       "77672  2019-06-11 21:32:08.480000+02:00    1\n",
       "77673  2019-06-11 21:32:08.520000+02:00    1\n",
       "77674  2019-06-11 21:32:08.560000+02:00    2\n",
       "Name: (BALL, DFL-OBJ-0000XT, BallPossession), Length: 67675, dtype: int32"
      ]
     },
     "execution_count": 87,
     "metadata": {},
     "output_type": "execute_result"
    }
   ],
   "source": [
    "matchinfo.get(1)[\"BallDf\"].loc[:,(\"BALL\",\"DFL-OBJ-0000XT\",\"BallPossession\")]"
   ]
  },
  {
   "cell_type": "code",
   "execution_count": 50,
   "metadata": {},
   "outputs": [
    {
     "data": {
      "text/plain": [
       "70500"
      ]
     },
     "execution_count": 50,
     "metadata": {},
     "output_type": "execute_result"
    }
   ],
   "source": [
    "len(balldf2.loc[:,(\"BALL\",\"DFL-OBJ-0000XT\",\"BallPossession\")])"
   ]
  },
  {
   "cell_type": "markdown",
   "metadata": {},
   "source": [
    "# GER - EST"
   ]
  },
  {
   "cell_type": "code",
   "execution_count": 94,
   "metadata": {},
   "outputs": [],
   "source": [
    "xml_positions = etree.parse('C:/Users/Tim/Desktop/Q-Index Master/data/GER-EST/DFL_04_03_positions_raw_observed_DFL-COM-000001_DFL-MAT-003BEU.xml') ##privat\n",
    "kpimerged = pd.read_excel('C:/Users/Tim/Desktop/Q-Index Master/data/GER-EST/DFB_KPI_MERGED.xlsx') #arbeit\n",
    "path='C:/Users/Tim/Desktop/Q-Index Master/data/GER-EST/'  \n",
    "kpimergednew = kpimerged.rename({'FRAME_NUMBER': 'N'}, axis=1)\n",
    "positions=get_tracking_data(xml_positions)     \n",
    "##create dataframe from xml input\n",
    "positions2=get_tracking_data(xml_positions,\"secondHalf\")  "
   ]
  },
  {
   "cell_type": "code",
   "execution_count": 95,
   "metadata": {},
   "outputs": [],
   "source": [
    "CUID1 = 'DFL-CLU-000N8Y'  #Deutschland\n",
    "CUID2 = 'DFL-CLU-000N8Z'  #Estland"
   ]
  },
  {
   "cell_type": "code",
   "execution_count": 96,
   "metadata": {},
   "outputs": [],
   "source": [
    "matchinfo = {\n",
    "    CUID1: {\n",
    "        \"BallPoss\":1,\n",
    "        \"TeamID\":CUID1,\n",
    "    },\n",
    "    CUID2: {\n",
    "        \"BallPoss\":2,\n",
    "        \"TeamID\":CUID2,\n",
    "    },\n",
    "    1: {\n",
    "        \"Dataframe\":positions,\n",
    "    },\n",
    "    2: {\n",
    "        \"Dataframe\":positions2,\n",
    "    }\n",
    "}"
   ]
  },
  {
   "cell_type": "code",
   "execution_count": 97,
   "metadata": {},
   "outputs": [],
   "source": [
    "matchinfo = {\n",
    "    CUID1: {\n",
    "        1:getdirectionofplay(CUID1,1),\n",
    "        2:getdirectionofplay(CUID1,2),\n",
    "        \"BallPoss\":1,\n",
    "        \"TeamID\":CUID1,\n",
    "    },\n",
    "    CUID2: {\n",
    "        1:getdirectionofplay(CUID2,1),\n",
    "        2:getdirectionofplay(CUID2,2),\n",
    "        \"BallPoss\":2,\n",
    "        \"TeamID\":CUID2,\n",
    "    },\n",
    "    1: {\n",
    "        \"Dataframe\":positions,\n",
    "        CUID1:getteamsheet(CUID1,1),\n",
    "        CUID2:getteamsheet(CUID2,1),\n",
    "        \"Startframe\":positions.index.get_level_values(0)[0],\n",
    "        \"Endframe\":positions.index.get_level_values(0)[positions.shape[0]-1],\n",
    "    },\n",
    "    2: {\n",
    "        \"Dataframe\":positions2,\n",
    "        CUID1:getteamsheet(CUID1,2),\n",
    "        CUID2:getteamsheet(CUID2,2),\n",
    "        \"Startframe\":positions2.index.get_level_values(0)[0],\n",
    "        \"Endframe\":positions2.index.get_level_values(0)[positions.shape[0]-1],\n",
    "    },\n",
    "    \"left to right\":{\n",
    "        \"Goalline\":52.5\n",
    "    },\n",
    "    \"right to left\":{\n",
    "        \"Goalline\":-52.5\n",
    "    }\n",
    "}"
   ]
  },
  {
   "cell_type": "code",
   "execution_count": 98,
   "metadata": {},
   "outputs": [],
   "source": [
    "players=positions.columns.get_level_values(level=1).unique()\n",
    "players=players.append(positions2.columns.get_level_values(level=1).unique())\n",
    "players=players.unique()\n",
    "players=players.drop(\"DFL-OBJ-0000XT\")\n",
    "players\n",
    "for player in players:\n",
    "    if player in matchinfo.get(1)[CUID1]:\n",
    "        positions[CUID1,player,'DtB']=positions.apply(lambda x: calculateDistance(x[CUID1,player,'X'],x[CUID1,player,'Y'],x['BALL','DFL-OBJ-0000XT','X'],x['BALL','DFL-OBJ-0000XT','Y']),axis=1)\n",
    "    if player in matchinfo.get(1)[CUID2]:\n",
    "        positions[CUID2,player,'DtB']=positions.apply(lambda x: calculateDistance(x[CUID2,player,'X'],x[CUID2,player,'Y'],x['BALL','DFL-OBJ-0000XT','X'],x['BALL','DFL-OBJ-0000XT','Y']),axis=1)"
   ]
  },
  {
   "cell_type": "code",
   "execution_count": 99,
   "metadata": {},
   "outputs": [],
   "source": [
    "for player in players:\n",
    "    if player in matchinfo.get(2)[CUID1]:\n",
    "        positions2[CUID1,player,'DtB']=positions2.apply(lambda x: calculateDistance(x[CUID1,player,'X'],x[CUID1,player,'Y'],x['BALL','DFL-OBJ-0000XT','X'],x['BALL','DFL-OBJ-0000XT','Y']),axis=1)\n",
    "    if player in matchinfo.get(2)[CUID2]:\n",
    "        positions2[CUID2,player,'DtB']=positions2.apply(lambda x: calculateDistance(x[CUID2,player,'X'],x[CUID2,player,'Y'],x['BALL','DFL-OBJ-0000XT','X'],x['BALL','DFL-OBJ-0000XT','Y']),axis=1)"
   ]
  },
  {
   "cell_type": "code",
   "execution_count": 100,
   "metadata": {},
   "outputs": [],
   "source": [
    "balldf=positions.loc[:,(\"BALL\",\"DFL-OBJ-0000XT\",slice(None))]   ##Ballkoordinaten 1. Halbzeit\n",
    "CUID1df = positions.loc[:,(CUID1,slice(None),slice(None))]     ##Koordinaten von CUID1 1. Halbzeit\n",
    "cuid1players=CUID1df.columns.get_level_values(level=1).unique()        ##Spieler, die in der 1. Halbzeit auf dem Platz standen\n",
    "cuid1balldf=pd.merge(CUID1df, balldf, left_index=True, right_index=True)  \n",
    "\n",
    "CUID2df = positions.loc[:,(CUID2,slice(None),slice(None))]     ##Koordinaten von CUID2 1. Halbzeit\n",
    "cuid2players=CUID2df.columns.get_level_values(level=1).unique()        ##Spieler, die in der 1. Halbzeit auf dem Platz standen\n",
    "cuid2balldf=pd.merge(CUID2df, balldf, left_index=True, right_index=True)   ##Gemergter Dataframe Ball und CUID1 1. Halbzeit\n",
    "\n",
    "balldf2=positions2.loc[:,(\"BALL\",\"DFL-OBJ-0000XT\",slice(None))]   ##Ballkoordinaten 2. Halbzeit\n",
    "CUID1df2 = positions2.loc[:,(CUID1,slice(None),slice(None))]     ##Koordinaten von CUID1 2. Halbzeit\n",
    "cuid1players2=CUID1df2.columns.get_level_values(level=1).unique()        ##Spieler, die in der 2. Halbzeit auf dem Platz standen\n",
    "cuid1balldf2=pd.merge(CUID1df2, balldf2, left_index=True, right_index=True)   ##Gemergter Dataframe Ball und CUID1 2. Halbzeit\n",
    "\n",
    "CUID2df2 = positions2.loc[:,(CUID2,slice(None),slice(None))]     ##Koordinaten von CUID1 1. Halbzeit\n",
    "cuid2players2=CUID2df2.columns.get_level_values(level=1).unique()        ##Spieler, die in der 1. Halbzeit auf dem Platz standen\n",
    "cuid2balldf2=pd.merge(CUID2df2, balldf2, left_index=True, right_index=True)   ##Gemergter Dataframe Ball und CUID1 1. Halbzeit"
   ]
  },
  {
   "cell_type": "code",
   "execution_count": 101,
   "metadata": {},
   "outputs": [],
   "source": [
    "matchinfo = {\n",
    "    CUID1: {\n",
    "        1:getdirectionofplay(CUID1,1),\n",
    "        2:getdirectionofplay(CUID1,2),\n",
    "        \"BallPoss\":1,\n",
    "        \"TeamID\":CUID1,\n",
    "        \"TeamBallDf1\":cuid1balldf,\n",
    "        \"TeamBallDf2\":cuid1balldf2,\n",
    "    },\n",
    "    CUID2: {\n",
    "        1:getdirectionofplay(CUID2,1),\n",
    "        2:getdirectionofplay(CUID2,2),\n",
    "        \"BallPoss\":2,\n",
    "        \"TeamID\":CUID2,\n",
    "        \"TeamBallDf1\":cuid2balldf,\n",
    "        \"TeamBallDf2\":cuid2balldf2,\n",
    "    },\n",
    "    1: {\n",
    "        \"BallDf\":balldf,\n",
    "        \"Dataframe\":positions,\n",
    "        CUID1:getteamsheet(CUID1,1),\n",
    "        CUID2:getteamsheet(CUID2,1),\n",
    "        \"Startframe\":positions.index.get_level_values(0)[0],\n",
    "        \"Endframe\":positions.index.get_level_values(0)[positions.shape[0]-1],\n",
    "    },\n",
    "    2: {\n",
    "        \"BallDf\":balldf2,\n",
    "        \"Dataframe\":positions2,\n",
    "        CUID1:getteamsheet(CUID1,2),\n",
    "        CUID2:getteamsheet(CUID2,2),\n",
    "        \"Startframe\":positions2.index.get_level_values(0)[0],\n",
    "        \"Endframe\":positions2.index.get_level_values(0)[positions.shape[0]-1],\n",
    "    },\n",
    "    \"left to right\":{\n",
    "        \"Goalline\":52.5\n",
    "    },\n",
    "    \"right to left\":{\n",
    "        \"Goalline\":-52.5\n",
    "    }\n",
    "}"
   ]
  },
  {
   "cell_type": "code",
   "execution_count": 102,
   "metadata": {},
   "outputs": [
    {
     "data": {
      "text/plain": [
       "0.7345073544860627"
      ]
     },
     "execution_count": 102,
     "metadata": {},
     "output_type": "execute_result"
    }
   ],
   "source": [
    "##combine \n",
    "typeofposs=\"cleaned standard\"\n",
    "teamid=CUID1\n",
    "(possession(teamid,1,typeofposs)[0] + possession(teamid,2,typeofposs)[0])/2       #ballpossession \n",
    "#(possession(CUID1,1,typeofposs)[1] + possession(CUID1,2,typeofposs)[1])+(possession(CUID2,1,typeofposs)[1] + possession(CUID2,2,typeofposs)[1])       #playing minutes"
   ]
  },
  {
   "cell_type": "code",
   "execution_count": 103,
   "metadata": {},
   "outputs": [
    {
     "data": {
      "text/plain": [
       "0.26549264551393725"
      ]
     },
     "execution_count": 103,
     "metadata": {},
     "output_type": "execute_result"
    }
   ],
   "source": [
    "##combine \n",
    "typeofposs=\"cleaned standard\"\n",
    "teamid=CUID2\n",
    "(possession(teamid,1,typeofposs)[0] + possession(teamid,2,typeofposs)[0])/2       #ballpossession \n",
    "#(possession(CUID1,1,typeofposs)[1] + possession(CUID1,2,typeofposs)[1])+(possession(CUID2,1,typeofposs)[1] + possession(CUID2,2,typeofposs)[1])       #playing minutes"
   ]
  },
  {
   "cell_type": "code",
   "execution_count": 104,
   "metadata": {},
   "outputs": [
    {
     "data": {
      "text/plain": [
       "0.7910000114490274"
      ]
     },
     "execution_count": 104,
     "metadata": {},
     "output_type": "execute_result"
    }
   ],
   "source": [
    "##combine \n",
    "typeofposs=\"opposing half\"\n",
    "teamid=CUID1\n",
    "(possession(teamid,1,typeofposs)[0] + possession(teamid,2,typeofposs)[0])/2       #ballpossession \n",
    "#(possession(CUID1,1,typeofposs)[1] + possession(CUID1,2,typeofposs)[1])+(possession(CUID2,1,typeofposs)[1] + possession(CUID2,2,typeofposs)[1])       #playing minutes"
   ]
  },
  {
   "cell_type": "code",
   "execution_count": 105,
   "metadata": {},
   "outputs": [
    {
     "data": {
      "text/plain": [
       "0.14522744162737847"
      ]
     },
     "execution_count": 105,
     "metadata": {},
     "output_type": "execute_result"
    }
   ],
   "source": [
    "##combine \n",
    "typeofposs=\"opposing half\"\n",
    "teamid=CUID2\n",
    "(possession(teamid,1,typeofposs)[0] + possession(teamid,2,typeofposs)[0])/2       #ballpossession \n",
    "#(possession(CUID1,1,typeofposs)[1] + possession(CUID1,2,typeofposs)[1])+(possession(CUID2,1,typeofposs)[1] + possession(CUID2,2,typeofposs)[1])       #playing minutes"
   ]
  },
  {
   "cell_type": "code",
   "execution_count": 106,
   "metadata": {},
   "outputs": [
    {
     "name": "stdout",
     "output_type": "stream",
     "text": [
      "73\n"
     ]
    }
   ],
   "source": [
    "###Zusammenspiel aller Codeschnipsel für alle Spieler\n",
    "numofsprints=0\n",
    "for player in matchinfo.get(1)[CUID1]:\n",
    "    currentdf=createsprintdf2(1,CUID1,player,4,17.5,1)\n",
    "    indexNames = currentdf[ currentdf['Adj Endframe']-currentdf['Startframe'] < 10 ].index\n",
    "    currentdf.drop(indexNames , inplace=True)\n",
    "    numofsprints=numofsprints+len(currentdf[(currentdf.BP==\"Yes\") & (currentdf.FinalThird==\"Yes\") & (currentdf.Poss==\"No\")& (currentdf.Forward==\"Yes\")].index)\n",
    "print(numofsprints)"
   ]
  },
  {
   "cell_type": "code",
   "execution_count": 107,
   "metadata": {},
   "outputs": [
    {
     "name": "stdout",
     "output_type": "stream",
     "text": [
      "77\n"
     ]
    }
   ],
   "source": [
    "numofsprints=0\n",
    "for player in matchinfo.get(2)[CUID1]:\n",
    "    currentdf=createsprintdf2(2,CUID1,player,4,17.5,1)\n",
    "    indexNames = currentdf[ currentdf['Adj Endframe']-currentdf['Startframe'] < 10 ].index\n",
    "    currentdf.drop(indexNames , inplace=True)\n",
    "    numofsprints=numofsprints+len(currentdf[(currentdf.BP==\"Yes\") & (currentdf.FinalThird==\"Yes\") & (currentdf.Poss==\"No\")& (currentdf.Forward==\"Yes\")].index)\n",
    "print(numofsprints)"
   ]
  },
  {
   "cell_type": "code",
   "execution_count": 108,
   "metadata": {},
   "outputs": [
    {
     "name": "stdout",
     "output_type": "stream",
     "text": [
      "4\n"
     ]
    }
   ],
   "source": [
    "###Zusammenspiel aller Codeschnipsel für alle Spieler\n",
    "numofsprints=0\n",
    "for player in matchinfo.get(1)[CUID2]:\n",
    "    currentdf=createsprintdf2(1,CUID2,player,4,17.5,1)\n",
    "    indexNames = currentdf[ currentdf['Adj Endframe']-currentdf['Startframe'] < 10 ].index\n",
    "    currentdf.drop(indexNames , inplace=True)\n",
    "    numofsprints=numofsprints+len(currentdf[(currentdf.BP==\"Yes\") & (currentdf.FinalThird==\"Yes\") & (currentdf.Poss==\"No\")& (currentdf.Forward==\"Yes\")].index)\n",
    "print(numofsprints)"
   ]
  },
  {
   "cell_type": "code",
   "execution_count": 109,
   "metadata": {},
   "outputs": [
    {
     "name": "stdout",
     "output_type": "stream",
     "text": [
      "3\n"
     ]
    }
   ],
   "source": [
    "###Zusammenspiel aller Codeschnipsel für alle Spieler\n",
    "numofsprints=0\n",
    "for player in matchinfo.get(2)[CUID2]:\n",
    "    currentdf=createsprintdf2(2,CUID2,player,4,17.5,1)\n",
    "    indexNames = currentdf[ currentdf['Adj Endframe']-currentdf['Startframe'] < 10 ].index\n",
    "    currentdf.drop(indexNames , inplace=True)\n",
    "    numofsprints=numofsprints+len(currentdf[(currentdf.BP==\"Yes\") & (currentdf.FinalThird==\"Yes\") & (currentdf.Poss==\"No\")& (currentdf.Forward==\"Yes\")].index)\n",
    "print(numofsprints)"
   ]
  },
  {
   "cell_type": "code",
   "execution_count": null,
   "metadata": {},
   "outputs": [],
   "source": []
  },
  {
   "cell_type": "markdown",
   "metadata": {},
   "source": [
    "# GER -NED"
   ]
  },
  {
   "cell_type": "code",
   "execution_count": 43,
   "metadata": {
    "collapsed": true,
    "jupyter": {
     "outputs_hidden": true
    }
   },
   "outputs": [
    {
     "ename": "OSError",
     "evalue": "Error reading file 'C:/Users/Jung/Desktop/Q-Index Master/data/GER-NED/DFL_04_02_positions_raw_DFL-COM-000001_DFL-MAT-X03BWS.xml': failed to load external entity \"file:/C:/Users/Jung/Desktop/Q-Index%20Master/data/GER-NED/DFL_04_02_positions_raw_DFL-COM-000001_DFL-MAT-X03BWS.xml\"",
     "output_type": "error",
     "traceback": [
      "\u001b[1;31m---------------------------------------------------------------------------\u001b[0m",
      "\u001b[1;31mOSError\u001b[0m                                   Traceback (most recent call last)",
      "\u001b[1;32m<ipython-input-43-108551e72941>\u001b[0m in \u001b[0;36m<module>\u001b[1;34m\u001b[0m\n\u001b[1;32m----> 1\u001b[1;33m \u001b[0mxml_positions\u001b[0m \u001b[1;33m=\u001b[0m \u001b[0metree\u001b[0m\u001b[1;33m.\u001b[0m\u001b[0mparse\u001b[0m\u001b[1;33m(\u001b[0m\u001b[1;34m'C:/Users/Jung/Desktop/Q-Index Master/data/GER-NED/DFL_04_02_positions_raw_DFL-COM-000001_DFL-MAT-X03BWS.xml'\u001b[0m\u001b[1;33m)\u001b[0m \u001b[1;31m##arbeitsplatop\u001b[0m\u001b[1;33m\u001b[0m\u001b[1;33m\u001b[0m\u001b[0m\n\u001b[0m\u001b[0;32m      2\u001b[0m \u001b[0mkpimerged\u001b[0m \u001b[1;33m=\u001b[0m \u001b[0mpd\u001b[0m\u001b[1;33m.\u001b[0m\u001b[0mread_excel\u001b[0m\u001b[1;33m(\u001b[0m\u001b[1;34m'C:/Users/Jung/Desktop/Q-Index Master/data/GER-NED/KPI_MERGED.xlsx'\u001b[0m\u001b[1;33m)\u001b[0m \u001b[1;31m#arbeit\u001b[0m\u001b[1;33m\u001b[0m\u001b[1;33m\u001b[0m\u001b[0m\n\u001b[0;32m      3\u001b[0m \u001b[0mpath\u001b[0m\u001b[1;33m=\u001b[0m\u001b[1;34m'C:/Users/Jung/Desktop/Q-Index Master/data/GER-NED/'\u001b[0m    \u001b[1;31m#arbeit\u001b[0m\u001b[1;33m\u001b[0m\u001b[1;33m\u001b[0m\u001b[0m\n",
      "\u001b[1;32msrc/lxml/etree.pyx\u001b[0m in \u001b[0;36mlxml.etree.parse\u001b[1;34m()\u001b[0m\n",
      "\u001b[1;32msrc/lxml/parser.pxi\u001b[0m in \u001b[0;36mlxml.etree._parseDocument\u001b[1;34m()\u001b[0m\n",
      "\u001b[1;32msrc/lxml/parser.pxi\u001b[0m in \u001b[0;36mlxml.etree._parseDocumentFromURL\u001b[1;34m()\u001b[0m\n",
      "\u001b[1;32msrc/lxml/parser.pxi\u001b[0m in \u001b[0;36mlxml.etree._parseDocFromFile\u001b[1;34m()\u001b[0m\n",
      "\u001b[1;32msrc/lxml/parser.pxi\u001b[0m in \u001b[0;36mlxml.etree._BaseParser._parseDocFromFile\u001b[1;34m()\u001b[0m\n",
      "\u001b[1;32msrc/lxml/parser.pxi\u001b[0m in \u001b[0;36mlxml.etree._ParserContext._handleParseResultDoc\u001b[1;34m()\u001b[0m\n",
      "\u001b[1;32msrc/lxml/parser.pxi\u001b[0m in \u001b[0;36mlxml.etree._handleParseResult\u001b[1;34m()\u001b[0m\n",
      "\u001b[1;32msrc/lxml/parser.pxi\u001b[0m in \u001b[0;36mlxml.etree._raiseParseError\u001b[1;34m()\u001b[0m\n",
      "\u001b[1;31mOSError\u001b[0m: Error reading file 'C:/Users/Jung/Desktop/Q-Index Master/data/GER-NED/DFL_04_02_positions_raw_DFL-COM-000001_DFL-MAT-X03BWS.xml': failed to load external entity \"file:/C:/Users/Jung/Desktop/Q-Index%20Master/data/GER-NED/DFL_04_02_positions_raw_DFL-COM-000001_DFL-MAT-X03BWS.xml\""
     ]
    }
   ],
   "source": [
    "xml_positions = etree.parse('C:/Users/Jung/Desktop/Q-Index Master/data/GER-NED/DFL_04_02_positions_raw_DFL-COM-000001_DFL-MAT-X03BWS.xml') ##arbeitsplatop\n",
    "kpimerged = pd.read_excel('C:/Users/Jung/Desktop/Q-Index Master/data/GER-NED/KPI_MERGED.xlsx') #arbeit\n",
    "path='C:/Users/Jung/Desktop/Q-Index Master/data/GER-NED/'    #arbeit"
   ]
  },
  {
   "cell_type": "code",
   "execution_count": 42,
   "metadata": {
    "collapsed": true,
    "jupyter": {
     "outputs_hidden": true
    }
   },
   "outputs": [
    {
     "ename": "OSError",
     "evalue": "Error reading file 'C:/Users/Jung/Desktop/Q-Index Master/data/GER-NED/DFL_04_02_positions_raw_DFL-COM-000001_DFL-MAT-X03BWS.xml': failed to load external entity \"file:/C:/Users/Jung/Desktop/Q-Index%20Master/data/GER-NED/DFL_04_02_positions_raw_DFL-COM-000001_DFL-MAT-X03BWS.xml\"",
     "output_type": "error",
     "traceback": [
      "\u001b[1;31m---------------------------------------------------------------------------\u001b[0m",
      "\u001b[1;31mOSError\u001b[0m                                   Traceback (most recent call last)",
      "\u001b[1;32m<ipython-input-42-1733932ad2eb>\u001b[0m in \u001b[0;36m<module>\u001b[1;34m\u001b[0m\n\u001b[1;32m----> 1\u001b[1;33m \u001b[0mxml_positions\u001b[0m \u001b[1;33m=\u001b[0m \u001b[0metree\u001b[0m\u001b[1;33m.\u001b[0m\u001b[0mparse\u001b[0m\u001b[1;33m(\u001b[0m\u001b[1;34m'C:/Users/Jung/Desktop/Q-Index Master/data/GER-NED/DFL_04_02_positions_raw_DFL-COM-000001_DFL-MAT-X03BWS.xml'\u001b[0m\u001b[1;33m)\u001b[0m \u001b[1;31m##arbeitsplatop\u001b[0m\u001b[1;33m\u001b[0m\u001b[1;33m\u001b[0m\u001b[0m\n\u001b[0m\u001b[0;32m      2\u001b[0m \u001b[0mkpimerged\u001b[0m \u001b[1;33m=\u001b[0m \u001b[0mpd\u001b[0m\u001b[1;33m.\u001b[0m\u001b[0mread_excel\u001b[0m\u001b[1;33m(\u001b[0m\u001b[1;34m'C:/Users/Jung/Desktop/Q-Index Master/data/GER-NED/KPI_MERGED.xlsx'\u001b[0m\u001b[1;33m)\u001b[0m \u001b[1;31m#arbeit\u001b[0m\u001b[1;33m\u001b[0m\u001b[1;33m\u001b[0m\u001b[0m\n\u001b[0;32m      3\u001b[0m \u001b[0mpath\u001b[0m\u001b[1;33m=\u001b[0m\u001b[1;34m'C:/Users/Jung/Desktop/Q-Index Master/data/GER-NED/'\u001b[0m    \u001b[1;31m#arbeit\u001b[0m\u001b[1;33m\u001b[0m\u001b[1;33m\u001b[0m\u001b[0m\n\u001b[0;32m      4\u001b[0m \u001b[0mkpimergednew\u001b[0m \u001b[1;33m=\u001b[0m \u001b[0mkpimerged\u001b[0m\u001b[1;33m.\u001b[0m\u001b[0mrename\u001b[0m\u001b[1;33m(\u001b[0m\u001b[1;33m{\u001b[0m\u001b[1;34m'FRAME_NUMBER'\u001b[0m\u001b[1;33m:\u001b[0m \u001b[1;34m'N'\u001b[0m\u001b[1;33m}\u001b[0m\u001b[1;33m,\u001b[0m \u001b[0maxis\u001b[0m\u001b[1;33m=\u001b[0m\u001b[1;36m1\u001b[0m\u001b[1;33m)\u001b[0m\u001b[1;33m\u001b[0m\u001b[1;33m\u001b[0m\u001b[0m\n\u001b[0;32m      5\u001b[0m \u001b[0mpositions\u001b[0m\u001b[1;33m=\u001b[0m\u001b[0mget_tracking_data\u001b[0m\u001b[1;33m(\u001b[0m\u001b[0mxml_positions\u001b[0m\u001b[1;33m)\u001b[0m\u001b[1;33m\u001b[0m\u001b[1;33m\u001b[0m\u001b[0m\n",
      "\u001b[1;32msrc/lxml/etree.pyx\u001b[0m in \u001b[0;36mlxml.etree.parse\u001b[1;34m()\u001b[0m\n",
      "\u001b[1;32msrc/lxml/parser.pxi\u001b[0m in \u001b[0;36mlxml.etree._parseDocument\u001b[1;34m()\u001b[0m\n",
      "\u001b[1;32msrc/lxml/parser.pxi\u001b[0m in \u001b[0;36mlxml.etree._parseDocumentFromURL\u001b[1;34m()\u001b[0m\n",
      "\u001b[1;32msrc/lxml/parser.pxi\u001b[0m in \u001b[0;36mlxml.etree._parseDocFromFile\u001b[1;34m()\u001b[0m\n",
      "\u001b[1;32msrc/lxml/parser.pxi\u001b[0m in \u001b[0;36mlxml.etree._BaseParser._parseDocFromFile\u001b[1;34m()\u001b[0m\n",
      "\u001b[1;32msrc/lxml/parser.pxi\u001b[0m in \u001b[0;36mlxml.etree._ParserContext._handleParseResultDoc\u001b[1;34m()\u001b[0m\n",
      "\u001b[1;32msrc/lxml/parser.pxi\u001b[0m in \u001b[0;36mlxml.etree._handleParseResult\u001b[1;34m()\u001b[0m\n",
      "\u001b[1;32msrc/lxml/parser.pxi\u001b[0m in \u001b[0;36mlxml.etree._raiseParseError\u001b[1;34m()\u001b[0m\n",
      "\u001b[1;31mOSError\u001b[0m: Error reading file 'C:/Users/Jung/Desktop/Q-Index Master/data/GER-NED/DFL_04_02_positions_raw_DFL-COM-000001_DFL-MAT-X03BWS.xml': failed to load external entity \"file:/C:/Users/Jung/Desktop/Q-Index%20Master/data/GER-NED/DFL_04_02_positions_raw_DFL-COM-000001_DFL-MAT-X03BWS.xml\""
     ]
    }
   ],
   "source": [
    "kpimergednew = kpimerged.rename({'FRAME_NUMBER': 'N'}, axis=1)\n",
    "positions=get_tracking_data(xml_positions)     \n",
    "##create dataframe from xml input\n",
    "positions2=get_tracking_data(xml_positions,\"secondHalf\")  "
   ]
  },
  {
   "cell_type": "code",
   "execution_count": 44,
   "metadata": {},
   "outputs": [],
   "source": [
    "xml_positions = etree.parse('C:/Users/Tim/Desktop/Q-Index Master/data/GER-NED/DFL_04_02_positions_raw_DFL-COM-000001_DFL-MAT-X03BWS.xml') ##privat\n",
    "kpimerged = pd.read_excel('C:/Users/Tim/Desktop/Q-Index Master/data/GER-NED/KPI_MERGED.xlsx') #arbeit\n",
    "path='C:/Users/Tim/Desktop/Q-Index Master/data/GER-NED/'  \n",
    "kpimergednew = kpimerged.rename({'FRAME_NUMBER': 'N'}, axis=1)\n",
    "positions=get_tracking_data(xml_positions)     \n",
    "##create dataframe from xml input\n",
    "positions2=get_tracking_data(xml_positions,\"secondHalf\")  "
   ]
  },
  {
   "cell_type": "code",
   "execution_count": 53,
   "metadata": {},
   "outputs": [],
   "source": [
    "CUID1 = 'DFL-CLU-000N9A'  #Niederlande\n",
    "CUID2 = 'DFL-CLU-000N99'  #Deutschland"
   ]
  },
  {
   "cell_type": "code",
   "execution_count": 56,
   "metadata": {},
   "outputs": [],
   "source": [
    "matchinfo = {\n",
    "    CUID1: {\n",
    "        \"BallPoss\":1,\n",
    "        \"TeamID\":CUID1,\n",
    "    },\n",
    "    CUID2: {\n",
    "        \"BallPoss\":2,\n",
    "        \"TeamID\":CUID2,\n",
    "    },\n",
    "    1: {\n",
    "        \"Dataframe\":positions,\n",
    "    },\n",
    "    2: {\n",
    "        \"Dataframe\":positions2,\n",
    "    }\n",
    "}"
   ]
  },
  {
   "cell_type": "code",
   "execution_count": 58,
   "metadata": {},
   "outputs": [],
   "source": [
    "matchinfo = {\n",
    "    CUID1: {\n",
    "        1:getdirectionofplay(CUID1,1),\n",
    "        2:getdirectionofplay(CUID1,2),\n",
    "        \"BallPoss\":1,\n",
    "        \"TeamID\":CUID1,\n",
    "    },\n",
    "    CUID2: {\n",
    "        1:getdirectionofplay(CUID2,1),\n",
    "        2:getdirectionofplay(CUID2,2),\n",
    "        \"BallPoss\":2,\n",
    "        \"TeamID\":CUID2,\n",
    "    },\n",
    "    1: {\n",
    "        \"Dataframe\":positions,\n",
    "        CUID1:getteamsheet(CUID1,1),\n",
    "        CUID2:getteamsheet(CUID2,1),\n",
    "        \"Startframe\":positions.index.get_level_values(0)[0],\n",
    "        \"Endframe\":positions.index.get_level_values(0)[positions.shape[0]-1],\n",
    "    },\n",
    "    2: {\n",
    "        \"Dataframe\":positions2,\n",
    "        CUID1:getteamsheet(CUID1,2),\n",
    "        CUID2:getteamsheet(CUID2,2),\n",
    "        \"Startframe\":positions2.index.get_level_values(0)[0],\n",
    "        \"Endframe\":positions2.index.get_level_values(0)[positions.shape[0]-1],\n",
    "    },\n",
    "    \"left to right\":{\n",
    "        \"Goalline\":52.5\n",
    "    },\n",
    "    \"right to left\":{\n",
    "        \"Goalline\":-52.5\n",
    "    }\n",
    "}"
   ]
  },
  {
   "cell_type": "code",
   "execution_count": 59,
   "metadata": {},
   "outputs": [],
   "source": [
    "players=positions.columns.get_level_values(level=1).unique()\n",
    "players=players.append(positions2.columns.get_level_values(level=1).unique())\n",
    "players=players.unique()\n",
    "players=players.drop(\"DFL-OBJ-0000XT\")\n",
    "players\n",
    "for player in players:\n",
    "    if player in matchinfo.get(1)[CUID1]:\n",
    "        positions[CUID1,player,'DtB']=positions.apply(lambda x: calculateDistance(x[CUID1,player,'X'],x[CUID1,player,'Y'],x['BALL','DFL-OBJ-0000XT','X'],x['BALL','DFL-OBJ-0000XT','Y']),axis=1)\n",
    "    if player in matchinfo.get(1)[CUID2]:\n",
    "        positions[CUID2,player,'DtB']=positions.apply(lambda x: calculateDistance(x[CUID2,player,'X'],x[CUID2,player,'Y'],x['BALL','DFL-OBJ-0000XT','X'],x['BALL','DFL-OBJ-0000XT','Y']),axis=1)"
   ]
  },
  {
   "cell_type": "code",
   "execution_count": 61,
   "metadata": {},
   "outputs": [],
   "source": [
    "for player in players:\n",
    "    if player in matchinfo.get(2)[CUID1]:\n",
    "        positions2[CUID1,player,'DtB']=positions2.apply(lambda x: calculateDistance(x[CUID1,player,'X'],x[CUID1,player,'Y'],x['BALL','DFL-OBJ-0000XT','X'],x['BALL','DFL-OBJ-0000XT','Y']),axis=1)\n",
    "    if player in matchinfo.get(2)[CUID2]:\n",
    "        positions2[CUID2,player,'DtB']=positions2.apply(lambda x: calculateDistance(x[CUID2,player,'X'],x[CUID2,player,'Y'],x['BALL','DFL-OBJ-0000XT','X'],x['BALL','DFL-OBJ-0000XT','Y']),axis=1)"
   ]
  },
  {
   "cell_type": "code",
   "execution_count": 62,
   "metadata": {},
   "outputs": [],
   "source": [
    "balldf=positions.loc[:,(\"BALL\",\"DFL-OBJ-0000XT\",slice(None))]   ##Ballkoordinaten 1. Halbzeit\n",
    "CUID1df = positions.loc[:,(CUID1,slice(None),slice(None))]     ##Koordinaten von CUID1 1. Halbzeit\n",
    "cuid1players=CUID1df.columns.get_level_values(level=1).unique()        ##Spieler, die in der 1. Halbzeit auf dem Platz standen\n",
    "cuid1balldf=pd.merge(CUID1df, balldf, left_index=True, right_index=True)  "
   ]
  },
  {
   "cell_type": "code",
   "execution_count": 63,
   "metadata": {},
   "outputs": [],
   "source": [
    "CUID2df = positions.loc[:,(CUID2,slice(None),slice(None))]     ##Koordinaten von CUID2 1. Halbzeit\n",
    "cuid2players=CUID2df.columns.get_level_values(level=1).unique()        ##Spieler, die in der 1. Halbzeit auf dem Platz standen\n",
    "cuid2balldf=pd.merge(CUID2df, balldf, left_index=True, right_index=True)   ##Gemergter Dataframe Ball und CUID1 1. Halbzeit"
   ]
  },
  {
   "cell_type": "code",
   "execution_count": 64,
   "metadata": {},
   "outputs": [],
   "source": [
    "balldf2=positions2.loc[:,(\"BALL\",\"DFL-OBJ-0000XT\",slice(None))]   ##Ballkoordinaten 2. Halbzeit\n",
    "CUID1df2 = positions2.loc[:,(CUID1,slice(None),slice(None))]     ##Koordinaten von CUID1 2. Halbzeit\n",
    "cuid1players2=CUID1df2.columns.get_level_values(level=1).unique()        ##Spieler, die in der 2. Halbzeit auf dem Platz standen\n",
    "cuid1balldf2=pd.merge(CUID1df2, balldf2, left_index=True, right_index=True)   ##Gemergter Dataframe Ball und CUID1 2. Halbzeit"
   ]
  },
  {
   "cell_type": "code",
   "execution_count": 65,
   "metadata": {},
   "outputs": [],
   "source": [
    "CUID2df2 = positions2.loc[:,(CUID2,slice(None),slice(None))]     ##Koordinaten von CUID1 1. Halbzeit\n",
    "cuid2players2=CUID2df2.columns.get_level_values(level=1).unique()        ##Spieler, die in der 1. Halbzeit auf dem Platz standen\n",
    "cuid2balldf2=pd.merge(CUID2df2, balldf2, left_index=True, right_index=True)   ##Gemergter Dataframe Ball und CUID1 1. Halbzeit"
   ]
  },
  {
   "cell_type": "code",
   "execution_count": 66,
   "metadata": {},
   "outputs": [],
   "source": [
    "matchinfo = {\n",
    "    CUID1: {\n",
    "        1:getdirectionofplay(CUID1,1),\n",
    "        2:getdirectionofplay(CUID1,2),\n",
    "        \"BallPoss\":1,\n",
    "        \"TeamID\":CUID1,\n",
    "        \"TeamBallDf1\":cuid1balldf,\n",
    "        \"TeamBallDf2\":cuid1balldf2,\n",
    "    },\n",
    "    CUID2: {\n",
    "        1:getdirectionofplay(CUID2,1),\n",
    "        2:getdirectionofplay(CUID2,2),\n",
    "        \"BallPoss\":2,\n",
    "        \"TeamID\":CUID2,\n",
    "        \"TeamBallDf1\":cuid2balldf,\n",
    "        \"TeamBallDf2\":cuid2balldf2,\n",
    "    },\n",
    "    1: {\n",
    "        \"BallDf\":balldf,\n",
    "        \"Dataframe\":positions,\n",
    "        CUID1:getteamsheet(CUID1,1),\n",
    "        CUID2:getteamsheet(CUID2,1),\n",
    "        \"Startframe\":positions.index.get_level_values(0)[0],\n",
    "        \"Endframe\":positions.index.get_level_values(0)[positions.shape[0]-1],\n",
    "    },\n",
    "    2: {\n",
    "        \"BallDf\":balldf2,\n",
    "        \"Dataframe\":positions2,\n",
    "        CUID1:getteamsheet(CUID1,2),\n",
    "        CUID2:getteamsheet(CUID2,2),\n",
    "        \"Startframe\":positions2.index.get_level_values(0)[0],\n",
    "        \"Endframe\":positions2.index.get_level_values(0)[positions.shape[0]-1],\n",
    "    },\n",
    "    \"left to right\":{\n",
    "        \"Goalline\":52.5\n",
    "    },\n",
    "    \"right to left\":{\n",
    "        \"Goalline\":-52.5\n",
    "    }\n",
    "}"
   ]
  },
  {
   "cell_type": "code",
   "execution_count": 68,
   "metadata": {},
   "outputs": [
    {
     "data": {
      "text/plain": [
       "0.4530420620805543"
      ]
     },
     "execution_count": 68,
     "metadata": {},
     "output_type": "execute_result"
    }
   ],
   "source": [
    "##combine \n",
    "typeofposs=\"cleaned standard\"\n",
    "teamid=CUID1\n",
    "(possession(teamid,1,typeofposs)[0] + possession(teamid,2,typeofposs)[0])/2       #ballpossession \n",
    "#(possession(CUID1,1,typeofposs)[1] + possession(CUID1,2,typeofposs)[1])+(possession(CUID2,1,typeofposs)[1] + possession(CUID2,2,typeofposs)[1])       #playing minutes"
   ]
  },
  {
   "cell_type": "code",
   "execution_count": 67,
   "metadata": {},
   "outputs": [
    {
     "data": {
      "text/plain": [
       "0.5469579379194457"
      ]
     },
     "execution_count": 67,
     "metadata": {},
     "output_type": "execute_result"
    }
   ],
   "source": [
    "##combine \n",
    "typeofposs=\"cleaned standard\"\n",
    "teamid=CUID2\n",
    "(possession(teamid,1,typeofposs)[0] + possession(teamid,2,typeofposs)[0])/2       #ballpossession \n",
    "#(possession(CUID1,1,typeofposs)[1] + possession(CUID1,2,typeofposs)[1])+(possession(CUID2,1,typeofposs)[1] + possession(CUID2,2,typeofposs)[1])       #playing minutes"
   ]
  },
  {
   "cell_type": "code",
   "execution_count": 69,
   "metadata": {},
   "outputs": [
    {
     "data": {
      "text/plain": [
       "0.6001491704820834"
      ]
     },
     "execution_count": 69,
     "metadata": {},
     "output_type": "execute_result"
    }
   ],
   "source": [
    "##combine \n",
    "typeofposs=\"opposing half\"\n",
    "teamid=CUID1\n",
    "(possession(teamid,1,typeofposs)[0] + possession(teamid,2,typeofposs)[0])/2       #ballpossession \n",
    "#(possession(CUID1,1,typeofposs)[1] + possession(CUID1,2,typeofposs)[1])+(possession(CUID2,1,typeofposs)[1] + possession(CUID2,2,typeofposs)[1])       #playing minutes"
   ]
  },
  {
   "cell_type": "code",
   "execution_count": 70,
   "metadata": {},
   "outputs": [
    {
     "data": {
      "text/plain": [
       "0.4861773863857116"
      ]
     },
     "execution_count": 70,
     "metadata": {},
     "output_type": "execute_result"
    }
   ],
   "source": [
    "##combine \n",
    "typeofposs=\"opposing half\"\n",
    "teamid=CUID2\n",
    "(possession(teamid,1,typeofposs)[0] + possession(teamid,2,typeofposs)[0])/2       #ballpossession \n",
    "#(possession(CUID1,1,typeofposs)[1] + possession(CUID1,2,typeofposs)[1])+(possession(CUID2,1,typeofposs)[1] + possession(CUID2,2,typeofposs)[1])       #playing minutes"
   ]
  },
  {
   "cell_type": "code",
   "execution_count": 71,
   "metadata": {},
   "outputs": [
    {
     "name": "stdout",
     "output_type": "stream",
     "text": [
      "21\n"
     ]
    }
   ],
   "source": [
    "###Zusammenspiel aller Codeschnipsel für alle Spieler\n",
    "numofsprints=0\n",
    "for player in matchinfo.get(1)[CUID1]:\n",
    "    currentdf=createsprintdf2(1,CUID1,player,4,17.5,1)\n",
    "    indexNames = currentdf[ currentdf['Adj Endframe']-currentdf['Startframe'] < 10 ].index\n",
    "    currentdf.drop(indexNames , inplace=True)\n",
    "    numofsprints=numofsprints+len(currentdf[(currentdf.BP==\"Yes\") & (currentdf.FinalThird==\"Yes\") & (currentdf.Poss==\"No\")& (currentdf.Forward==\"Yes\")].index)\n",
    "print(numofsprints)"
   ]
  },
  {
   "cell_type": "code",
   "execution_count": 72,
   "metadata": {},
   "outputs": [
    {
     "name": "stdout",
     "output_type": "stream",
     "text": [
      "17\n"
     ]
    }
   ],
   "source": [
    "numofsprints=0\n",
    "for player in matchinfo.get(2)[CUID1]:\n",
    "    currentdf=createsprintdf2(2,CUID1,player,4,17.5,1)\n",
    "    indexNames = currentdf[ currentdf['Adj Endframe']-currentdf['Startframe'] < 10 ].index\n",
    "    currentdf.drop(indexNames , inplace=True)\n",
    "    numofsprints=numofsprints+len(currentdf[(currentdf.BP==\"Yes\") & (currentdf.FinalThird==\"Yes\") & (currentdf.Poss==\"No\")& (currentdf.Forward==\"Yes\")].index)\n",
    "print(numofsprints)"
   ]
  },
  {
   "cell_type": "code",
   "execution_count": 73,
   "metadata": {},
   "outputs": [
    {
     "name": "stdout",
     "output_type": "stream",
     "text": [
      "5\n"
     ]
    }
   ],
   "source": [
    "###Zusammenspiel aller Codeschnipsel für alle Spieler\n",
    "numofsprints=0\n",
    "for player in matchinfo.get(1)[CUID2]:\n",
    "    currentdf=createsprintdf2(1,CUID2,player,4,17.5,1)\n",
    "    indexNames = currentdf[ currentdf['Adj Endframe']-currentdf['Startframe'] < 10 ].index\n",
    "    currentdf.drop(indexNames , inplace=True)\n",
    "    numofsprints=numofsprints+len(currentdf[(currentdf.BP==\"Yes\") & (currentdf.FinalThird==\"Yes\") & (currentdf.Poss==\"No\")& (currentdf.Forward==\"Yes\")].index)\n",
    "print(numofsprints)"
   ]
  },
  {
   "cell_type": "code",
   "execution_count": 297,
   "metadata": {},
   "outputs": [
    {
     "name": "stdout",
     "output_type": "stream",
     "text": [
      "9\n"
     ]
    }
   ],
   "source": [
    "###Zusammenspiel aller Codeschnipsel für alle Spieler\n",
    "numofsprints=0\n",
    "for player in matchinfo.get(2)[CUID2]:\n",
    "    currentdf=createsprintdf2(2,CUID2,player,4,17.5,1)\n",
    "    indexNames = currentdf[ currentdf['Adj Endframe']-currentdf['Startframe'] < 10 ].index\n",
    "    currentdf.drop(indexNames , inplace=True)\n",
    "    numofsprints=numofsprints+len(currentdf[(currentdf.BP==\"Yes\") & (currentdf.FinalThird==\"Yes\") & (currentdf.Poss==\"No\")& (currentdf.Forward==\"Yes\")].index)\n",
    "print(numofsprints)"
   ]
  },
  {
   "cell_type": "markdown",
   "metadata": {},
   "source": [
    "# GER - BEL U21"
   ]
  },
  {
   "cell_type": "code",
   "execution_count": 5,
   "metadata": {},
   "outputs": [],
   "source": [
    "path='C:/Users/Jung/Desktop/Q-Index Master/data/GER-BEL/'    #arbeit\n",
    "kpimerged = pd.read_excel('C:/Users/Jung/Desktop/Q-Index Master/data/GER-BEL/KPI_MERGED.xlsx') #arbeit\n",
    "kpimergednew = kpimerged.rename({'FRAME_NUMBER': 'N'}, axis=1)\n",
    "\n",
    "xml_positions = etree.parse('C:/Users/Jung/Desktop/Q-Index Master/data/GER-BEL/DFL_04_02_positions_raw_DFL-COM-000001_DFL-MAT-003BWT.xml') ##arbeitsplatop\n",
    "positions=get_tracking_data(xml_positions)     \n",
    "positions2=get_tracking_data(xml_positions,\"secondHalf\")     \n",
    "##create dataframe from xml input"
   ]
  },
  {
   "cell_type": "code",
   "execution_count": 8,
   "metadata": {},
   "outputs": [],
   "source": [
    "kpimergednew = kpimerged.rename({'FRAME_NUMBER': 'N'}, axis=1)\n",
    "kpimergednew = kpimergednew.rename({'CUID1': 'CUID'}, axis=1)"
   ]
  },
  {
   "cell_type": "code",
   "execution_count": 9,
   "metadata": {},
   "outputs": [],
   "source": [
    "CUID1 = 'DFL-CLU-000N9A' ##Deutschland\n",
    "CUID2 = 'DFL-CLU-000N9B' ##Belgien"
   ]
  },
  {
   "cell_type": "code",
   "execution_count": 12,
   "metadata": {},
   "outputs": [],
   "source": [
    "matchinfo = {\n",
    "    CUID1: {\n",
    "        \"BallPoss\":1,\n",
    "        \"TeamID\":CUID1,\n",
    "    },\n",
    "    CUID2: {\n",
    "        \"BallPoss\":2,\n",
    "        \"TeamID\":CUID2,\n",
    "    },\n",
    "    1: {\n",
    "        \"Dataframe\":positions,\n",
    "    },\n",
    "    2: {\n",
    "        \"Dataframe\":positions2,\n",
    "    }\n",
    "}"
   ]
  },
  {
   "cell_type": "code",
   "execution_count": 13,
   "metadata": {},
   "outputs": [],
   "source": [
    "matchinfo = {\n",
    "    CUID1: {\n",
    "        1:getdirectionofplay(CUID1,1),\n",
    "        2:getdirectionofplay(CUID1,2),\n",
    "        \"BallPoss\":1,\n",
    "        \"TeamID\":CUID1,\n",
    "    },\n",
    "    CUID2: {\n",
    "        1:getdirectionofplay(CUID2,1),\n",
    "        2:getdirectionofplay(CUID2,2),\n",
    "        \"BallPoss\":2,\n",
    "        \"TeamID\":CUID2,\n",
    "    },\n",
    "    1: {\n",
    "        \"Dataframe\":positions,\n",
    "        CUID1:getteamsheet(CUID1,1),\n",
    "        CUID2:getteamsheet(CUID2,1),\n",
    "        \"Startframe\":positions.index.get_level_values(0)[0],\n",
    "        \"Endframe\":positions.index.get_level_values(0)[positions.shape[0]-1],\n",
    "    },\n",
    "    2: {\n",
    "        \"Dataframe\":positions2,\n",
    "        CUID1:getteamsheet(CUID1,2),\n",
    "        CUID2:getteamsheet(CUID2,2),\n",
    "        \"Startframe\":positions2.index.get_level_values(0)[0],\n",
    "        \"Endframe\":positions2.index.get_level_values(0)[positions.shape[0]-1],\n",
    "    },\n",
    "    \"left to right\":{\n",
    "        \"Goalline\":52.5\n",
    "    },\n",
    "    \"right to left\":{\n",
    "        \"Goalline\":-52.5\n",
    "    }\n",
    "}"
   ]
  },
  {
   "cell_type": "code",
   "execution_count": 28,
   "metadata": {},
   "outputs": [],
   "source": [
    "players=positions.columns.get_level_values(level=1).unique()\n",
    "players=players.append(positions2.columns.get_level_values(level=1).unique())\n",
    "players=players.unique()\n",
    "players=players.drop(\"DFL-OBJ-0000XT\")\n",
    "players\n",
    "for player in players:\n",
    "    if player in matchinfo.get(1)[CUID1]:\n",
    "        positions[CUID1,player,'DtB']=positions.apply(lambda x: calculateDistance(x[CUID1,player,'X'],x[CUID1,player,'Y'],x['BALL','DFL-OBJ-0000XT','X'],x['BALL','DFL-OBJ-0000XT','Y']),axis=1)\n",
    "    if player in matchinfo.get(1)[CUID2]:\n",
    "        positions[CUID2,player,'DtB']=positions.apply(lambda x: calculateDistance(x[CUID2,player,'X'],x[CUID2,player,'Y'],x['BALL','DFL-OBJ-0000XT','X'],x['BALL','DFL-OBJ-0000XT','Y']),axis=1)"
   ]
  },
  {
   "cell_type": "code",
   "execution_count": 29,
   "metadata": {},
   "outputs": [],
   "source": [
    "for player in players:\n",
    "    if player in matchinfo.get(2)[CUID1]:\n",
    "        positions2[CUID1,player,'DtB']=positions2.apply(lambda x: calculateDistance(x[CUID1,player,'X'],x[CUID1,player,'Y'],x['BALL','DFL-OBJ-0000XT','X'],x['BALL','DFL-OBJ-0000XT','Y']),axis=1)\n",
    "    if player in matchinfo.get(2)[CUID2]:\n",
    "        positions2[CUID2,player,'DtB']=positions2.apply(lambda x: calculateDistance(x[CUID2,player,'X'],x[CUID2,player,'Y'],x['BALL','DFL-OBJ-0000XT','X'],x['BALL','DFL-OBJ-0000XT','Y']),axis=1)"
   ]
  },
  {
   "cell_type": "code",
   "execution_count": 30,
   "metadata": {},
   "outputs": [],
   "source": [
    "balldf=positions.loc[:,(\"BALL\",\"DFL-OBJ-0000XT\",slice(None))]   ##Ballkoordinaten 1. Halbzeit\n",
    "CUID1df = positions.loc[:,(CUID1,slice(None),slice(None))]     ##Koordinaten von CUID1 1. Halbzeit\n",
    "cuid1players=CUID1df.columns.get_level_values(level=1).unique()        ##Spieler, die in der 1. Halbzeit auf dem Platz standen\n",
    "cuid1balldf=pd.merge(CUID1df, balldf, left_index=True, right_index=True)  "
   ]
  },
  {
   "cell_type": "code",
   "execution_count": 31,
   "metadata": {},
   "outputs": [],
   "source": [
    "CUID2df = positions.loc[:,(CUID2,slice(None),slice(None))]     ##Koordinaten von CUID2 1. Halbzeit\n",
    "cuid2players=CUID2df.columns.get_level_values(level=1).unique()        ##Spieler, die in der 1. Halbzeit auf dem Platz standen\n",
    "cuid2balldf=pd.merge(CUID2df, balldf, left_index=True, right_index=True)   ##Gemergter Dataframe Ball und CUID1 1. Halbzeit"
   ]
  },
  {
   "cell_type": "code",
   "execution_count": 32,
   "metadata": {},
   "outputs": [],
   "source": [
    "balldf2=positions2.loc[:,(\"BALL\",\"DFL-OBJ-0000XT\",slice(None))]   ##Ballkoordinaten 2. Halbzeit\n",
    "CUID1df2 = positions2.loc[:,(CUID1,slice(None),slice(None))]     ##Koordinaten von CUID1 2. Halbzeit\n",
    "cuid1players2=CUID1df2.columns.get_level_values(level=1).unique()        ##Spieler, die in der 2. Halbzeit auf dem Platz standen\n",
    "cuid1balldf2=pd.merge(CUID1df2, balldf2, left_index=True, right_index=True)   ##Gemergter Dataframe Ball und CUID1 2. Halbzeit"
   ]
  },
  {
   "cell_type": "code",
   "execution_count": 33,
   "metadata": {},
   "outputs": [],
   "source": [
    "CUID2df2 = positions2.loc[:,(CUID2,slice(None),slice(None))]     ##Koordinaten von CUID1 1. Halbzeit\n",
    "cuid2players2=CUID2df2.columns.get_level_values(level=1).unique()        ##Spieler, die in der 1. Halbzeit auf dem Platz standen\n",
    "cuid2balldf2=pd.merge(CUID2df2, balldf2, left_index=True, right_index=True)   ##Gemergter Dataframe Ball und CUID1 1. Halbzeit"
   ]
  },
  {
   "cell_type": "code",
   "execution_count": 34,
   "metadata": {},
   "outputs": [],
   "source": [
    "matchinfo = {\n",
    "    CUID1: {\n",
    "        1:getdirectionofplay(CUID1,1),\n",
    "        2:getdirectionofplay(CUID1,2),\n",
    "        \"BallPoss\":1,\n",
    "        \"TeamID\":CUID1,\n",
    "        \"TeamBallDf1\":cuid1balldf,\n",
    "        \"TeamBallDf2\":cuid1balldf2,\n",
    "    },\n",
    "    CUID2: {\n",
    "        1:getdirectionofplay(CUID2,1),\n",
    "        2:getdirectionofplay(CUID2,2),\n",
    "        \"BallPoss\":2,\n",
    "        \"TeamID\":CUID2,\n",
    "        \"TeamBallDf1\":cuid2balldf,\n",
    "        \"TeamBallDf2\":cuid2balldf2,\n",
    "    },\n",
    "    1: {\n",
    "        \"BallDf\":balldf,\n",
    "        \"Dataframe\":positions,\n",
    "        CUID1:getteamsheet(CUID1,1),\n",
    "        CUID2:getteamsheet(CUID2,1),\n",
    "        \"Startframe\":positions.index.get_level_values(0)[0],\n",
    "        \"Endframe\":positions.index.get_level_values(0)[positions.shape[0]-1],\n",
    "    },\n",
    "    2: {\n",
    "        \"BallDf\":balldf2,\n",
    "        \"Dataframe\":positions2,\n",
    "        CUID1:getteamsheet(CUID1,2),\n",
    "        CUID2:getteamsheet(CUID2,2),\n",
    "        \"Startframe\":positions2.index.get_level_values(0)[0],\n",
    "        \"Endframe\":positions2.index.get_level_values(0)[positions.shape[0]-1],\n",
    "    },\n",
    "    \"left to right\":{\n",
    "        \"Goalline\":52.5\n",
    "    },\n",
    "    \"right to left\":{\n",
    "        \"Goalline\":-52.5\n",
    "    }\n",
    "}"
   ]
  },
  {
   "cell_type": "markdown",
   "metadata": {},
   "source": [
    "Die Ballbesitz Statistik wird im folgenden Abschnitt erzeugt. \n",
    "\"Standard\" - Ballbesitz ohne Berücksichtigung \n",
    "\"Cleaned Standard\" - Netto Ballbesitz\n",
    "\"Opposing Half\" - Anteil des eigenen Ballbesitzes in der gegnerischen Hälfte"
   ]
  },
  {
   "cell_type": "code",
   "execution_count": 39,
   "metadata": {},
   "outputs": [
    {
     "data": {
      "text/plain": [
       "0.5971940764469726"
      ]
     },
     "execution_count": 39,
     "metadata": {},
     "output_type": "execute_result"
    }
   ],
   "source": [
    "##combine \n",
    "typeofposs=\"cleaned standard\"\n",
    "teamid=CUID1\n",
    "(possession(teamid,1,typeofposs)[0] + possession(teamid,2,typeofposs)[0])/2       #ballpossession \n",
    "#(possession(CUID1,1,typeofposs)[1] + possession(CUID1,2,typeofposs)[1])+(possession(CUID2,1,typeofposs)[1] + possession(CUID2,2,typeofposs)[1])       #playing minutes"
   ]
  },
  {
   "cell_type": "code",
   "execution_count": 58,
   "metadata": {},
   "outputs": [
    {
     "data": {
      "text/plain": [
       "0.40280592355302736"
      ]
     },
     "execution_count": 58,
     "metadata": {},
     "output_type": "execute_result"
    }
   ],
   "source": [
    "##combine \n",
    "typeofposs=\"cleaned standard\"\n",
    "teamid=CUID2\n",
    "(possession(teamid,1,typeofposs)[0] + possession(teamid,2,typeofposs)[0])/2       #ballpossession \n",
    "#(possession(CUID1,1,typeofposs)[1] + possession(CUID1,2,typeofposs)[1])+(possession(CUID2,1,typeofposs)[1] + possession(CUID2,2,typeofposs)[1])       #playing minutes"
   ]
  },
  {
   "cell_type": "markdown",
   "metadata": {},
   "source": [
    "Ballbesitz in der gegnerischen Hälfte"
   ]
  },
  {
   "cell_type": "code",
   "execution_count": 59,
   "metadata": {},
   "outputs": [
    {
     "data": {
      "text/plain": [
       "0.49674586737839266"
      ]
     },
     "execution_count": 59,
     "metadata": {},
     "output_type": "execute_result"
    }
   ],
   "source": [
    "##combine \n",
    "typeofposs=\"opposing half\"\n",
    "teamid=CUID1\n",
    "(possession(teamid,1,typeofposs)[0] + possession(teamid,2,typeofposs)[0])/2       #ballpossession \n",
    "#(possession(CUID1,1,typeofposs)[1] + possession(CUID1,2,typeofposs)[1])+(possession(CUID2,1,typeofposs)[1] + possession(CUID2,2,typeofposs)[1])       #playing minutes"
   ]
  },
  {
   "cell_type": "code",
   "execution_count": 60,
   "metadata": {},
   "outputs": [
    {
     "data": {
      "text/plain": [
       "0.3614876417126085"
      ]
     },
     "execution_count": 60,
     "metadata": {},
     "output_type": "execute_result"
    }
   ],
   "source": [
    "##combine \n",
    "typeofposs=\"opposing half\"\n",
    "teamid=CUID2\n",
    "(possession(teamid,1,typeofposs)[0] + possession(teamid,2,typeofposs)[0])/2       #ballpossession \n",
    "#(possession(CUID1,1,typeofposs)[1] + possession(CUID1,2,typeofposs)[1])+(possession(CUID2,1,typeofposs)[1] + possession(CUID2,2,typeofposs)[1])       #playing minutes"
   ]
  },
  {
   "cell_type": "code",
   "execution_count": 54,
   "metadata": {},
   "outputs": [
    {
     "name": "stdout",
     "output_type": "stream",
     "text": [
      "70\n"
     ]
    }
   ],
   "source": [
    "###Zusammenspiel aller Codeschnipsel für alle Spieler\n",
    "numofsprints=0\n",
    "for player in matchinfo.get(1)[CUID1]:\n",
    "    currentdf=createsprintdf2(1,CUID1,player,4,17.5,1)\n",
    "    indexNames = currentdf[ currentdf['Adj Endframe']-currentdf['Startframe'] < 10 ].index\n",
    "    currentdf.drop(indexNames , inplace=True)\n",
    "    numofsprints=numofsprints+len(currentdf[(currentdf.BP==\"Yes\") & (currentdf.FinalThird==\"Yes\") & (currentdf.Poss==\"No\")& (currentdf.Forward==\"Yes\")].index)\n",
    "print(numofsprints)"
   ]
  },
  {
   "cell_type": "code",
   "execution_count": 55,
   "metadata": {},
   "outputs": [
    {
     "name": "stdout",
     "output_type": "stream",
     "text": [
      "65\n"
     ]
    }
   ],
   "source": [
    "numofsprints=0\n",
    "for player in matchinfo.get(2)[CUID1]:\n",
    "    currentdf=createsprintdf2(2,CUID1,player,4,17.5,1)\n",
    "    indexNames = currentdf[ currentdf['Adj Endframe']-currentdf['Startframe'] < 10 ].index\n",
    "    currentdf.drop(indexNames , inplace=True)\n",
    "    numofsprints=numofsprints+len(currentdf[(currentdf.BP==\"Yes\") & (currentdf.FinalThird==\"Yes\") & (currentdf.Poss==\"No\")& (currentdf.Forward==\"Yes\")].index)\n",
    "print(numofsprints)"
   ]
  },
  {
   "cell_type": "code",
   "execution_count": 56,
   "metadata": {},
   "outputs": [
    {
     "name": "stdout",
     "output_type": "stream",
     "text": [
      "18\n"
     ]
    }
   ],
   "source": [
    "###Zusammenspiel aller Codeschnipsel für alle Spieler\n",
    "numofsprints=0\n",
    "for player in matchinfo.get(1)[CUID2]:\n",
    "    currentdf=createsprintdf2(1,CUID2,player,4,17.5,1)\n",
    "    indexNames = currentdf[ currentdf['Adj Endframe']-currentdf['Startframe'] < 10 ].index\n",
    "    currentdf.drop(indexNames , inplace=True)\n",
    "    numofsprints=numofsprints+len(currentdf[(currentdf.BP==\"Yes\") & (currentdf.FinalThird==\"Yes\") & (currentdf.Poss==\"No\")& (currentdf.Forward==\"Yes\")].index)\n",
    "print(numofsprints)"
   ]
  },
  {
   "cell_type": "code",
   "execution_count": 57,
   "metadata": {},
   "outputs": [
    {
     "name": "stdout",
     "output_type": "stream",
     "text": [
      "13\n"
     ]
    }
   ],
   "source": [
    "###Zusammenspiel aller Codeschnipsel für alle Spieler\n",
    "numofsprints=0\n",
    "for player in matchinfo.get(2)[CUID2]:\n",
    "    currentdf=createsprintdf2(2,CUID2,player,4,17.5,1)\n",
    "    indexNames = currentdf[ currentdf['Adj Endframe']-currentdf['Startframe'] < 10 ].index\n",
    "    currentdf.drop(indexNames , inplace=True)\n",
    "    numofsprints=numofsprints+len(currentdf[(currentdf.BP==\"Yes\") & (currentdf.FinalThird==\"Yes\") & (currentdf.Poss==\"No\")& (currentdf.Forward==\"Yes\")].index)\n",
    "print(numofsprints)"
   ]
  },
  {
   "cell_type": "markdown",
   "metadata": {},
   "source": [
    "# FCB - TSG"
   ]
  },
  {
   "cell_type": "code",
   "execution_count": null,
   "metadata": {},
   "outputs": [],
   "source": [
    "path='C:/Users/Jung/Desktop/Q-Index Master/data/FCB-TSG/'    #arbeit\n",
    "kpimerged = pd.read_excel('C:/Users/Jung/Desktop/Q-Index Master/data/FCB-TSG/KPI_MERGED.xlsx') #arbeit\n",
    "kpimergednew = kpimerged.rename({'FRAME_NUMBER': 'N'}, axis=1)\n",
    "\n",
    "xml_positions = etree.parse('C:/Users/Jung/Desktop/Q-Index Master/data/FCB-TSG/DFL_04_03_positions_raw_observed_DFL-COM-000001_DFL-MAT-003AVY.xml') ##arbeitsplatop\n",
    "positions=get_tracking_data(xml_positions)     \n",
    "positions2=get_tracking_data(xml_positions,\"secondHalf\")     \n",
    "##create dataframe from xml input"
   ]
  },
  {
   "cell_type": "code",
   "execution_count": 74,
   "metadata": {},
   "outputs": [],
   "source": [
    "xml_positions = etree.parse('C:/Users/Tim/Desktop/Q-Index Master/data/FCB-TSG/DFL_04_03_positions_raw_observed_DFL-COM-000001_DFL-MAT-003AVY.xml') ##privat\n",
    "kpimerged = pd.read_excel('C:/Users/Tim/Desktop/Q-Index Master/data/FCB-TSG/KPI_MERGED.xlsx') #arbeit\n",
    "path='C:/Users/Tim/Desktop/Q-Index Master/data/FCB-TSG/'  \n",
    "kpimergednew = kpimerged.rename({'FRAME_NUMBER': 'N'}, axis=1)\n",
    "positions=get_tracking_data(xml_positions)     \n",
    "##create dataframe from xml input\n",
    "positions2=get_tracking_data(xml_positions,\"secondHalf\")  "
   ]
  },
  {
   "cell_type": "code",
   "execution_count": 75,
   "metadata": {},
   "outputs": [],
   "source": [
    "CUID1 = 'DFL-CLU-00000G' ##FC Bayern München\n",
    "CUID2 = 'DFL-CLU-000002' ##TSG 1899 Hoffenheim"
   ]
  },
  {
   "cell_type": "code",
   "execution_count": 76,
   "metadata": {},
   "outputs": [],
   "source": [
    "matchinfo = {\n",
    "    CUID1: {\n",
    "        \"BallPoss\":1,\n",
    "        \"TeamID\":CUID1,\n",
    "    },\n",
    "    CUID2: {\n",
    "        \"BallPoss\":2,\n",
    "        \"TeamID\":CUID2,\n",
    "    },\n",
    "    1: {\n",
    "        \"Dataframe\":positions,\n",
    "    },\n",
    "    2: {\n",
    "        \"Dataframe\":positions2,\n",
    "    }\n",
    "}"
   ]
  },
  {
   "cell_type": "code",
   "execution_count": 77,
   "metadata": {},
   "outputs": [],
   "source": [
    "matchinfo = {\n",
    "    CUID1: {\n",
    "        1:getdirectionofplay(CUID1,1),\n",
    "        2:getdirectionofplay(CUID1,2),\n",
    "        \"BallPoss\":1,\n",
    "        \"TeamID\":CUID1,\n",
    "    },\n",
    "    CUID2: {\n",
    "        1:getdirectionofplay(CUID2,1),\n",
    "        2:getdirectionofplay(CUID2,2),\n",
    "        \"BallPoss\":2,\n",
    "        \"TeamID\":CUID2,\n",
    "    },\n",
    "    1: {\n",
    "        \"Dataframe\":positions,\n",
    "        CUID1:getteamsheet(CUID1,1),\n",
    "        CUID2:getteamsheet(CUID2,1),\n",
    "        \"Startframe\":positions.index.get_level_values(0)[0],\n",
    "        \"Endframe\":positions.index.get_level_values(0)[positions.shape[0]-1],\n",
    "    },\n",
    "    2: {\n",
    "        \"Dataframe\":positions2,\n",
    "        CUID1:getteamsheet(CUID1,2),\n",
    "        CUID2:getteamsheet(CUID2,2),\n",
    "        \"Startframe\":positions2.index.get_level_values(0)[0],\n",
    "        \"Endframe\":positions2.index.get_level_values(0)[positions.shape[0]-1],\n",
    "    },\n",
    "    \"left to right\":{\n",
    "        \"Goalline\":52.5\n",
    "    },\n",
    "    \"right to left\":{\n",
    "        \"Goalline\":-52.5\n",
    "    }\n",
    "}"
   ]
  },
  {
   "cell_type": "code",
   "execution_count": 78,
   "metadata": {},
   "outputs": [],
   "source": [
    "players=positions.columns.get_level_values(level=1).unique()\n",
    "players=players.append(positions2.columns.get_level_values(level=1).unique())\n",
    "players=players.unique()\n",
    "players=players.drop(\"DFL-OBJ-0000XT\")\n",
    "players\n",
    "for player in players:\n",
    "    if player in matchinfo.get(1)[CUID1]:\n",
    "        positions[CUID1,player,'DtB']=positions.apply(lambda x: calculateDistance(x[CUID1,player,'X'],x[CUID1,player,'Y'],x['BALL','DFL-OBJ-0000XT','X'],x['BALL','DFL-OBJ-0000XT','Y']),axis=1)\n",
    "    if player in matchinfo.get(1)[CUID2]:\n",
    "        positions[CUID2,player,'DtB']=positions.apply(lambda x: calculateDistance(x[CUID2,player,'X'],x[CUID2,player,'Y'],x['BALL','DFL-OBJ-0000XT','X'],x['BALL','DFL-OBJ-0000XT','Y']),axis=1)"
   ]
  },
  {
   "cell_type": "code",
   "execution_count": 79,
   "metadata": {},
   "outputs": [],
   "source": [
    "for player in players:\n",
    "    if player in matchinfo.get(2)[CUID1]:\n",
    "        positions2[CUID1,player,'DtB']=positions2.apply(lambda x: calculateDistance(x[CUID1,player,'X'],x[CUID1,player,'Y'],x['BALL','DFL-OBJ-0000XT','X'],x['BALL','DFL-OBJ-0000XT','Y']),axis=1)\n",
    "    if player in matchinfo.get(2)[CUID2]:\n",
    "        positions2[CUID2,player,'DtB']=positions2.apply(lambda x: calculateDistance(x[CUID2,player,'X'],x[CUID2,player,'Y'],x['BALL','DFL-OBJ-0000XT','X'],x['BALL','DFL-OBJ-0000XT','Y']),axis=1)"
   ]
  },
  {
   "cell_type": "code",
   "execution_count": 81,
   "metadata": {},
   "outputs": [],
   "source": [
    "balldf=positions.loc[:,(\"BALL\",\"DFL-OBJ-0000XT\",slice(None))]   ##Ballkoordinaten 1. Halbzeit\n",
    "CUID1df = positions.loc[:,(CUID1,slice(None),slice(None))]     ##Koordinaten von CUID1 1. Halbzeit\n",
    "cuid1players=CUID1df.columns.get_level_values(level=1).unique()        ##Spieler, die in der 1. Halbzeit auf dem Platz standen\n",
    "cuid1balldf=pd.merge(CUID1df, balldf, left_index=True, right_index=True)  "
   ]
  },
  {
   "cell_type": "code",
   "execution_count": 82,
   "metadata": {},
   "outputs": [],
   "source": [
    "CUID2df = positions.loc[:,(CUID2,slice(None),slice(None))]     ##Koordinaten von CUID2 1. Halbzeit\n",
    "cuid2players=CUID2df.columns.get_level_values(level=1).unique()        ##Spieler, die in der 1. Halbzeit auf dem Platz standen\n",
    "cuid2balldf=pd.merge(CUID2df, balldf, left_index=True, right_index=True)   ##Gemergter Dataframe Ball und CUID1 1. Halbzeit"
   ]
  },
  {
   "cell_type": "code",
   "execution_count": 83,
   "metadata": {},
   "outputs": [],
   "source": [
    "balldf2=positions2.loc[:,(\"BALL\",\"DFL-OBJ-0000XT\",slice(None))]   ##Ballkoordinaten 2. Halbzeit\n",
    "CUID1df2 = positions2.loc[:,(CUID1,slice(None),slice(None))]     ##Koordinaten von CUID1 2. Halbzeit\n",
    "cuid1players2=CUID1df2.columns.get_level_values(level=1).unique()        ##Spieler, die in der 2. Halbzeit auf dem Platz standen\n",
    "cuid1balldf2=pd.merge(CUID1df2, balldf2, left_index=True, right_index=True)   ##Gemergter Dataframe Ball und CUID1 2. Halbzeit"
   ]
  },
  {
   "cell_type": "code",
   "execution_count": 84,
   "metadata": {},
   "outputs": [],
   "source": [
    "CUID2df2 = positions2.loc[:,(CUID2,slice(None),slice(None))]     ##Koordinaten von CUID1 1. Halbzeit\n",
    "cuid2players2=CUID2df2.columns.get_level_values(level=1).unique()        ##Spieler, die in der 1. Halbzeit auf dem Platz standen\n",
    "cuid2balldf2=pd.merge(CUID2df2, balldf2, left_index=True, right_index=True)   ##Gemergter Dataframe Ball und CUID1 1. Halbzeit"
   ]
  },
  {
   "cell_type": "code",
   "execution_count": 85,
   "metadata": {},
   "outputs": [],
   "source": [
    "matchinfo = {\n",
    "    CUID1: {\n",
    "        1:getdirectionofplay(CUID1,1),\n",
    "        2:getdirectionofplay(CUID1,2),\n",
    "        \"BallPoss\":1,\n",
    "        \"TeamID\":CUID1,\n",
    "        \"TeamBallDf1\":cuid1balldf,\n",
    "        \"TeamBallDf2\":cuid1balldf2,\n",
    "    },\n",
    "    CUID2: {\n",
    "        1:getdirectionofplay(CUID2,1),\n",
    "        2:getdirectionofplay(CUID2,2),\n",
    "        \"BallPoss\":2,\n",
    "        \"TeamID\":CUID2,\n",
    "        \"TeamBallDf1\":cuid2balldf,\n",
    "        \"TeamBallDf2\":cuid2balldf2,\n",
    "    },\n",
    "    1: {\n",
    "        \"BallDf\":balldf,\n",
    "        \"Dataframe\":positions,\n",
    "        CUID1:getteamsheet(CUID1,1),\n",
    "        CUID2:getteamsheet(CUID2,1),\n",
    "        \"Startframe\":positions.index.get_level_values(0)[0],\n",
    "        \"Endframe\":positions.index.get_level_values(0)[positions.shape[0]-1],\n",
    "    },\n",
    "    2: {\n",
    "        \"BallDf\":balldf2,\n",
    "        \"Dataframe\":positions2,\n",
    "        CUID1:getteamsheet(CUID1,2),\n",
    "        CUID2:getteamsheet(CUID2,2),\n",
    "        \"Startframe\":positions2.index.get_level_values(0)[0],\n",
    "        \"Endframe\":positions2.index.get_level_values(0)[positions.shape[0]-1],\n",
    "    },\n",
    "    \"left to right\":{\n",
    "        \"Goalline\":52.5\n",
    "    },\n",
    "    \"right to left\":{\n",
    "        \"Goalline\":-52.5\n",
    "    }\n",
    "}"
   ]
  },
  {
   "cell_type": "code",
   "execution_count": 86,
   "metadata": {},
   "outputs": [
    {
     "data": {
      "text/plain": [
       "0.6513129817781924"
      ]
     },
     "execution_count": 86,
     "metadata": {},
     "output_type": "execute_result"
    }
   ],
   "source": [
    "##combine \n",
    "typeofposs=\"cleaned standard\"\n",
    "teamid=CUID1\n",
    "(possession(teamid,1,typeofposs)[0] + possession(teamid,2,typeofposs)[0])/2       #ballpossession \n",
    "#(possession(CUID1,1,typeofposs)[1] + possession(CUID1,2,typeofposs)[1])+(possession(CUID2,1,typeofposs)[1] + possession(CUID2,2,typeofposs)[1])       #playing minutes"
   ]
  },
  {
   "cell_type": "code",
   "execution_count": 87,
   "metadata": {},
   "outputs": [
    {
     "data": {
      "text/plain": [
       "0.3486870182218076"
      ]
     },
     "execution_count": 87,
     "metadata": {},
     "output_type": "execute_result"
    }
   ],
   "source": [
    "##combine \n",
    "typeofposs=\"cleaned standard\"\n",
    "teamid=CUID2\n",
    "(possession(teamid,1,typeofposs)[0] + possession(teamid,2,typeofposs)[0])/2       #ballpossession \n",
    "#(possession(CUID1,1,typeofposs)[1] + possession(CUID1,2,typeofposs)[1])+(possession(CUID2,1,typeofposs)[1] + possession(CUID2,2,typeofposs)[1])       #playing minutes"
   ]
  },
  {
   "cell_type": "code",
   "execution_count": 88,
   "metadata": {},
   "outputs": [
    {
     "data": {
      "text/plain": [
       "0.5308894701053142"
      ]
     },
     "execution_count": 88,
     "metadata": {},
     "output_type": "execute_result"
    }
   ],
   "source": [
    "##combine \n",
    "typeofposs=\"opposing half\"\n",
    "teamid=CUID1\n",
    "(possession(teamid,1,typeofposs)[0] + possession(teamid,2,typeofposs)[0])/2       #ballpossession \n",
    "#(possession(CUID1,1,typeofposs)[1] + possession(CUID1,2,typeofposs)[1])+(possession(CUID2,1,typeofposs)[1] + possession(CUID2,2,typeofposs)[1])       #playing minutes"
   ]
  },
  {
   "cell_type": "code",
   "execution_count": 89,
   "metadata": {},
   "outputs": [
    {
     "data": {
      "text/plain": [
       "0.3009696160328291"
      ]
     },
     "execution_count": 89,
     "metadata": {},
     "output_type": "execute_result"
    }
   ],
   "source": [
    "##combine \n",
    "typeofposs=\"opposing half\"\n",
    "teamid=CUID2\n",
    "(possession(teamid,1,typeofposs)[0] + possession(teamid,2,typeofposs)[0])/2       #ballpossession \n",
    "#(possession(CUID1,1,typeofposs)[1] + possession(CUID1,2,typeofposs)[1])+(possession(CUID2,1,typeofposs)[1] + possession(CUID2,2,typeofposs)[1])       #playing minutes"
   ]
  },
  {
   "cell_type": "code",
   "execution_count": 90,
   "metadata": {},
   "outputs": [
    {
     "name": "stderr",
     "output_type": "stream",
     "text": [
      "C:\\Users\\Tim\\Anaconda3\\lib\\site-packages\\pandas\\core\\ops\\__init__.py:1115: FutureWarning: elementwise comparison failed; returning scalar instead, but in the future will perform elementwise comparison\n",
      "  result = method(y)\n"
     ]
    },
    {
     "name": "stdout",
     "output_type": "stream",
     "text": [
      "13\n"
     ]
    }
   ],
   "source": [
    "###Zusammenspiel aller Codeschnipsel für alle Spieler\n",
    "numofsprints=0\n",
    "for player in matchinfo.get(1)[CUID1]:\n",
    "    currentdf=createsprintdf2(1,CUID1,player,4,17.5,1)\n",
    "    indexNames = currentdf[ currentdf['Adj Endframe']-currentdf['Startframe'] < 10 ].index\n",
    "    currentdf.drop(indexNames , inplace=True)\n",
    "    numofsprints=numofsprints+len(currentdf[(currentdf.BP==\"Yes\") & (currentdf.FinalThird==\"Yes\") & (currentdf.Poss==\"No\")& (currentdf.Forward==\"Yes\")].index)\n",
    "print(numofsprints)"
   ]
  },
  {
   "cell_type": "code",
   "execution_count": 91,
   "metadata": {},
   "outputs": [
    {
     "name": "stdout",
     "output_type": "stream",
     "text": [
      "9\n"
     ]
    }
   ],
   "source": [
    "###Zusammenspiel aller Codeschnipsel für alle Spieler\n",
    "numofsprints=0\n",
    "for player in matchinfo.get(2)[CUID1]:\n",
    "    currentdf=createsprintdf2(2,CUID1,player,4,17.5,1)\n",
    "    indexNames = currentdf[ currentdf['Adj Endframe']-currentdf['Startframe'] < 10 ].index\n",
    "    currentdf.drop(indexNames , inplace=True)\n",
    "    numofsprints=numofsprints+len(currentdf[(currentdf.BP==\"Yes\") & (currentdf.FinalThird==\"Yes\") & (currentdf.Poss==\"No\")& (currentdf.Forward==\"Yes\")].index)\n",
    "print(numofsprints)"
   ]
  },
  {
   "cell_type": "code",
   "execution_count": 92,
   "metadata": {},
   "outputs": [
    {
     "name": "stdout",
     "output_type": "stream",
     "text": [
      "6\n"
     ]
    }
   ],
   "source": [
    "###Zusammenspiel aller Codeschnipsel für alle Spieler\n",
    "numofsprints=0\n",
    "for player in matchinfo.get(1)[CUID2]:\n",
    "    currentdf=createsprintdf2(1,CUID2,player,4,17.5,1)\n",
    "    indexNames = currentdf[ currentdf['Adj Endframe']-currentdf['Startframe'] < 10 ].index\n",
    "    currentdf.drop(indexNames , inplace=True)\n",
    "    numofsprints=numofsprints+len(currentdf[(currentdf.BP==\"Yes\") & (currentdf.FinalThird==\"Yes\") & (currentdf.Poss==\"No\")& (currentdf.Forward==\"Yes\")].index)\n",
    "print(numofsprints)"
   ]
  },
  {
   "cell_type": "code",
   "execution_count": 93,
   "metadata": {},
   "outputs": [
    {
     "name": "stdout",
     "output_type": "stream",
     "text": [
      "4\n"
     ]
    }
   ],
   "source": [
    "###Zusammenspiel aller Codeschnipsel für alle Spieler\n",
    "numofsprints=0\n",
    "for player in matchinfo.get(2)[CUID2]:\n",
    "    currentdf=createsprintdf2(2,CUID2,player,4,17.5,1)\n",
    "    indexNames = currentdf[ currentdf['Adj Endframe']-currentdf['Startframe'] < 10 ].index\n",
    "    currentdf.drop(indexNames , inplace=True)\n",
    "    numofsprints=numofsprints+len(currentdf[(currentdf.BP==\"Yes\") & (currentdf.FinalThird==\"Yes\") & (currentdf.Poss==\"No\")& (currentdf.Forward==\"Yes\")].index)\n",
    "print(numofsprints)"
   ]
  }
 ],
 "metadata": {
  "kernelspec": {
   "display_name": "Python 3",
   "language": "python",
   "name": "python3"
  },
  "language_info": {
   "codemirror_mode": {
    "name": "ipython",
    "version": 3
   },
   "file_extension": ".py",
   "mimetype": "text/x-python",
   "name": "python",
   "nbconvert_exporter": "python",
   "pygments_lexer": "ipython3",
   "version": "3.7.3"
  }
 },
 "nbformat": 4,
 "nbformat_minor": 4
}

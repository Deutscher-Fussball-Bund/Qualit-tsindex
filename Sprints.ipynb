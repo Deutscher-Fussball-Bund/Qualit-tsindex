{
 "cells": [
  {
   "cell_type": "code",
   "execution_count": null,
   "metadata": {},
   "outputs": [],
   "source": []
  },
  {
   "cell_type": "code",
   "execution_count": null,
   "metadata": {},
   "outputs": [],
   "source": []
  },
  {
   "cell_type": "code",
   "execution_count": null,
   "metadata": {},
   "outputs": [],
   "source": []
  },
  {
   "cell_type": "code",
   "execution_count": null,
   "metadata": {},
   "outputs": [],
   "source": []
  },
  {
   "cell_type": "code",
   "execution_count": null,
   "metadata": {},
   "outputs": [],
   "source": []
  },
  {
   "cell_type": "code",
   "execution_count": null,
   "metadata": {},
   "outputs": [],
   "source": []
  },
  {
   "cell_type": "code",
   "execution_count": null,
   "metadata": {},
   "outputs": [],
   "source": []
  },
  {
   "cell_type": "code",
   "execution_count": null,
   "metadata": {},
   "outputs": [],
   "source": [
    "columns = [\"X\",\"Y\",\"A\"]\n",
    "Germany_id='DFL-CLU-000N8Y'\n",
    "Germany = positions.loc[\n",
    "    # index (rows) - start:end\n",
    "    :,\n",
    "    # columns\n",
    "    (\n",
    "        Germany_id, # team level\n",
    "        slice(None),   # player level\n",
    "        columns    # position level\n",
    "    )\n",
    "]"
   ]
  },
  {
   "cell_type": "code",
   "execution_count": null,
   "metadata": {},
   "outputs": [],
   "source": [
    "dfa=Germany[Germany_id,'DFL-OBJ-000191','A'][Germany[Germany_id,'DFL-OBJ-000191','A']>5]  ##filter the team df for acceleration higher than 5"
   ]
  },
  {
   "cell_type": "code",
   "execution_count": null,
   "metadata": {},
   "outputs": [],
   "source": [
    "startframe=[]   ##initialize the frames where the player sprints\n",
    "endframe=[]\n",
    "for idx, val in enumerate(dfa):\n",
    "    if idx==0:\n",
    "         startframe.append(dfa.index.get_level_values('N')[idx])\n",
    "    if 0<idx and idx<dfa.count()-2:\n",
    "        if float(dfa.index.get_level_values('N')[idx+1])-float(dfa.index.get_level_values('N')[idx]) > 100:\n",
    "            endframe.append(dfa.index.get_level_values('N')[idx+1])\n",
    "            startframe.append(dfa.index.get_level_values('N')[idx+2])\n",
    "    if idx==dfa.count()-2:\n",
    "        if float(dfa.index.get_level_values('N')[idx+1])-float(dfa.index.get_level_values('N')[idx]) > 100:\n",
    "            endframe.append(dfa.index.get_level_values('N')[idx+1])\n",
    "    if idx==dfa.count()-1:\n",
    "        del startframe[-1]"
   ]
  },
  {
   "cell_type": "code",
   "execution_count": null,
   "metadata": {},
   "outputs": [],
   "source": [
    "sprintframes = {'Startframe': startframe,\n",
    "                 'Endframe': endframe}\n",
    "sprintframesdf = pd.DataFrame(sprintframes,columns= ['Startframe', 'Endframe'])\n",
    "print(sprintframesdf)"
   ]
  }
 ],
 "metadata": {
  "kernelspec": {
   "display_name": "Python 3",
   "language": "python",
   "name": "python3"
  },
  "language_info": {
   "codemirror_mode": {
    "name": "ipython",
    "version": 3
   },
   "file_extension": ".py",
   "mimetype": "text/x-python",
   "name": "python",
   "nbconvert_exporter": "python",
   "pygments_lexer": "ipython3",
   "version": "3.7.4"
  }
 },
 "nbformat": 4,
 "nbformat_minor": 4
}

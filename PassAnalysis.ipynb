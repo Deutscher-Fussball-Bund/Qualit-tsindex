{
 "cells": [
  {
   "cell_type": "code",
   "execution_count": 5,
   "metadata": {},
   "outputs": [],
   "source": [
    "import pandas as pd\n",
    "import numpy as np\n",
    "from lxml import etree\n",
    "import xml.etree.ElementTree as ET\n",
    "import time\n",
    "from IPython.display import display, HTML"
   ]
  },
  {
   "cell_type": "code",
   "execution_count": 6,
   "metadata": {},
   "outputs": [],
   "source": [
    "def get_tracking_data(xml_positions, half='firstHalf'):\n",
    "        \"\"\"Returns a dataframe with the tracking (position: x, y, z) of all players + the ball\n",
    "        \n",
    "        Dropping rows where ball positions is NAN\n",
    "\n",
    "        +-------+-----------+-----------+\n",
    "        |       |   BALL    |  TeamId   |\n",
    "        +       +-----------+-----------+\n",
    "        |       |  BallId   | PlayerId  |\n",
    "        + N | T +---+---+---+---+---+---+\n",
    "        |       | X | Y | Z | X | Y | A |\n",
    "        +=======+===+===+===+===+===+===+\n",
    "        | 0 | 0 |123|456|789|012|456|789|\n",
    "        +-------+-----------+-----------+\n",
    "\n",
    "        :param xml_positions: the parsed xml tracking data (lxml object)\n",
    "        :param half: the description of the half: either \"firstHalf\" or \"secondHalf\", etc.\n",
    "        :return: a dataframe containing the tracking data: position of all players and the ball\n",
    "        \"\"\"\n",
    "        def change_type(df, frameset):\n",
    "            \"\"\"\n",
    "            change type of columns\n",
    "            different columns names and tpyes for the ball and for the rest of the players\n",
    "            \"\"\"\n",
    "            if frameset.attrib.get('TeamId') == 'BALL':\n",
    "                return df.astype(\n",
    "                    # change types of columns for the ball\n",
    "                    dtype={\n",
    "                        'A':float, \n",
    "                        'D':float, \n",
    "                        'M':int, \n",
    "                        'N':int, \n",
    "                        'S':float, \n",
    "                        'X':float, \n",
    "                        'Y':float,\n",
    "                        'Z':float,\n",
    "                        #'T':'datetime64[ns]', # this breaks the timezone\n",
    "                        'BallPossession':int, \n",
    "                        'BallStatus':int,\n",
    "                    }, \n",
    "                    errors='raise'\n",
    "                )\n",
    "            else:\n",
    "                return df.astype(\n",
    "                    # change types of columns for the players\n",
    "                    dtype={\n",
    "                        'A':float, \n",
    "                        'D':float, \n",
    "                        'M':int, \n",
    "                        'N':int, \n",
    "                        'S':float, \n",
    "                        'X':float, \n",
    "                        'Y':float,\n",
    "                        #'T':'datetime64[ns]', # this breaks the timezone\n",
    "                    }, \n",
    "                    errors='raise'\n",
    "                )\n",
    "        \n",
    "\n",
    "        def create_columns(df, frameset):\n",
    "            \"\"\"A utility function to create a multiindex columns\"\"\"\n",
    "            person_id = frameset.attrib.get('PersonId')\n",
    "            team_id = frameset.attrib.get('TeamId')\n",
    "            df.columns = pd.MultiIndex.from_product(\n",
    "                [[team_id], [person_id], df.columns],\n",
    "                names=['TeamId', 'PersonId', 'Position']\n",
    "            )\n",
    "            return df\n",
    "\n",
    "        tracking_players = pd.concat([\n",
    "            pd.DataFrame.from_records(\n",
    "                [dict(frame.attrib) for frame in frameset.getchildren()]\n",
    "            ).pipe(change_type, frameset=frameset)\n",
    "             .set_index(['N', 'T'])\n",
    "             .pipe(create_columns, frameset=frameset)\n",
    "            for frameset in xml_positions.xpath(F'//Positions/FrameSet[@GameSection = \"{half}\"]')\n",
    "        ], axis=1, sort=False)\n",
    "        \n",
    "        # this is casting the 'T' values in the index to datetime with the correct time zone\n",
    "        tracking_players.index.set_levels(pd.to_datetime(tracking_players.index.get_level_values(1)), level=1, inplace = True)\n",
    "\n",
    "        return tracking_players"
   ]
  },
  {
   "cell_type": "code",
   "execution_count": null,
   "metadata": {},
   "outputs": [],
   "source": [
    "positions=get_tracking_data(xml_positions)   \n",
    "kpimerged = pd.read_excel('C:/Users/Jung/Desktop/Q-Index Master/19-06-12_Mainz_GER_EST Sportec Data/DFB_KPI_Merged.xlsx')\n",
    "kpimergednew = kpimerged.rename({'FRAME_NUMBER': 'N'}, axis=1)"
   ]
  },
  {
   "cell_type": "code",
   "execution_count": null,
   "metadata": {},
   "outputs": [],
   "source": [
    "class DataReader:\n",
    "  \"\"\"\n",
    "  Main class to read in xml files provided by the DFB.\n",
    "\n",
    "  Returns:\n",
    "      ElementTree root: The root of the xml document.\n",
    "\n",
    "  \"\"\"\n",
    "\n",
    "  def __init__(self,xml_file):\n",
    "    self.xml_root = self._load_data(xml_file)\n",
    "\n",
    "\n",
    "  def _load_data(self,xml_file):\n",
    "    tree = ET.parse(xml_file)\n",
    "    root = tree.getroot()\n",
    "    return root\n",
    "\n",
    "  def create_dataframe(self,df_cols=None,findall_string=\".//Object\",time_search=None):\n",
    "    \"\"\"\n",
    "    Create a dataframe from the xml inputs\n",
    "\n",
    "    Args:\n",
    "        df_cols (list): Optional, the column names. If no names given, columns\n",
    "          detected automatically\n",
    "        findall_string (str): The xpath string to iterate trees (https://www.w3schools.com/xml/xml_xpath.asp)\n",
    "        time_search (float): Will currently look at parent if it's an Event, it\n",
    "          will compare the time_search to the EventTime. I.e. this is a means of getting\n",
    "          all passes before the frame time.\n",
    "\n",
    "    Returns:\n",
    "        pd.dataframe\n",
    "    \"\"\"\n",
    "\n",
    "    populate_column_names=False\n",
    "    if df_cols is None:\n",
    "        df_cols = []\n",
    "        populate_column_names=True\n",
    "\n",
    "    out_df = pd.DataFrame(columns = df_cols)\n",
    "\n",
    "    parent_map = dict((c, p) for p in self.xml_root.getiterator() for c in p)\n",
    "    for node in self.xml_root.findall(findall_string):\n",
    "        if time_search is not None:\n",
    "          if (parent_map[node].tag != \"Event\"): continue\n",
    "          event_time = parent_map[node].attrib[\"EventTime\"]\n",
    "          ts = ciso8601.parse_datetime(event_time)\n",
    "          # to get time in seconds:\n",
    "          seconds=time.mktime(ts.timetuple())\n",
    "          # If timestamp is larger than the search, exit\n",
    "          if seconds > time_search: continue\n",
    "\n",
    "        # If column names are not provided, get them\n",
    "        if populate_column_names==True:\n",
    "            for key,value in node.attrib.items():\n",
    "                df_cols.append(key)\n",
    "                populate_column_names=False\n",
    "\n",
    "        res = []\n",
    "        for c in df_cols:\n",
    "            res.append(node.attrib.get(c))\n",
    "        out_df = out_df.append(pd.Series(res, index = df_cols), ignore_index=True)\n",
    "    return out_df\n"
   ]
  },
  {
   "cell_type": "code",
   "execution_count": null,
   "metadata": {},
   "outputs": [],
   "source": [
    "path='C:/Users/Jung/Desktop/Q-Index Master/19-06-12_Mainz_GER_EST Sportec Data/'\n",
    "Germany_player_info = \"DFL_01_05_masterdata_DFL-CLU-000N8Y_DFL-SEA-0001K3_player (1).xml\"\n",
    "germany_team_data = DataReader(path+Germany_player_info)\n",
    "germany_team_meta_df = germany_team_data.create_dataframe()\n",
    "germany_player_IDs = germany_team_meta_df.ObjectId.tolist()\n",
    "print(germany_player_IDs)"
   ]
  },
  {
   "cell_type": "code",
   "execution_count": null,
   "metadata": {},
   "outputs": [],
   "source": [
    "def directionplay(half,teamid):\n",
    "    gk_df=germany_team_meta_df.loc[germany_team_meta_df['PlayingPositionGerman']=='Torwart']\n",
    "    gks=gk_df['ObjectId']\n",
    "    if half == 1:\n",
    "        for items in gks.iteritems():\n",
    "            if items[1] in str(positions.columns):\n",
    "                gkpos=positions.loc[(slice(10000,50000),),(slice(None),items[1],['X','Y'])]\n",
    "                if gkpos[teamid,items[1],'X'].mean() < 0:\n",
    "                    dirofplay = 'left to right'\n",
    "                    print(dirofplay)\n",
    "                else:\n",
    "                    dirofplay = 'right to left'\n",
    "                    print(dirofplay)\n",
    "    else:\n",
    "        for items in gks.iteritems():\n",
    "            if items[1] in str(positions.columns):\n",
    "                gkpos=positions.loc[(slice(10000,77674),),(slice(None),items[1],['X','Y'])]\n",
    "                if gkpos[teamid,items[1],'X'].mean() < 0:\n",
    "                    dirofplay = 'right to left'\n",
    "                    print(dirofplay)\n",
    "                else:\n",
    "                    dirofplay = 'left to right'\n",
    "                    print(dirofplay)"
   ]
  },
  {
   "cell_type": "code",
   "execution_count": null,
   "metadata": {},
   "outputs": [],
   "source": [
    "half={} # frames der kickoff zeiten in frames\n",
    "for i in kickoffs:\n",
    "    if i != 0:\n",
    "        framedif=kpimergednew.iloc[i].N -kpimergednew.iloc[i-2].N\n",
    "        if framedif > 10000:\n",
    "            half['2nd half']=kpimergednew.iloc[i].N\n",
    "    else:\n",
    "        half['1st half']=kpimergednew.iloc[i].N"
   ]
  },
  {
   "cell_type": "code",
   "execution_count": 8,
   "metadata": {},
   "outputs": [
    {
     "data": {
      "text/html": [
       "<h1>Packing horizontal/vertikal</h1>"
      ],
      "text/plain": [
       "<IPython.core.display.HTML object>"
      ]
     },
     "metadata": {},
     "output_type": "display_data"
    }
   ],
   "source": [
    "display(HTML('<h1>Packing horizontal/vertikal</h1>'))"
   ]
  },
  {
   "cell_type": "code",
   "execution_count": null,
   "metadata": {},
   "outputs": [],
   "source": [
    "i=74\n",
    "passdf=kpimergednew[(kpimergednew['SUBTYPE']=='Pass') & (kpimergednew['EVALUATION']=='successfullyComplete')]\n",
    "passdf.reset_index(drop=True)\n",
    "CUID1=passdf.CUID.unique()[0]\n",
    "CUID2=passdf.CUID.unique()[1]\n",
    "CUID=passdf.iloc[i,:].CUID\n",
    "PUID1=passdf.iloc[i,:].PUID1\n",
    "PUID2=passdf.iloc[i,:].PUID2\n",
    "t1=int(passdf.iloc[i,:].N)\n",
    "t2=int(passdf.iloc[i,:].RECFRM)\n",
    "p1x=float(passdf.iloc[i,:].X_TRACKING)\n",
    "p2x=float(passdf.iloc[i,:].XRec)\n",
    "p1y=float(passdf.iloc[i,:].Y_TRACKING)\n",
    "p2y=float(passdf.iloc[i,:].YRec)\n",
    "if CUID == CUID1:\n",
    "    if directionplayframe(t1,CUID) == 'left to right':\n",
    "        moment1_h=np.count_nonzero(positions.loc[t1,(CUID2, slice(None), ['X'])]>p1x)\n",
    "        moment2_h=np.count_nonzero(positions.loc[t2,(CUID2, slice(None), ['X'])]>p2x)\n",
    "        moment1_v=np.count_nonzero(positions.loc[t1,(CUID2, slice(None), ['Y'])]>p1y)\n",
    "        moment2_v=np.count_nonzero(positions.loc[t2,(CUID2, slice(None), ['Y'])]>p2y)\n",
    "        pack_h=moment1_h-moment2_h\n",
    "        pack_v=moment1_v-moment2_v\n",
    "        print(pack_h)\n",
    "        print(pack_v)\n",
    "    else:\n",
    "        moment1_h=np.count_nonzero(positions.loc[t1,(CUID2, slice(None), ['X'])]<p1x)\n",
    "        moment2_h=np.count_nonzero(positions.loc[t2,(CUID2, slice(None), ['X'])]<p2x)\n",
    "        moment1_v=np.count_nonzero(positions.loc[t1,(CUID2, slice(None), ['Y'])]>p1y)\n",
    "        moment2_v=np.count_nonzero(positions.loc[t2,(CUID2, slice(None), ['Y'])]>p2y)\n",
    "        pack_h=moment1_h-moment2_h\n",
    "        pack_v=moment1_v-moment2_v\n",
    "        print(pack_h)\n",
    "        print(pack_v)\n",
    "if CUID == CUID2:\n",
    "    if directionplayframe(t1,CUID) =='left to right':\n",
    "        moment1_h=np.count_nonzero(positions.loc[t1,(CUID1, slice(None), ['X'])]>p1x)\n",
    "        moment2_h=np.count_nonzero(positions.loc[t2,(CUID1, slice(None), ['X'])]>p2x)\n",
    "        moment1_v=np.count_nonzero(positions.loc[t1,(CUID1, slice(None), ['Y'])]>p1y)\n",
    "        moment2_v=np.count_nonzero(positions.loc[t2,(CUID1, slice(None), ['Y'])]>p2y)\n",
    "        pack_h=moment1_h-moment2_h\n",
    "        pack_v=moment1_v-moment2_v\n",
    "        print(pack_h)\n",
    "        print(pack_v)\n",
    "    else:\n",
    "        moment1_h=np.count_nonzero(positions.loc[t1,(CUID1, slice(None), ['X'])]<p1x)\n",
    "        moment2_h=np.count_nonzero(positions.loc[t2,(CUID1, slice(None), ['X'])]<p2x)\n",
    "        moment1_v=np.count_nonzero(positions.loc[t1,(CUID1, slice(None), ['Y'])]>p1y)\n",
    "        moment2_v=np.count_nonzero(positions.loc[t2,(CUID1, slice(None), ['Y'])]>p2y)\n",
    "        pack_h=moment1_h-moment2_h\n",
    "        pack_v=moment1_v-moment2_v\n",
    "        print(pack_h)\n",
    "        print(pack_v)\n",
    "print(t1,t2)"
   ]
  },
  {
   "cell_type": "code",
   "execution_count": 9,
   "metadata": {},
   "outputs": [
    {
     "data": {
      "text/html": [
       "<h1>Pass 90 Grad in Spielrichtung</h1>"
      ],
      "text/plain": [
       "<IPython.core.display.HTML object>"
      ]
     },
     "metadata": {},
     "output_type": "display_data"
    }
   ],
   "source": [
    "display(HTML('<h1>Pass 90 Grad in Spielrichtung</h1>'))"
   ]
  },
  {
   "cell_type": "code",
   "execution_count": null,
   "metadata": {},
   "outputs": [],
   "source": [
    "i=80   ###90 Grad Spielrichtung\n",
    "passdf=kpimergednew[(kpimergednew['SUBTYPE']=='Pass') & (kpimergednew['EVALUATION']=='successfullyComplete')]\n",
    "passdf.reset_index(drop=True)\n",
    "CUID1=passdf.CUID.unique()[0]\n",
    "CUID2=passdf.CUID.unique()[1]\n",
    "CUID=passdf.iloc[i,:].CUID\n",
    "PUID1=passdf.iloc[i,:].PUID1\n",
    "PUID2=passdf.iloc[i,:].PUID2\n",
    "t1=int(passdf.iloc[i,:].N)\n",
    "t2=int(passdf.iloc[i,:].RECFRM)\n",
    "p1=np.array([float(passdf.iloc[i,:].X_TRACKING),float(passdf.iloc[i,:].Y_TRACKING)])\n",
    "p2=np.array([float(passdf.iloc[i,:].XRec),float(passdf.iloc[i,:].YRec)])\n",
    "if directionplayframe(t1,CUID) == 'left to right':\n",
    "    triangle=np.array([float(max(passdf.X_TRACKING)),float(passdf.iloc[i,:].Y_TRACKING)])\n",
    "    passline=p2-p1\n",
    "    passtor=triangle-p1\n",
    "    cosine_angle = np.dot(passline, passtor) / (np.linalg.norm(passline) * np.linalg.norm(passtor))\n",
    "    angle = np.arccos(cosine_angle)\n",
    "    print (np.degrees(angle))\n",
    "if directionplayframe(t1,CUID) == 'right to left':\n",
    "    triangle=np.array([float(min(passdf.X_TRACKING)),float(passdf.iloc[i,:].Y_TRACKING)])\n",
    "    passline=p2-p1\n",
    "    passtor=triangle-p1\n",
    "    cosine_angle = np.dot(passline, passtor) / (np.linalg.norm(passline) * np.linalg.norm(passtor))\n",
    "    angle = np.arccos(cosine_angle)\n",
    "    print (np.degrees(angle))"
   ]
  },
  {
   "cell_type": "code",
   "execution_count": 10,
   "metadata": {},
   "outputs": [
    {
     "data": {
      "text/html": [
       "<h1>Pass 90 Grad in Richtung Tormitte</h1>"
      ],
      "text/plain": [
       "<IPython.core.display.HTML object>"
      ]
     },
     "metadata": {},
     "output_type": "display_data"
    }
   ],
   "source": [
    "display(HTML('<h1>Pass 90 Grad in Richtung Tormitte</h1>'))"
   ]
  },
  {
   "cell_type": "code",
   "execution_count": null,
   "metadata": {},
   "outputs": [],
   "source": [
    "i=80  #90 Grad Spielrichtung Tormitte\n",
    "passdf=kpimergednew[(kpimergednew['SUBTYPE']=='Pass') & (kpimergednew['EVALUATION']=='successfullyComplete')]\n",
    "passdf.reset_index(drop=True)\n",
    "CUID1=passdf.CUID.unique()[0]\n",
    "CUID2=passdf.CUID.unique()[1]\n",
    "CUID=passdf.iloc[i,:].CUID\n",
    "PUID1=passdf.iloc[i,:].PUID1\n",
    "PUID2=passdf.iloc[i,:].PUID2\n",
    "t1=int(passdf.iloc[i,:].N)\n",
    "t2=int(passdf.iloc[i,:].RECFRM)\n",
    "p1=np.array([float(passdf.iloc[i,:].X_TRACKING),float(passdf.iloc[i,:].Y_TRACKING)])\n",
    "p2=np.array([float(passdf.iloc[i,:].XRec),float(passdf.iloc[i,:].YRec)])\n",
    "if directionplayframe(t1,CUID) == 'left to right':\n",
    "    triangle=np.array([float(max(passdf.X_TRACKING)),0])\n",
    "    passline=p2-p1\n",
    "    passtor=triangle-p1\n",
    "    cosine_angle = np.dot(passline, passtor) / (np.linalg.norm(passline) * np.linalg.norm(passtor))\n",
    "    angle = np.arccos(cosine_angle)\n",
    "    print (np.degrees(angle))\n",
    "if directionplayframe(t1,CUID) == 'right to left':\n",
    "    triangle=np.array([float(min(passdf.X_TRACKING)),0])\n",
    "    passline=p2-p1\n",
    "    passtor=triangle-p1\n",
    "    cosine_angle = np.dot(passline, passtor) / (np.linalg.norm(passline) * np.linalg.norm(passtor))\n",
    "    angle = np.arccos(cosine_angle)\n",
    "    print (np.degrees(angle))"
   ]
  }
 ],
 "metadata": {
  "kernelspec": {
   "display_name": "Python 3",
   "language": "python",
   "name": "python3"
  },
  "language_info": {
   "codemirror_mode": {
    "name": "ipython",
    "version": 3
   },
   "file_extension": ".py",
   "mimetype": "text/x-python",
   "name": "python",
   "nbconvert_exporter": "python",
   "pygments_lexer": "ipython3",
   "version": "3.7.4"
  }
 },
 "nbformat": 4,
 "nbformat_minor": 4
}
